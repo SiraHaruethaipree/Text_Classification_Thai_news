{
 "cells": [
  {
   "cell_type": "code",
   "execution_count": 1,
   "metadata": {},
   "outputs": [],
   "source": [
    "from selenium import webdriver\n",
    "from selenium.webdriver.common.keys import Keys\n",
    "from bs4 import BeautifulSoup\n",
    "import requests\n",
    "import pandas as pd\n",
    "import time"
   ]
  },
  {
   "cell_type": "code",
   "execution_count": 61,
   "metadata": {},
   "outputs": [],
   "source": [
    "driver = webdriver.Chrome(executable_path = \"chromedriver.exe\")"
   ]
  },
  {
   "cell_type": "code",
   "execution_count": 62,
   "metadata": {},
   "outputs": [],
   "source": [
    "driver.get(\"https://www.thaipbs.or.th/news/categories/politics/archive?page=1&section=politics\") #เปิดเว็ป url นั้นๆ"
   ]
  },
  {
   "cell_type": "code",
   "execution_count": 15,
   "metadata": {},
   "outputs": [
    {
     "data": {
      "text/plain": [
       "'<html lang=\"th\" class=\"show--consent\"><head><meta charset=\"utf-8\"><meta name=\"viewport\" content=\"width=device-width\"><link rel=\"icon\" href=\"/favicon.ico\"><script src=\"https://partner.googleadservices.com/gampad/cookie.js?domain=www.thaipbs.or.th&amp;callback=_gfp_s_&amp;client=ca-pub-9491275815290972\"></script><script async=\"\" src=\"https://mnjura.com/assets/recs/js/_brc.js\"></script><script async=\"\" src=\"https://mnjura.com/btm/bti.js?sid=418438fd-bf5d-41e0-af5d-5ca99c2023c2&amp;bid=0f1af428-89be-4fea-8170-c9c0e974209d\"></script><script async=\"\" src=\"https://www.clarity.ms/eus2-sc/s/0.7.6/clarity.js\"></script><script src=\"https://pagead2.googlesyndication.com/pagead/managed/js/adsense/m202303280101/show_ads_impl_fy2021.js?bust=31073508\" id=\"google_shimpl\"></script><script async=\"\" src=\"https://mnjura.com/assets/analytics/js/blish-analytic.js\"></script><script type=\"text/javascript\" async=\"\" src=\"https://www.googletagmanager.com/gtag/js?id=G-5D44Q9Q3LJ&amp;l=dataLayer&amp;cx=c\"></script><script type=\"text/javascript\" async=\"\" src=\"//lvs.truehits.in.th/dataa/s0029048.js\"></script><script async=\"\" src=\"https://www.clarity.ms/tag/bdqn64m8tb\"></script><script id=\"tag-manager\">(function(w,d,s,l,i){w[l]=w[l]||[];w[l].push({\\'gtm.start\\':new Date().getTime(),event:\\'gtm.js\\'});var f=d.getElementsByTagName(s)[0],j=d.createElement(s),dl=l!=\\'dataLayer\\'?\\'&l=\\'+l:\\'\\';j.async=true;j.src=\\'https://www.googletagmanager.com/gtm.js?id=\\'+i+dl;f.parentNode.insertBefore(j,f);})(window,document,\\'script\\',\\'dataLayer\\',\\'GTM-MX6HGM\\');</script><noscript><iframe title=\"no-script\" src=\"https://www.googletagmanager.com/ns.html?id=GTM-MX6HGM\" height=\"0\" width=\"0\" style=\"display:none;visibility:hidden\"></iframe></noscript><title>ข่าวการเมืองทั้งหมด | Thai PBS News ข่าวไทยพีบีเอส</title><meta name=\"robots\" content=\"index,follow\"><meta name=\"description\" content=\"ข่าวที่คุณวางใจ โดยสำนักข่าวไทยพีบีเอส ติดตามข่าวและสถานการณ์ทั้งในและต่างประเทศได้ที่นี่\"><meta name=\"twitter:card\" content=\"summary_large_image\"><meta name=\"twitter:site\" content=\"@thaipbs\"><meta property=\"fb:app_id\" content=\"299133566841790\"><meta property=\"og:title\" content=\"ข่าวการเมืองทั้งหมด | Thai PBS News ข่าวไทยพีบีเอส\"><meta property=\"og:description\" content=\"ข่าวที่คุณวางใจ โดยสำนักข่าวไทยพีบีเอส ติดตามข่าวและสถานการณ์ทั้งในและต่างประเทศได้ที่นี่\"><meta property=\"og:url\" content=\"https://www.thaipbs.or.th/categories/politics/archive\"><meta property=\"og:type\" content=\"website\"><meta property=\"og:image\" content=\"/static/images/social-media/home.png\"><meta property=\"og:image:width\" content=\"800\"><meta property=\"og:image:height\" content=\"600\"><meta property=\"og:locale\" content=\"th_TH\"><meta property=\"og:site_name\" content=\"Thai PBS\"><link rel=\"canonical\" href=\"https://www.thaipbs.or.th/categories/politics/archive\"><meta name=\"keywords\" content=\"thaipbs, ทีวีไทย, thaipbs, tpbs, ไทยพีบีเอส, รายการ, ผังรายการ,ผังรายเดือน ดูย้อนหลัง, คลิป, ข่าวล่าสุด, ข่าวยอดนิยม, รายการข่าว, กิจกรรมล่าสุด, ทันข่าวเด่น, รายการวิทยุ, รายการโทรทัศน์, ข่าว\"><meta property=\"fb:pages\" content=\"330743535084\"><meta property=\"twitter:title\" content=\"ข่าวการเมืองทั้งหมด | Thai PBS News ข่าวไทยพีบีเอส\"><meta property=\"twitter:description\" content=\"ข่าวที่คุณวางใจ โดยสำนักข่าวไทยพีบีเอส ติดตามข่าวและสถานการณ์ทั้งในและต่างประเทศได้ที่นี่\"><meta property=\"twitter:image\" content=\"/static/images/social-media/home.png\"><meta property=\"twitter:url\" content=\"https://www.thaipbs.or.th/categories/politics/archive\"><script type=\"application/ld+json\">{\"@context\":\"https://schema.org\",\"@type\":\"WebPage\",\"id\":\"https://www.thaipbs.or.th/categories/politics/archive\",\"name\":\"ข่าวการเมืองทั้งหมด | Thai PBS News ข่าวไทยพีบีเอส\",\"url\":\"https://www.thaipbs.or.th/categories/politics/archive\",\"description\":\"ข่าวที่คุณวางใจ โดยสำนักข่าวไทยพีบีเอส ติดตามข่าวและสถานการณ์ทั้งในและต่างประเทศได้ที่นี่\",\"publisher\":{\"@type\":\"Organization\",\"name\":\"Thai PBS\",\"url\":\"https://www.thaipbs.or.th/\",\"logo\":{\"@type\":\"ImageObject\",\"url\":\"https://org.thaipbs.or.th/images/logo/tpbs.png\"},\"sameAs\":[\"https://www.youtube.com/user/ThaiPBS\",\"https://www.facebook.com/ThaiPBS\",\"https://twitter.com/ThaiPBS\"],\"location\":{\"@type\":\"PostalAddress\",\"addressLocality\":\"Bangkok\",\"addressRegion\":\"BKK\"},\"inLanguage\":\"th-TH\",\"potentialAction\":{\"@type\":\"SearchAction\",\"target\":\"https://www.thaipbs.or.th/search?q={search_term_string}\",\"query-input\":\"required name=search_term_string\"}}}</script><meta charset=\"utf-8\"><meta name=\"viewport\" content=\"width=device-width\"><script src=\"https://mnjura.com/btm/bti.js?sid=418438fd-bf5d-41e0-af5d-5ca99c2023c2\" async=\"\" defer=\"\"></script><link rel=\"icon\" href=\"/favicon.ico\"><meta name=\"next-head-count\" content=\"29\"><link rel=\"preload\" href=\"/_next/static/css/662ede59c71d44f1.css\" as=\"style\"><link rel=\"stylesheet\" href=\"/_next/static/css/662ede59c71d44f1.css\" data-n-g=\"\"><noscript data-n-css=\"\"></noscript><script defer=\"\" nomodule=\"\" src=\"/_next/static/chunks/polyfills-c67a75d1b6f99dc8.js\"></script><script src=\"/_next/static/chunks/webpack-b1ad0ce3ca2c4f7b.js\" defer=\"\"></script><script src=\"/_next/static/chunks/framework-79bce4a3a540b080.js\" defer=\"\"></script><script src=\"/_next/static/chunks/main-0487409d7a4766a2.js\" defer=\"\"></script><script src=\"/_next/static/chunks/pages/_app-ff80fa3bf0087898.js\" defer=\"\"></script><script src=\"/_next/static/chunks/pages/news/categories/%5Bsection%5D/archive-95fb1a5e719de9d6.js\" defer=\"\"></script><script src=\"/_next/static/thaipbs-lionhead-1abe1caf/_buildManifest.js\" defer=\"\"></script><script src=\"/_next/static/thaipbs-lionhead-1abe1caf/_ssgManifest.js\" defer=\"\"></script><style data-styled=\"active\" data-styled-version=\"5.3.6\"></style><link as=\"script\" rel=\"prefetch\" href=\"/_next/static/chunks/5749-a248502b599003d1.js\"><link as=\"script\" rel=\"prefetch\" href=\"/_next/static/chunks/8819-c30ffd40b6d203c3.js\"><link as=\"script\" rel=\"prefetch\" href=\"/_next/static/chunks/8528-ac61f3fde1f31ed2.js\"><link as=\"script\" rel=\"prefetch\" href=\"/_next/static/chunks/9273-88f237ab91efafff.js\"><link as=\"script\" rel=\"prefetch\" href=\"/_next/static/chunks/pages/home-a54d6aa77543a63f.js\"><link as=\"script\" rel=\"prefetch\" href=\"/_next/static/chunks/pages/%5BspecialPagePathName%5D-7513f3cc1eaa94bb.js\"><link as=\"script\" rel=\"prefetch\" href=\"/_next/static/chunks/pages/now-9ebb1083fdf8ac0d.js\"><link as=\"script\" rel=\"prefetch\" href=\"/_next/static/chunks/pages/news-74c72fb8fdb36a3d.js\"><link as=\"script\" rel=\"prefetch\" href=\"/_next/static/chunks/pages/news/categories-8296820b73b3c44d.js\"><link as=\"script\" rel=\"prefetch\" href=\"/_next/static/chunks/4544-e896f27f4d7ad9a9.js\"><link as=\"script\" rel=\"prefetch\" href=\"/_next/static/chunks/6698-474ea93bec7f31f5.js\"><link as=\"script\" rel=\"prefetch\" href=\"/_next/static/chunks/5037-beaaa4f974287ec6.js\"><link as=\"script\" rel=\"prefetch\" href=\"/_next/static/chunks/pages/news/archive-2d4896b7333962eb.js\"><link as=\"script\" rel=\"prefetch\" href=\"/_next/static/chunks/pages/program-9e8c30007342f491.js\"><link as=\"script\" rel=\"prefetch\" href=\"/_next/static/chunks/1057-0847bacfcc91a57b.js\"><link as=\"script\" rel=\"prefetch\" href=\"/_next/static/chunks/1721-7e748d42b73035ec.js\"><link as=\"script\" rel=\"prefetch\" href=\"/_next/static/chunks/5932-72109efa739c50fa.js\"><link as=\"script\" rel=\"prefetch\" href=\"/_next/static/chunks/pages/live-7e71cd9656215eb9.js\"><link as=\"script\" rel=\"prefetch\" href=\"/_next/static/chunks/pages/search-b2bf5c1952bd5286.js\"><link as=\"script\" rel=\"prefetch\" href=\"/_next/static/chunks/1986-4e10aaae026652b4.js\"><link as=\"script\" rel=\"prefetch\" href=\"/_next/static/chunks/pages/news/content/%5Bid%5D-612ad115e2871e7b.js\"><link as=\"script\" rel=\"prefetch\" href=\"/_next/static/chunks/pages/news/categories/%5Bsection%5D-167c20ed56490a96.js\"><meta http-equiv=\"origin-trial\" content=\"A0VQgOQvA+kwCj319NCwgf8+syUgEQ8/LLpB8RxxlRC3AkJ9xx8IAvVuQ/dcwy0ok7sGKufLLu6WhsXbQR9/UwwAAACFeyJvcmlnaW4iOiJodHRwczovL2RvdWJsZWNsaWNrLm5ldDo0NDMiLCJmZWF0dXJlIjoiUHJpdmFjeVNhbmRib3hBZHNBUElzIiwiZXhwaXJ5IjoxNjg4MDgzMTk5LCJpc1N1YmRvbWFpbiI6dHJ1ZSwiaXNUaGlyZFBhcnR5Ijp0cnVlfQ==\"><meta http-equiv=\"origin-trial\" content=\"A6kRo9zXJhOvsR4D/VeZ9CiApPAxnOGzBkW88d8eIt9ex2oOzlX+AoUk/BS50Y9Ysy2jwyHR49Mb7XwP+l9yygIAAACLeyJvcmlnaW4iOiJodHRwczovL2dvb2dsZXN5bmRpY2F0aW9uLmNvbTo0NDMiLCJmZWF0dXJlIjoiUHJpdmFjeVNhbmRib3hBZHNBUElzIiwiZXhwaXJ5IjoxNjg4MDgzMTk5LCJpc1N1YmRvbWFpbiI6dHJ1ZSwiaXNUaGlyZFBhcnR5Ijp0cnVlfQ==\"><meta http-equiv=\"origin-trial\" content=\"A3mbHZoS4VJtJ8j1aE8+Z9vaGf/oMV1eTNIWMrvGqWgNnOmvaxnRGliqKIZU2eiTzCj5Qpz8B1/UTTLuony5bAAAAACLeyJvcmlnaW4iOiJodHRwczovL2dvb2dsZXRhZ3NlcnZpY2VzLmNvbTo0NDMiLCJmZWF0dXJlIjoiUHJpdmFjeVNhbmRib3hBZHNBUElzIiwiZXhwaXJ5IjoxNjg4MDgzMTk5LCJpc1N1YmRvbWFpbiI6dHJ1ZSwiaXNUaGlyZFBhcnR5Ijp0cnVlfQ==\"><meta http-equiv=\"origin-trial\" content=\"As0hBNJ8h++fNYlkq8cTye2qDLyom8NddByiVytXGGD0YVE+2CEuTCpqXMDxdhOMILKoaiaYifwEvCRlJ/9GcQ8AAAB8eyJvcmlnaW4iOiJodHRwczovL2RvdWJsZWNsaWNrLm5ldDo0NDMiLCJmZWF0dXJlIjoiV2ViVmlld1hSZXF1ZXN0ZWRXaXRoRGVwcmVjYXRpb24iLCJleHBpcnkiOjE3MTk1MzI3OTksImlzU3ViZG9tYWluIjp0cnVlfQ==\"><meta http-equiv=\"origin-trial\" content=\"AgRYsXo24ypxC89CJanC+JgEmraCCBebKl8ZmG7Tj5oJNx0cmH0NtNRZs3NB5ubhpbX/bIt7l2zJOSyO64NGmwMAAACCeyJvcmlnaW4iOiJodHRwczovL2dvb2dsZXN5bmRpY2F0aW9uLmNvbTo0NDMiLCJmZWF0dXJlIjoiV2ViVmlld1hSZXF1ZXN0ZWRXaXRoRGVwcmVjYXRpb24iLCJleHBpcnkiOjE3MTk1MzI3OTksImlzU3ViZG9tYWluIjp0cnVlfQ==\"><script src=\"https://securepubads.g.doubleclick.net/gpt/pubads_impl_2023033001.js?cb=31073537\" async=\"\"></script><meta http-equiv=\"origin-trial\" content=\"A0VQgOQvA+kwCj319NCwgf8+syUgEQ8/LLpB8RxxlRC3AkJ9xx8IAvVuQ/dcwy0ok7sGKufLLu6WhsXbQR9/UwwAAACFeyJvcmlnaW4iOiJodHRwczovL2RvdWJsZWNsaWNrLm5ldDo0NDMiLCJmZWF0dXJlIjoiUHJpdmFjeVNhbmRib3hBZHNBUElzIiwiZXhwaXJ5IjoxNjg4MDgzMTk5LCJpc1N1YmRvbWFpbiI6dHJ1ZSwiaXNUaGlyZFBhcnR5Ijp0cnVlfQ==\"><meta http-equiv=\"origin-trial\" content=\"A6kRo9zXJhOvsR4D/VeZ9CiApPAxnOGzBkW88d8eIt9ex2oOzlX+AoUk/BS50Y9Ysy2jwyHR49Mb7XwP+l9yygIAAACLeyJvcmlnaW4iOiJodHRwczovL2dvb2dsZXN5bmRpY2F0aW9uLmNvbTo0NDMiLCJmZWF0dXJlIjoiUHJpdmFjeVNhbmRib3hBZHNBUElzIiwiZXhwaXJ5IjoxNjg4MDgzMTk5LCJpc1N1YmRvbWFpbiI6dHJ1ZSwiaXNUaGlyZFBhcnR5Ijp0cnVlfQ==\"><meta http-equiv=\"origin-trial\" content=\"A3mbHZoS4VJtJ8j1aE8+Z9vaGf/oMV1eTNIWMrvGqWgNnOmvaxnRGliqKIZU2eiTzCj5Qpz8B1/UTTLuony5bAAAAACLeyJvcmlnaW4iOiJodHRwczovL2dvb2dsZXRhZ3NlcnZpY2VzLmNvbTo0NDMiLCJmZWF0dXJlIjoiUHJpdmFjeVNhbmRib3hBZHNBUElzIiwiZXhwaXJ5IjoxNjg4MDgzMTk5LCJpc1N1YmRvbWFpbiI6dHJ1ZSwiaXNUaGlyZFBhcnR5Ijp0cnVlfQ==\"><meta http-equiv=\"origin-trial\" content=\"As0hBNJ8h++fNYlkq8cTye2qDLyom8NddByiVytXGGD0YVE+2CEuTCpqXMDxdhOMILKoaiaYifwEvCRlJ/9GcQ8AAAB8eyJvcmlnaW4iOiJodHRwczovL2RvdWJsZWNsaWNrLm5ldDo0NDMiLCJmZWF0dXJlIjoiV2ViVmlld1hSZXF1ZXN0ZWRXaXRoRGVwcmVjYXRpb24iLCJleHBpcnkiOjE3MTk1MzI3OTksImlzU3ViZG9tYWluIjp0cnVlfQ==\"><meta http-equiv=\"origin-trial\" content=\"AgRYsXo24ypxC89CJanC+JgEmraCCBebKl8ZmG7Tj5oJNx0cmH0NtNRZs3NB5ubhpbX/bIt7l2zJOSyO64NGmwMAAACCeyJvcmlnaW4iOiJodHRwczovL2dvb2dsZXN5bmRpY2F0aW9uLmNvbTo0NDMiLCJmZWF0dXJlIjoiV2ViVmlld1hSZXF1ZXN0ZWRXaXRoRGVwcmVjYXRpb24iLCJleHBpcnkiOjE3MTk1MzI3OTksImlzU3ViZG9tYWluIjp0cnVlfQ==\"><link rel=\"preload\" href=\"https://adservice.google.co.th/adsid/integrator.js?domain=www.thaipbs.or.th\" as=\"script\"><script type=\"text/javascript\" src=\"https://adservice.google.co.th/adsid/integrator.js?domain=www.thaipbs.or.th\"></script><link rel=\"preload\" href=\"https://adservice.google.com/adsid/integrator.js?domain=www.thaipbs.or.th\" as=\"script\"><script type=\"text/javascript\" src=\"https://adservice.google.com/adsid/integrator.js?domain=www.thaipbs.or.th\"></script><style id=\"cc--style\" type=\"text/css\">@import url(https://fonts.googleapis.com/css2?family=Sarabun&display=swap);:root{--cc-bg:#f9faff;--cc-text:#112954;--cc-btn-primary-bg:#3859d0;--cc-btn-primary-text:var(--cc-bg);--cc-btn-primary-hover-bg:#1d2e38;--cc-btn-secondary-bg:#dfe7f9;--cc-btn-secondary-text:var(--cc-text);--cc-btn-secondary-hover-bg:#c6d1ea;--cc-toggle-bg-off:#8fa8d6;--cc-toggle-bg-on:#3859d0;--cc-toggle-bg-readonly:#cbd8f1;--cc-toggle-knob-bg:#fff;--cc-toggle-knob-icon-color:#ecf2fa;--cc-block-text:var(--cc-text);--cc-cookie-category-block-bg:#ebeff9;--cc-cookie-category-block-bg-hover:#dbe5f9;--cc-section-border:#f1f3f5;--cc-cookie-table-border:#e1e7f3;--cc-overlay-bg:rgba(230, 235, 255, .85);--cc-webkit-scrollbar-bg:#ebeff9;--cc-webkit-scrollbar-bg-hover:#3859d0}.c_darkmode{--cc-bg:#181b1d;--cc-text:#d8e5ea;--cc-btn-primary-bg:#a6c4dd;--cc-btn-primary-text:#000;--cc-btn-primary-hover-bg:#c2dff7;--cc-btn-secondary-bg:#33383c;--cc-btn-secondary-text:var(--cc-text);--cc-btn-secondary-hover-bg:#3e454a;--cc-toggle-bg-off:#667481;--cc-toggle-bg-on:var(--cc-btn-primary-bg);--cc-toggle-bg-readonly:#454c54;--cc-toggle-knob-bg:var(--cc-cookie-category-block-bg);--cc-toggle-knob-icon-color:var(--cc-bg);--cc-block-text:#b3bfc5;--cc-cookie-category-block-bg:#23272a;--cc-cookie-category-block-bg-hover:#2b3035;--cc-section-border:#292d31;--cc-cookie-table-border:#2b3035;--cc-webkit-scrollbar-bg:#667481;--cc-webkit-scrollbar-bg-hover:#9199a0}.cc_div *,.cc_div :after,.cc_div :before{-webkit-box-sizing:border-box;box-sizing:border-box;float:none;font-family:Sarabun,sans-serif;font-style:inherit;font-variant:normal;font-weight:inherit;font-family:inherit;line-height:1.2;font-size:1em;transition:none;animation:none;margin:0;padding:0;text-transform:none;letter-spacing:unset;color:inherit;background:0 0;border:none;box-shadow:none;text-decoration:none;text-align:left;visibility:unset}.cc_div{font-family:Sarabun,sans-serif;font-size:16px;font-weight:400;-webkit-font-smoothing:antialiased;-moz-osx-font-smoothing:grayscale;text-rendering:optimizeLegibility;color:#2d4156;color:var(--cc-text)}#c-ttl,#s-bl td:before,#s-ttl,.cc_div .b-tl,.cc_div .c-bn{font-weight:600}#cm,#s-bl .act .b-acc,#s-inr,.cc_div .b-tl,.cc_div .c-bl{border-radius:.35em}#s-bl .act .b-acc{border-top-left-radius:0;border-top-right-radius:0}.cc_div a,.cc_div button,.cc_div input{-webkit-appearance:none;-moz-appearance:none;appearance:none}.cc_div a{border-bottom:1px solid}.cc_div a:hover{text-decoration:none;border-color:transparent}#cm-ov,#cs-ov,.c--anim #cm,.c--anim #s-cnt,.c--anim #s-inr{transition:visibility .25s linear,opacity .25s ease,transform .25s ease!important}.c--anim .c-bn{transition:background-color .25s ease!important}.c--anim #cm.bar.slide,.c--anim .bar.slide #s-inr{transition:visibility .4s ease,opacity .4s ease,transform .4s ease!important}.c--anim #cm.bar.slide+#cm-ov,.c--anim .bar.slide+#cs-ov{transition:visibility .4s ease,opacity .4s ease,transform .4s ease!important}#cm.bar.slide,.cc_div .bar.slide #s-inr{transform:translateX(100%);opacity:1}#cm.bar.top.slide,.cc_div .bar.left.slide #s-inr{transform:translateX(-100%);opacity:1}#cm.slide,.cc_div .slide #s-inr{transform:translateY(1.6em)}#cm.top.slide{transform:translateY(-1.6em)}#cm.bar.slide{transform:translateY(100%)}#cm.bar.top.slide{transform:translateY(-100%)}.show--consent .c--anim #cm,.show--consent .c--anim #cm.bar,.show--settings .c--anim #s-inr,.show--settings .c--anim .bar.slide #s-inr{opacity:1;transform:scale(1);visibility:visible!important}.show--consent .c--anim #cm.box.middle,.show--consent .c--anim #cm.cloud.middle{transform:scale(1) translateY(-50%)}.show--settings .c--anim #s-cnt{visibility:visible!important}.force--consent.show--consent .c--anim #cm-ov,.show--settings .c--anim #cs-ov{visibility:visible!important;opacity:1!important}#cm{font-family:inherit;padding:1.1em 1.8em 1.4em 1.8em;position:fixed;z-index:1;background:#fff;background:var(--cc-bg);max-width:24.2em;width:100%;bottom:1.25em;right:1.25em;box-shadow:0 .625em 1.875em #000;box-shadow:0 .625em 1.875em rgba(2,2,3,.28);opacity:0;visibility:hidden;transform:scale(.95);line-height:initial}#cc_div #cm{display:block!important}#c-ttl{display:grid;grid-template-columns:3fr 1fr;margin-bottom:.7em;font-size:1.05em}.cloud #c-ttl{margin-top:-.15em}#c-txt{font-size:.9em;line-height:1.5em}.cc_div #c-bns{display:flex;justify-content:space-between;margin-top:1.4em}.cc_div .c-bn{color:#40505a;color:var(--cc-btn-secondary-text);background:#e5ebef;background:var(--cc-btn-secondary-bg);padding:1em 1.7em;display:inline-block;cursor:pointer;font-size:.82em;-moz-user-select:none;-khtml-user-select:none;-webkit-user-select:none;-o-user-select:none;user-select:none;text-align:center;border-radius:4px;flex:1}#c-bns button+button,#s-c-bn,#s-cnt button+button{float:right;margin-left:1em}#s-cnt #s-rall-bn{float:none}#cm .c_link:active,#cm .c_link:hover,#s-c-bn:active,#s-c-bn:hover,#s-cnt button+button:active,#s-cnt button+button:hover{background:#d8e0e6;background:var(--cc-btn-secondary-hover-bg)}#s-cnt{position:fixed;top:0;left:0;width:100%;z-index:101;display:table;height:100%;visibility:hidden}#s-bl{outline:0}#s-bl .title{margin-top:1.4em}#s-bl .title:first-child{margin-top:0}#s-bl .b-bn{margin-top:0}#s-bl .b-acc .p{margin-top:0;padding:1em}#s-cnt .b-bn .b-tl{display:block;font-family:inherit;font-size:.95em;width:100%;position:relative;padding:1.3em 6.4em 1.3em 2.7em;background:0 0;transition:background-color .25s ease}#s-cnt .b-bn .b-tl.exp{cursor:pointer}#s-cnt .act .b-bn .b-tl{border-bottom-right-radius:0;border-bottom-left-radius:0}#s-cnt .b-bn .b-tl:active,#s-cnt .b-bn .b-tl:hover{background:#e9eff4;background:var(--cc-cookie-category-block-bg-hover)}#s-bl .b-bn{position:relative}#s-bl .c-bl{padding:1em;margin-bottom:.5em;border:1px solid #f1f3f5;border-color:var(--cc-section-border);transition:background-color .25s ease}#s-bl .c-bl:hover{background:#f0f4f7;background:var(--cc-cookie-category-block-bg)}#s-bl .c-bl:last-child{margin-bottom:.5em}#s-bl .c-bl:first-child{transition:none;padding:0;margin-top:0;border:none;margin-bottom:2em}#s-bl .c-bl:not(.b-ex):first-child:hover{background:0 0;background:unset}#s-bl .c-bl.b-ex{padding:0;border:none;background:#f0f4f7;background:var(--cc-cookie-category-block-bg);transition:none}#s-bl .c-bl.b-ex+.c-bl{margin-top:2em}#s-bl .c-bl.b-ex+.c-bl.b-ex{margin-top:0}#s-bl .c-bl.b-ex:first-child{margin-bottom:1em}#s-bl .c-bl.b-ex:first-child{margin-bottom:.5em}#s-bl .b-acc{max-height:0;overflow:hidden;padding-top:0;margin-bottom:0;display:none}#s-bl .act .b-acc{max-height:100%;display:block;overflow:hidden}#s-cnt .p{font-size:.9em;line-height:1.5em;margin-top:.85em;color:#2d4156;color:var(--cc-block-text)}.cc_div .b-tg .c-tgl:disabled{cursor:not-allowed}#c-vln{display:table-cell;vertical-align:middle;position:relative}#cs{padding:0 1.7em;width:100%;position:fixed;left:0;right:0;top:0;bottom:0;height:100%}#s-inr{height:100%;position:relative;max-width:45em;margin:0 auto;transform:scale(.96);opacity:0;padding-top:4.75em;padding-bottom:4.75em;position:relative;height:100%;overflow:hidden;visibility:hidden;box-shadow:rgba(3,6,9,.26) 0 13px 27px -5px}#s-bns,#s-hdr,#s-inr{background:#fff;background:var(--cc-bg)}#s-bl{overflow-y:auto;overflow-y:overlay;overflow-x:hidden;height:100%;padding:1.3em 2.1em;display:block;width:100%}#s-bns{position:absolute;bottom:0;left:0;right:0;padding:1em 2.1em;border-top:1px solid #f1f3f5;border-color:var(--cc-section-border);height:4.75em}.cc_div .cc-link{color:#253b48;color:var(--cc-btn-primary-bg);border-bottom:1px solid #253b48;border-color:var(--cc-btn-primary-bg);display:inline;padding-bottom:0;text-decoration:none;cursor:pointer;font-weight:600}.cc_div .cc-link:active,.cc_div .cc-link:hover{border-color:transparent}#c-bns button:first-child,#s-bns button:first-child{color:#fff;color:var(--cc-btn-primary-text);background:#253b48;background:var(--cc-btn-primary-bg)}#c-bns.swap button:first-child{color:#40505a;color:var(--cc-btn-secondary-text);background:#e5ebef;background:var(--cc-btn-secondary-bg)}#c-bns.swap button:last-child{color:#fff;color:var(--cc-btn-primary-text);background:#253b48;background:var(--cc-btn-primary-bg)}.cc_div .b-tg .c-tgl:checked~.c-tg{background:#253b48;background:var(--cc-toggle-bg-on)}#c-bns button:first-child:active,#c-bns button:first-child:hover,#c-bns.swap button:last-child:active,#c-bns.swap button:last-child:hover,#s-bns button:first-child:active,#s-bns button:first-child:hover{background:#1d2e38;background:var(--cc-btn-primary-hover-bg)}#c-bns.swap button:first-child:active,#c-bns.swap button:first-child:hover{background:#d8e0e6;background:var(--cc-btn-secondary-hover-bg)}#s-hdr{position:absolute;top:0;width:100%;display:table;padding:0 2.1em;height:4.75em;vertical-align:middle;z-index:2;border-bottom:1px solid #f1f3f5;border-color:var(--cc-section-border)}#s-ttl{display:table-cell;vertical-align:middle;font-size:1em}#s-c-bn{padding:0;width:1.7em;height:1.7em;font-size:1.45em;margin:0;font-weight:initial;position:relative}#s-c-bnc{display:table-cell;vertical-align:middle}.cc_div span.t-lb{position:absolute;top:0;z-index:-1;opacity:0;pointer-events:none;overflow:hidden}#c_policy__text{height:31.25em;overflow-y:auto;margin-top:1.25em}#c-s-in{position:relative;transform:translateY(-50%);top:50%;height:100%;height:calc(100% - 2.5em);max-height:37.5em}@media screen and (min-width:688px){#s-bl::-webkit-scrollbar{width:.9em;height:100%;background:0 0;border-radius:0 .25em .25em 0}#s-bl::-webkit-scrollbar-thumb{border:.25em solid var(--cc-bg);background:#cfd5db;background:var(--cc-webkit-scrollbar-bg);border-radius:100em}#s-bl::-webkit-scrollbar-thumb:hover{background:#9199a0;background:var(--cc-webkit-scrollbar-bg-hover)}#s-bl::-webkit-scrollbar-button{width:10px;height:5px}}.cc_div .b-tg{position:absolute;right:0;top:0;bottom:0;display:inline-block;margin:auto;right:1.2em;cursor:pointer;-webkit-user-select:none;-moz-user-select:none;-ms-user-select:none;user-select:none;vertical-align:middle}.cc_div .b-tg .c-tgl{position:absolute;cursor:pointer;display:block;top:0;left:0;margin:0;border:0}.cc_div .b-tg .c-tg{position:absolute;background:#919ea6;background:var(--cc-toggle-bg-off);transition:background-color .25s ease,box-shadow .25s ease;pointer-events:none}.cc_div .b-tg,.cc_div .b-tg .c-tg,.cc_div .b-tg .c-tgl,.cc_div span.t-lb{width:3.4em;height:1.5em;border-radius:4em}.cc_div .b-tg .c-tg.c-ro{cursor:not-allowed}.cc_div .b-tg .c-tgl~.c-tg.c-ro{background:#d5dee2;background:var(--cc-toggle-bg-readonly)}.cc_div .b-tg .c-tgl~.c-tg.c-ro:after{box-shadow:none}.cc_div .b-tg .c-tg:after{content:\"\";position:relative;display:block;left:.125em;top:.125em;width:1.25em;height:1.25em;border:none;box-sizing:content-box;background:#fff;background:var(--cc-toggle-knob-bg);box-shadow:0 1px 2px rgba(24,32,35,.36);transition:transform .25s ease;border-radius:100%}.cc_div .b-tg .c-tgl:checked~.c-tg:after{transform:translateX(1.9em)}#s-bl table,#s-bl td,#s-bl th{border:none}#s-bl tbody tr{transition:background-color .25s ease}#s-bl tbody tr:hover{background:#e9eff4;background:var(--cc-cookie-category-block-bg-hover)}#s-bl table{text-align:left;border-collapse:collapse;width:100%;padding:0;margin:0;overflow:hidden}#s-bl td,#s-bl th{padding:.8em .625em;text-align:left;vertical-align:top;font-size:.8em;padding-left:1.2em}#s-bl th{font-family:inherit;padding:1.2em 1.2em}#s-bl thead tr:first-child{border-bottom:1px solid #e9edf2;border-color:var(--cc-cookie-table-border)}.force--consent #cs,.force--consent #s-cnt{width:100vw}#cm-ov,#cs-ov{position:fixed;left:0;right:0;top:0;bottom:0;visibility:hidden;opacity:0;background:#070707;background:rgba(4,6,8,.85);background:var(--cc-overlay-bg);display:none;transition:none}.c--anim #cs-ov,.force--consent .c--anim #cm-ov,.force--consent.show--consent #cm-ov,.show--settings #cs-ov{display:block}#cs-ov{z-index:2}.force--consent .cc_div{position:fixed;top:0;left:0;bottom:0;width:100%;width:100vw;visibility:hidden;transition:visibility .25s linear}.force--consent.show--consent .c--anim .cc_div,.force--consent.show--settings .c--anim .cc_div{visibility:visible}.force--consent #cm{position:absolute}.force--consent #cm.bar{width:100vw;max-width:100vw}html.force--consent.show--consent{overflow-y:hidden!important}html.force--consent.show--consent,html.force--consent.show--consent body{height:auto!important;overflow-x:hidden!important}.cc_div .act .b-bn .exp::before,.cc_div .b-bn .exp::before{border:solid #2d4156;border-color:var(--cc-btn-secondary-text);border-width:0 2px 2px 0;padding:.2em;display:inline-block;position:absolute;content:\\'\\';margin-right:15px;position:absolute;transform:translateY(-50%) rotate(45deg);left:1.2em;top:50%}.cc_div .act .b-bn .b-tl::before{transform:translateY(-20%) rotate(225deg)}.cc_div .on-i::before{border:solid #fff;border-color:var(--cc-toggle-knob-icon-color);border-width:0 2px 2px 0;padding:.1em;display:inline-block;padding-bottom:.45em;content:\\'\\';margin:0 auto;transform:rotate(45deg);top:.37em;left:.75em;position:absolute}#s-c-bn::after,#s-c-bn::before{content:\\'\\';position:absolute;left:.82em;top:.58em;height:.6em;width:1.5px;background:#444d53;background:var(--cc-btn-secondary-text);transform:rotate(45deg);border-radius:1em;margin:0 auto}#s-c-bn::after{transform:rotate(-45deg)}.cc_div .off-i,.cc_div .on-i{height:100%;width:50%;position:absolute;right:0;display:block;text-align:center;transition:opacity .15s ease}.cc_div .on-i{left:0;opacity:0}.cc_div .off-i::after,.cc_div .off-i::before{right:.8em;top:.42em;content:\\' \\';height:.7em;width:.09375em;display:block;background:#cdd6dc;background:var(--cc-toggle-knob-icon-color);margin:0 auto;position:absolute;transform-origin:center}.cc_div .off-i::before{transform:rotate(45deg)}.cc_div .off-i::after{transform:rotate(-45deg)}.cc_div .b-tg .c-tgl:checked~.c-tg .on-i{opacity:1}.cc_div .b-tg .c-tgl:checked~.c-tg .off-i{opacity:0}#cm.box.middle,#cm.cloud.middle{top:50%;transform:translateY(-37%);bottom:auto}#cm.box.middle.zoom,#cm.cloud.middle.zoom{transform:scale(.95) translateY(-50%)}#cm.box.center{left:1em;right:1em;margin:0 auto}#cm.cloud{max-width:50em;margin:0 auto;text-align:center;left:1em;right:1em;overflow:hidden;padding:1.3em 2em;width:unset}.cc_div .cloud #c-inr{display:table;width:100%}.cc_div .cloud #c-inr-i{width:70%;display:table-cell;vertical-align:top;padding-right:2.4em}.cc_div .cloud #c-txt{font-size:.85em}.cc_div .cloud #c-bns{min-width:170px;display:table-cell;vertical-align:middle}#cm.cloud .c-bn{margin:.625em 0 0 0;width:100%}#cm.cloud .c-bn:first-child{margin:0}#cm.cloud.left{margin-right:1.25em}#cm.cloud.right{margin-left:1.25em}#cm.bar{width:100%;max-width:100%;left:0;right:0;bottom:0;border-radius:0;position:fixed;padding:2em}#cm.bar #c-inr{margin:0 auto}#cm.bar #c-bns{max-width:33.75em;margin:0 auto;margin-top:1.2em}#cm.bar #cs{padding:0}.cc_div .bar #c-s-in{top:0;transform:none;height:100%;max-height:100%}.cc_div .bar #s-bl,.cc_div .bar #s-bns,.cc_div .bar #s-hdr{padding-left:1.6em;padding-right:1.6em}.cc_div .bar #cs{padding:0}.cc_div .bar #s-inr{margin:0;margin-left:auto;margin-right:0;border-radius:0;max-width:32em}.cc_div .bar.left #s-inr{margin-left:0;margin-right:auto}.cc_div .bar #s-bl table,.cc_div .bar #s-bl tbody,.cc_div .bar #s-bl td,.cc_div .bar #s-bl th,.cc_div .bar #s-bl thead,.cc_div .bar #s-bl tr,.cc_div .bar #s-cnt{display:block}.cc_div .bar #s-bl thead tr{position:absolute;top:-9999px;left:-9999px}.cc_div .bar #s-bl tr{border-top:1px solid #e3e7ed;border-color:var(--cc-cookie-table-border)}.cc_div .bar #s-bl td{border:none;position:relative;padding-left:35%}.cc_div .bar #s-bl td:before{position:absolute;left:1em;padding-right:.625em;white-space:nowrap;content:attr(data-column);color:#000;color:var(--cc-text);overflow:hidden;text-overflow:ellipsis}#cm.top{bottom:auto;top:1.25em}#cm.left{right:auto;left:1.25em}#cm.right{left:auto;right:1.25em}#cm.bar.left,#cm.bar.right{left:0;right:0}#cm.bar.top{top:0}@media screen and (max-width:688px){#cm,#cm.cloud,#cm.left,#cm.right{width:auto;max-width:100%;margin:0;padding:1.4em!important;right:1em;left:1em;bottom:1em;display:block}.force--consent #cm,.force--consent #cm.cloud{width:auto;max-width:100vw}#cm.top{top:1em;bottom:auto}#cm.bottom{bottom:1em;top:auto}#cm.bar.bottom{bottom:0}#cm.cloud .c-bn{font-size:.85em;margin:0 .5em 0 .5em}#s-bns,.cc_div .bar #s-bns{padding:1em 1.3em}.cc_div .bar #s-inr{max-width:100%;width:100%}.cc_div .cloud #c-inr-i{padding-right:0}#cs{border-radius:0;padding:0}#c-s-in{max-height:100%;height:100%;top:0;transform:none}.cc_div .b-tg{transform:scale(1.1);right:1.1em}#s-inr{margin:0;padding-bottom:7.9em;border-radius:0}#s-bns{height:7.9em}#s-bl,.cc_div .bar #s-bl{padding:1.3em}#s-hdr,.cc_div .bar #s-hdr{padding:0 1.3em}#s-bl table{width:100%}#s-inr.bns-t{padding-bottom:10.5em}.bns-t #s-bns{height:10.5em}.cc_div .bns-t .c-bn{font-size:.83em;padding:.9em 1.6em}#s-cnt .b-bn .b-tl{padding-top:1.2em;padding-bottom:1.2em}#s-bl table,#s-bl tbody,#s-bl td,#s-bl th,#s-bl thead,#s-bl tr,#s-cnt{display:block}#s-bl thead tr{position:absolute;top:-9999px;left:-9999px}#s-bl tr{border-top:1px solid #e3e7ed;border-color:var(--cc-cookie-table-border)}#s-bl td{border:none;position:relative;padding-left:35%}#s-bl td:before{position:absolute;left:1em;padding-right:.625em;white-space:nowrap;content:attr(data-column);color:#000;color:var(--cc-text);overflow:hidden;text-overflow:ellipsis}#cm .c-bn,.cc_div .c-bn{padding:.7em 1em;width:100%;margin-right:0}#s-cnt #s-rall-bn{margin-left:0}.cc_div #c-bns{display:flex;justify-content:space-between}#s-cnt button+button{margin-top:.625em;margin-left:0;float:unset}#cm.box,#cm.cloud{left:1em;right:1em;width:auto}#cm.cloud.left,#cm.cloud.right{margin:0}.cc_div .cloud #c-inr,.cc_div .cloud #c-inr-i{display:block;width:auto;min-width:unset}.cc_div .cloud #c-txt{font-size:.9em}.cc_div .cloud #c-bns{display:flex;margin:.7em 0 0 0}}.cc_div.ie #c-vln{height:100%;padding-top:5.62em}.cc_div.ie .bar #c-vln{padding-top:0}.cc_div.ie #cs{max-height:37.5em;position:relative;top:0;margin-top:-5.625em}.cc_div.ie .bar #cs{margin-top:0;max-height:100%}.cc_div.ie #cm{border:1px solid #dee6e9}.cc_div.ie #c-s-in{top:0}.cc_div.ie .b-tg{padding-left:1em;margin-bottom:.7em}.cc_div.ie .b-tg .c-tgl:checked~.c-tg:after{left:1.95em}.cc_div.ie #s-bl table{overflow:auto}.cc_div.ie .b-tg .c-tg{display:none}.cc_div.ie .b-tg .c-tgl{position:relative;display:inline-block;vertical-align:middle;margin-bottom:.2em;height:auto}.cc_div.ie #s-cnt .b-bn .b-tl{padding:1.3em 6.4em 1.3em 1.4em}.cc_div.ie .bar #s-bl td:before{display:none}.cc_div.ie .bar #s-bl td{padding:.8em .625em .8em 1.2em}.cc_div.ie .bar #s-bl thead tr{position:relative}@media screen and (max-width:688px){#desc-box{font-size:.9em;display:-webkit-box;-webkit-line-clamp:3!important;-webkit-box-orient:vertical!important;text-overflow:ellipsis;position:relative;overflow:hidden}.d-none-mobile{display:none}.c-bn{font-size:.68em!important}.font-sm-mobile{font-size:.9em}}</style></head><body style=\"overflow: auto; padding-right: 0px;\" class=\"light\"><div id=\"__next\" data-reactroot=\"\"><nav id=\"navbar\" class=\"Navbarstyle__NavbarContainer-sc-esm9g7-0 kNLoxd\" style=\"transition: background-color 0.2s ease-in-out 0s;\"><div class=\"Navbarstyle__Container-sc-esm9g7-1 hqpkVD\"><div class=\"Navbarstyle__LogoContainer-sc-esm9g7-2 iGiVOo\"><a title=\"Thai PBS\" href=\"/home\"><img srcset=\"\\n                  data:image/png;base64,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 1x,\\n                  data:image/png;base64,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 2x\" src=\"data:image/png;base64,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\" alt=\"Thai PBS\" width=\"98\" height=\"38\" class=\"Navbarstyle__Logo-sc-esm9g7-5 gNvBbZ\"></a></div><div class=\"Navbarstyle__TopMenuContainer-sc-esm9g7-3 Qgsuj\"><a title=\"องค์กร\" target=\"_blank\" href=\"https://org.thaipbs.or.th/\" class=\"Navbarstyle__TopMenuItem-sc-esm9g7-4 lfpPoe\">องค์กร</a><a title=\"ข้อมูลสาธารณะ/ITA\" target=\"_blank\" href=\"https://ita.thaipbs.or.th/\" class=\"Navbarstyle__TopMenuItem-sc-esm9g7-4 lfpPoe\">ข้อมูลสาธารณะ/ITA</a><a title=\"รับเรื่องร้องเรียน\" target=\"_blank\" href=\"https://www.thaipbs.or.th/complaint\" class=\"Navbarstyle__TopMenuItem-sc-esm9g7-4 lfpPoe\">รับเรื่องร้องเรียน</a><a title=\"English\" target=\"_blank\" href=\"https://en.thaipbs.or.th/\" class=\"Navbarstyle__TopMenuItem-sc-esm9g7-4 lfpPoe\">English</a></div></div><div class=\"Navbarstyle__MainNav-sc-esm9g7-6 iLjVAU\"><div class=\"Navbarstyle__Container-sc-esm9g7-1 hqpkVD\"><div class=\"Navbarstyle__NavItemsContainer-sc-esm9g7-7 byfSqM\"><div><a title=\"หน้าหลัก\" style=\"text-decoration:none\" target=\"_self\" rel=\"\" href=\"/home\"><div title=\"หน้าหลัก\" class=\"Navbarstyle__NavItem-sc-esm9g7-8 laGFMa\">หน้าหลัก</div></a></div><div><a title=\"NOW\" style=\"text-decoration:none\" target=\"_self\" rel=\"\" href=\"/now\"><div title=\"NOW\" class=\"Navbarstyle__NavItem-sc-esm9g7-8 laGFMa\">NOW</div></a></div><div><div class=\"Navbarstyle__SubmenuContainer-sc-esm9g7-10 jENVFe\"><a title=\"ข่าว\" style=\"text-decoration:none\" target=\"_self\" rel=\"\" href=\"/news\"><div title=\"ข่าว\" class=\"Navbarstyle__NavItem-sc-esm9g7-8 kvCaGQ\">ข่าว</div></a><a style=\"text-decoration:none\" rel=\"\" href=\"/news\"><div title=\"ข่าวเด่น\" class=\"Navbarstyle__SubmenuItem-sc-esm9g7-11 jfXkbj\">ข่าวเด่น</div></a><a style=\"text-decoration:none\" rel=\"\" href=\"/news/categories\"><div title=\"หมวดข่าว\" class=\"Navbarstyle__SubmenuItem-sc-esm9g7-11 jfXkbj\">หมวดข่าว</div></a><a style=\"text-decoration:none\" rel=\"\" href=\"/news/archive\"><div title=\"ข่าวรอบวัน\" class=\"Navbarstyle__SubmenuItem-sc-esm9g7-11 jfXkbj\">ข่าวรอบวัน</div></a></div></div><div><a title=\"รายการ\" style=\"text-decoration:none\" target=\"_self\" rel=\"\" href=\"/program\"><div title=\"รายการ\" class=\"Navbarstyle__NavItem-sc-esm9g7-8 laGFMa\">รายการ</div></a></div><div><a title=\"ชมสด\" style=\"text-decoration:none\" target=\"_self\" rel=\"\" href=\"/live\"><div title=\"ชมสด\" class=\"Navbarstyle__NavItem-sc-esm9g7-8 jioTWK\">ชมสด</div></a></div><div><a title=\"เลือกตั้ง 66\" style=\"text-decoration:none\" target=\"_self\" rel=\"nofollow\" href=\"https://election66.thaipbs.or.th/\"><div title=\"เลือกตั้ง 66\" class=\"Navbarstyle__NavItem-sc-esm9g7-8 laGFMa\">เลือกตั้ง 66</div></a></div><div><a title=\"พอดคาสต์\" style=\"text-decoration:none\" target=\"_blank\" rel=\"\" href=\"https://www.thaipbspodcast.com/\"><div title=\"พอดคาสต์\" class=\"Navbarstyle__NavItem-sc-esm9g7-8 laGFMa\"><img srcset=\"\\n                  data:image/png;base64,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 1x,\\n                  data:image/svg+xml;base64,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 2x\" src=\"data:image/png;base64,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\" alt=\"พอดคาสต์\" width=\"50\" class=\"Navbarstyle__NavItemLogo-sc-esm9g7-9 dDrmvE\"></div></a></div><div><a title=\"ALTV\" style=\"text-decoration:none\" target=\"_blank\" rel=\"\" href=\"https://altv.tv\"><div title=\"ALTV\" class=\"Navbarstyle__NavItem-sc-esm9g7-8 dvhmjM\"><img srcset=\"\\n                  data:image/png;base64,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 1x,\\n                  data:image/png;base64,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 2x\" src=\"data:image/png;base64,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\" alt=\"ALTV\" width=\"40\" class=\"Navbarstyle__NavItemLogo-sc-esm9g7-9 dDrmvE\"></div></a></div><div><a title=\"VIPA\" style=\"text-decoration:none\" target=\"_blank\" rel=\"\" href=\"https://vipa.me\"><div title=\"VIPA\" class=\"Navbarstyle__NavItem-sc-esm9g7-8 laGFMa\"><img srcset=\"\\n                  data:image/png;base64,iVBORw0KGgoAAAANSUhEUgAAACkAAAAPCAYAAAB5lebdAAAACXBIWXMAAAsTAAALEwEAmpwYAAAAAXNSR0IArs4c6QAAAARnQU1BAACxjwv8YQUAAATySURBVHgBvVZrbFRFFD5n5ra73ZZ2K77CqyVGDBDwDxYIRK0CanwBaqjGRNAE1D9ulUJLKcvuFtotBAKiBF8VCf4giib+kRgU+IHUxthgDBgxdCkUiFCkj33cOw/P3N1b2gYjf+rJ3jtz5pyZ+c6Z78xdhFuUzIFp0xhYKzVnSzlnBcDwnEa2y3q6vRVGWfBWnJz9Mxo06igycmcMgCNgrgXOvreebH8URlGsUDgcDEj9igZ8GLSeoBF7CcBnMu0/GJ+6m9vo36uEfAYJkHajUvRi1FeAiN2OlK/BKIsVULqDNi8DAwHNj1olH7kjcGljRvjoRGEyMA0as2kfBArMoYBeKlja0QmjLGwcv3qoCFPDBqf7z8Hy2w+Xg1KTtTKgzaPA62v3kavzlv5yFP4HwWvby4N9dvDoX6pkZhJ8MMXfDcXWAMHP8S7HQ5ePhoOujlHfy7+FzQLdzfc9VsrTIdPXEmKB2sTxgfjExYyxVWZMCVinLVXJgS2kEFMFZYVV604+v4K2XnwDhr7KGP9OZJJfx+Px62akrr5hI2062wVpXtea7i7Pz/MdIY6V0fHmgMANcEOAXnRK23ZfXFSFUk5BzSsjJa2nBMJes44UqrIoXXw8VdT/O6nlVGyfFq7uWpHcMqmd9FmU/0OFNV2P163fcJL0GQQuQcQ+QxxyC4/qYkdzYyRUW7/hOUT4Qmt9nTCVGChQWnepU+j8ZVQ4dIyQO14YdsSmfyVTCB90Vc5mUp9FzfZIJ/Uekdb28uFHbhPANw1Aenpsx4kkd46fYABmEwbf1NfXT8wCpKAAY02x6AK369qVr7o6fBslaiulr5Mh/mqGmbdBSc0fbRlpvTUIVA8H2pMJwCcX5lMBWcbWpwRWtrS0nKcsS28NgcJHxuqc2mKCB2E96NklE4c1sx7ydAuxYl1DeB91uZmuLRb3B6CGgilXErYSAt8wkG5G1/65U2vckwWqB4FKifBR9zwYgOIck9nyeDzS6QLTwvHmK+RVZJxEs04Fas7Fs8j0szledRWvvniabEvcpGVlpVLqBdrtiC30nOzaei0ZE/48/JC0cW4wMEJsC2rzBJvDlLqfJrt3977LFZDkY829aK6gjcSbg54/VyiU90lAfNFlFlfLXSAHgKcSdP+6Fxf8EA6HA7bUC9zsIG7e3BhdP3Rv4mq7Gw/VBvllvHE2EmRpdeffXKQWm2jM2t9emwoJvMcFSOltbW6MRob6C1O/HkbQYyTo9wNvn//J6H2JsgqadKebZaW/zGSkOXr3ODjqr4auQ8f+Khju0r60U4ja+n8FaaSAuOQAW3asf7r6UczKAYSOfIuHRvoi45cpltPuo/UJpmCTZ7NQV3g2O9l3jL5atJirn4jFYj97ftu2bSsgelUZm0SMUYZ3MFD7ST9DvlduCtJISU1n21Fn1uvMBagTVChLIpFI70i/AMezttU71+5ncwMDXfM0cjdzenswKG37c2axJ9JKLgzSWNOm2C6q5qlS4RvGp65u81jTXurpKW/aFF0ktHqqpTH6cSgUDgrLwlQfPpDu7733P/9g1DU0xNKOs3d7c/OZm9n1rvFjUxm2gCrobEGyuCNV2LsqsOb8u8nmSfORC78QTDCuixSwwjFruu6iKW3EvZn5HFszjnzHl8e3pIWq9VusJSN1jbJxH/pUCV3+MxyhLtDVPPkfXNdOV9XR40oAAAAASUVORK5CYII= 1x,\\n                  data:image/png;base64,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 2x\" src=\"data:image/png;base64,iVBORw0KGgoAAAANSUhEUgAAACkAAAAPCAYAAAB5lebdAAAACXBIWXMAAAsTAAALEwEAmpwYAAAAAXNSR0IArs4c6QAAAARnQU1BAACxjwv8YQUAAATySURBVHgBvVZrbFRFFD5n5ra73ZZ2K77CqyVGDBDwDxYIRK0CanwBaqjGRNAE1D9ulUJLKcvuFtotBAKiBF8VCf4giib+kRgU+IHUxthgDBgxdCkUiFCkj33cOw/P3N1b2gYjf+rJ3jtz5pyZ+c6Z78xdhFuUzIFp0xhYKzVnSzlnBcDwnEa2y3q6vRVGWfBWnJz9Mxo06igycmcMgCNgrgXOvreebH8URlGsUDgcDEj9igZ8GLSeoBF7CcBnMu0/GJ+6m9vo36uEfAYJkHajUvRi1FeAiN2OlK/BKIsVULqDNi8DAwHNj1olH7kjcGljRvjoRGEyMA0as2kfBArMoYBeKlja0QmjLGwcv3qoCFPDBqf7z8Hy2w+Xg1KTtTKgzaPA62v3kavzlv5yFP4HwWvby4N9dvDoX6pkZhJ8MMXfDcXWAMHP8S7HQ5ePhoOujlHfy7+FzQLdzfc9VsrTIdPXEmKB2sTxgfjExYyxVWZMCVinLVXJgS2kEFMFZYVV604+v4K2XnwDhr7KGP9OZJJfx+Px62akrr5hI2062wVpXtea7i7Pz/MdIY6V0fHmgMANcEOAXnRK23ZfXFSFUk5BzSsjJa2nBMJes44UqrIoXXw8VdT/O6nlVGyfFq7uWpHcMqmd9FmU/0OFNV2P163fcJL0GQQuQcQ+QxxyC4/qYkdzYyRUW7/hOUT4Qmt9nTCVGChQWnepU+j8ZVQ4dIyQO14YdsSmfyVTCB90Vc5mUp9FzfZIJ/Uekdb28uFHbhPANw1Aenpsx4kkd46fYABmEwbf1NfXT8wCpKAAY02x6AK369qVr7o6fBslaiulr5Mh/mqGmbdBSc0fbRlpvTUIVA8H2pMJwCcX5lMBWcbWpwRWtrS0nKcsS28NgcJHxuqc2mKCB2E96NklE4c1sx7ydAuxYl1DeB91uZmuLRb3B6CGgilXErYSAt8wkG5G1/65U2vckwWqB4FKifBR9zwYgOIck9nyeDzS6QLTwvHmK+RVZJxEs04Fas7Fs8j0szledRWvvniabEvcpGVlpVLqBdrtiC30nOzaei0ZE/48/JC0cW4wMEJsC2rzBJvDlLqfJrt3977LFZDkY829aK6gjcSbg54/VyiU90lAfNFlFlfLXSAHgKcSdP+6Fxf8EA6HA7bUC9zsIG7e3BhdP3Rv4mq7Gw/VBvllvHE2EmRpdeffXKQWm2jM2t9emwoJvMcFSOltbW6MRob6C1O/HkbQYyTo9wNvn//J6H2JsgqadKebZaW/zGSkOXr3ODjqr4auQ8f+Khju0r60U4ja+n8FaaSAuOQAW3asf7r6UczKAYSOfIuHRvoi45cpltPuo/UJpmCTZ7NQV3g2O9l3jL5atJirn4jFYj97ftu2bSsgelUZm0SMUYZ3MFD7ST9DvlduCtJISU1n21Fn1uvMBagTVChLIpFI70i/AMezttU71+5ncwMDXfM0cjdzenswKG37c2axJ9JKLgzSWNOm2C6q5qlS4RvGp65u81jTXurpKW/aFF0ktHqqpTH6cSgUDgrLwlQfPpDu7733P/9g1DU0xNKOs3d7c/OZm9n1rvFjUxm2gCrobEGyuCNV2LsqsOb8u8nmSfORC78QTDCuixSwwjFruu6iKW3EvZn5HFszjnzHl8e3pIWq9VusJSN1jbJxH/pUCV3+MxyhLtDVPPkfXNdOV9XR40oAAAAASUVORK5CYII=\" alt=\"VIPA\" width=\"52\" class=\"Navbarstyle__NavItemLogo-sc-esm9g7-9 dDrmvE\"></div></a></div></div><div class=\"Navbarstyle__NavButtonsContainer-sc-esm9g7-12 BPjBq\"><a aria-label=\"ค้นหา\" href=\"/search\" class=\"Navbarstyle__SearchIconContainer-sc-esm9g7-13 eGzGXW\"><span class=\"Navbarstyle__ButtonText-sc-esm9g7-16 nyTGr\">ค้นหา</span><svg aria-hidden=\"true\" focusable=\"false\" data-prefix=\"far\" data-icon=\"search\" class=\"svg-inline--fa fa-search fa-w-16 \" role=\"img\" xmlns=\"http://www.w3.org/2000/svg\" viewBox=\"0 0 512 512\"><path fill=\"currentColor\" d=\"M508.5 468.9L387.1 347.5c-2.3-2.3-5.3-3.5-8.5-3.5h-13.2c31.5-36.5 50.6-84 50.6-136C416 93.1 322.9 0 208 0S0 93.1 0 208s93.1 208 208 208c52 0 99.5-19.1 136-50.6v13.2c0 3.2 1.3 6.2 3.5 8.5l121.4 121.4c4.7 4.7 12.3 4.7 17 0l22.6-22.6c4.7-4.7 4.7-12.3 0-17zM208 368c-88.4 0-160-71.6-160-160S119.6 48 208 48s160 71.6 160 160-71.6 160-160 160z\"></path></svg></a><button aria-label=\"เปิดหรือปิดเมนู\" class=\"Navbarstyle__HamburgerContainer-sc-esm9g7-14 eXZYxB\"><span class=\"Navbarstyle__ButtonTextHamburger-sc-esm9g7-17 emSVVB\">เมนู</span><div class=\"Navbarstyle__HamburgerIcon-sc-esm9g7-15 BcBam\"><span></span><span></span><span></span></div></button></div></div></div></nav><div class=\"Navbarstyle__NavbarPadding-sc-esm9g7-22 gvEhCt\"></div><header class=\"PageHeaderLayoutAstyle__Container-sc-1fa5ls7-1 ktMaJD full-width-container\"><div class=\"PageHeaderLayoutAstyle__ImageContainer-sc-1fa5ls7-2 gdNwde\"><div class=\"PageHeaderLayoutAstyle__ImageWrapper-sc-1fa5ls7-4 bNbcGk\"><div class=\"PageHeaderLayoutAstyle__CoverImage-sc-1fa5ls7-5 boSVTM\"></div><div class=\"PageHeaderLayoutAstyle__Overlay-sc-1fa5ls7-3 dslxcc\"></div></div><div class=\"PageHeaderLayoutAstyle__LayoutContainer-sc-1fa5ls7-0 jRFcdf\"><div class=\"PageHeaderLayoutAstyle__ContentHolder-sc-1fa5ls7-6 fJtsTw\"><h1 class=\"PageHeaderLayoutAstyle__Title-sc-1fa5ls7-7 gtTVAm\">การเมือง</h1></div></div></div></header><div class=\"GlobalStylestyle__Container-sc-9og0mv-2 debjKt\"><section class=\"GlobalStylestyle__SectionWrapper-sc-9og0mv-3 jRCFuU\"><div class=\"ContentCardVerticalListstyle__Container-sc-1p9c2y-0 fobThz\"><div class=\"Titlestyle__TitleContainer-sc-q2otwr-0 gnuteL title-container\"><div class=\"Titlestyle__TitleWrapper-sc-q2otwr-1 kBPynp\"><div class=\"Titlestyle__Line-sc-q2otwr-2 cBKDnh\"></div><div class=\"Titlestyle__TextWrapper-sc-q2otwr-3 fzYkVA\"><h2 class=\"Titlestyle__TitleText-sc-q2otwr-4 cIFipS\">ข่าวทั้งหมด</h2></div></div></div><div class=\"ContentCardVerticalListstyle__ListContainer-sc-1p9c2y-1 RfqxG list-container\"><article class=\"ContentCardstyle__Container-sc-odesfa-0 jeUWbG\"><div class=\"ContentCardstyle__CoverImageWrapper-sc-odesfa-1 dSuwlI cover-image-wrapper\"><div class=\"CoverImagestyle__Container-sc-1z0u8gm-0 JuXXR\"><a title=\"&quot;โรม&quot; นำทีมว่าที่ผู้สมัคร ส.ส.นครศรีฯ ทั้ง 10 เขต มั่นใจปักธงส้มได้แน่\" href=\"/news/content/326248\" class=\"CoverImagestyle__LinkOverlay-sc-1z0u8gm-2 jYzZpa\"></a><div class=\"CoverImagestyle__TransparentLayer-sc-1z0u8gm-1 dJDQP\"></div><div class=\"CoverImagestyle__RankingImgContainer-sc-1z0u8gm-14 iaOXtq\"></div><div class=\"CoverImagestyle__WatchedProgressBar-sc-1z0u8gm-9 cLWNmZ\"><div class=\"CoverImagestyle__WatchedProgress-sc-1z0u8gm-10 jNUigs\"></div></div><div class=\"CoverImagestyle__ImageContainer-sc-1z0u8gm-3 ekjtZT cover-image\"><span class=\"image-container\"><picture><img alt=\"&quot;โรม&quot; นำทีมว่าที่ผู้สมัคร ส.ส.นครศรีฯ ทั้ง 10 เขต มั่นใจปักธงส้มได้แน่\" height=\"100%\" src=\"https://news.thaipbs.or.th/media/G0DL5oPyrtt5HBAivUvT5WIzS24OXIju9K08fnmPhJ2mFQkDTf6MyR.jpg\" width=\"100%\"></picture></span></div></div></div><div class=\"ContentCardstyle__InformationContainer-sc-odesfa-2 dAwFrV information-container\"><div class=\"ContentInformationLayoutAstyle__Container-sc-1ut12ee-0 chsKqA\"><a title=\"&quot;โรม&quot; นำทีมว่าที่ผู้สมัคร ส.ส.นครศรีฯ ทั้ง 10 เขต มั่นใจปักธงส้มได้แน่\" target=\"_self\" href=\"/news/content/326248\" class=\"ContentInformationLayoutAstyle__Anchor-sc-1ut12ee-14 fokZKG\"><h3 class=\"ContentInformationLayoutAstyle__Title-sc-1ut12ee-2 eLgGKX content-information-title\">\"โรม\" นำทีมว่าที่ผู้สมัคร ส.ส.นครศรีฯ ทั้ง 10 เขต มั่นใจปักธงส้มได้แน่</h3></a><div class=\"ContentInformationLayoutAstyle__Footer-sc-1ut12ee-11 eDUdKk content-information-footer\"><div class=\"ContentInformationLayoutAstyle__DateContainer-sc-1ut12ee-4 kIypfr\"><span class=\"ContentInformationLayoutAstyle__IconContainer-sc-1ut12ee-6 jUIUQc\"><svg aria-hidden=\"true\" focusable=\"false\" data-prefix=\"far\" data-icon=\"clock\" class=\"svg-inline--fa fa-clock fa-w-16 \" role=\"img\" xmlns=\"http://www.w3.org/2000/svg\" viewBox=\"0 0 512 512\"><path fill=\"currentColor\" d=\"M256 8C119 8 8 119 8 256s111 248 248 248 248-111 248-248S393 8 256 8zm0 448c-110.5 0-200-89.5-200-200S145.5 56 256 56s200 89.5 200 200-89.5 200-200 200zm61.8-104.4l-84.9-61.7c-3.1-2.3-4.9-5.9-4.9-9.7V116c0-6.6 5.4-12 12-12h32c6.6 0 12 5.4 12 12v141.7l66.8 48.6c5.4 3.9 6.5 11.4 2.6 16.8L334.6 349c-3.9 5.3-11.4 6.5-16.8 2.6z\"></path></svg></span><span class=\"ContentInformationLayoutAstyle__DateText-sc-1ut12ee-5 irZwZv\">44 นาทีที่แล้ว</span></div><a title=\"การเมือง\" target=\"_blank\" href=\"/news/categories/politics\" class=\"ContentInformationLayoutAstyle__CategoryLink-sc-1ut12ee-7 jXpFAw\">การเมือง</a></div></div></div></article><article class=\"ContentCardstyle__Container-sc-odesfa-0 jeUWbG\"><div class=\"ContentCardstyle__CoverImageWrapper-sc-odesfa-1 dSuwlI cover-image-wrapper\"><div class=\"CoverImagestyle__Container-sc-1z0u8gm-0 JuXXR\"><a title=\"&quot;พิธา&quot; นำทีมผู้สมัคร ส.ส. 33 เขต กทม.ขึ้นรถปราศรัยหลังจับเบอร์\" href=\"/news/content/326244\" class=\"CoverImagestyle__LinkOverlay-sc-1z0u8gm-2 jYzZpa\"></a><div class=\"CoverImagestyle__TransparentLayer-sc-1z0u8gm-1 dJDQP\"></div><div class=\"CoverImagestyle__RankingImgContainer-sc-1z0u8gm-14 iaOXtq\"></div><div class=\"CoverImagestyle__WatchedProgressBar-sc-1z0u8gm-9 cLWNmZ\"><div class=\"CoverImagestyle__WatchedProgress-sc-1z0u8gm-10 jNUigs\"></div></div><div class=\"CoverImagestyle__ImageContainer-sc-1z0u8gm-3 ekjtZT cover-image\"><span class=\"image-container\"><picture><img alt=\"&quot;พิธา&quot; นำทีมผู้สมัคร ส.ส. 33 เขต กทม.ขึ้นรถปราศรัยหลังจับเบอร์\" height=\"100%\" src=\"https://news.thaipbs.or.th/media/G0DL5oPyrtt5HBAivUvT5WGodaeD1mBX02nLpaNvLneBALdG0OSlyw.jpg\" width=\"100%\"></picture></span></div></div></div><div class=\"ContentCardstyle__InformationContainer-sc-odesfa-2 dAwFrV information-container\"><div class=\"ContentInformationLayoutAstyle__Container-sc-1ut12ee-0 chsKqA\"><a title=\"&quot;พิธา&quot; นำทีมผู้สมัคร ส.ส. 33 เขต กทม.ขึ้นรถปราศรัยหลังจับเบอร์\" target=\"_self\" href=\"/news/content/326244\" class=\"ContentInformationLayoutAstyle__Anchor-sc-1ut12ee-14 fokZKG\"><h3 class=\"ContentInformationLayoutAstyle__Title-sc-1ut12ee-2 eLgGKX content-information-title\">\"พิธา\" นำทีมผู้สมัคร ส.ส. 33 เขต กทม.ขึ้นรถปราศรัยหลังจับเบอร์</h3></a><div class=\"ContentInformationLayoutAstyle__Footer-sc-1ut12ee-11 eDUdKk content-information-footer\"><div class=\"ContentInformationLayoutAstyle__DateContainer-sc-1ut12ee-4 kIypfr\"><span class=\"ContentInformationLayoutAstyle__IconContainer-sc-1ut12ee-6 jUIUQc\"><svg aria-hidden=\"true\" focusable=\"false\" data-prefix=\"far\" data-icon=\"clock\" class=\"svg-inline--fa fa-clock fa-w-16 \" role=\"img\" xmlns=\"http://www.w3.org/2000/svg\" viewBox=\"0 0 512 512\"><path fill=\"currentColor\" d=\"M256 8C119 8 8 119 8 256s111 248 248 248 248-111 248-248S393 8 256 8zm0 448c-110.5 0-200-89.5-200-200S145.5 56 256 56s200 89.5 200 200-89.5 200-200 200zm61.8-104.4l-84.9-61.7c-3.1-2.3-4.9-5.9-4.9-9.7V116c0-6.6 5.4-12 12-12h32c6.6 0 12 5.4 12 12v141.7l66.8 48.6c5.4 3.9 6.5 11.4 2.6 16.8L334.6 349c-3.9 5.3-11.4 6.5-16.8 2.6z\"></path></svg></span><span class=\"ContentInformationLayoutAstyle__DateText-sc-1ut12ee-5 irZwZv\">59 นาทีที่แล้ว</span></div><a title=\"การเมือง\" target=\"_blank\" href=\"/news/categories/politics\" class=\"ContentInformationLayoutAstyle__CategoryLink-sc-1ut12ee-7 jXpFAw\">การเมือง</a></div></div></div></article><article class=\"ContentCardstyle__Container-sc-odesfa-0 jeUWbG\"><div class=\"ContentCardstyle__CoverImageWrapper-sc-odesfa-1 dSuwlI cover-image-wrapper\"><div class=\"CoverImagestyle__Container-sc-1z0u8gm-0 JuXXR\"><a title=\"&quot;บิ๊กตู่&quot; เปิดใจไม่ลงปาร์ตี้ลิสต์เหตุงานเยอะ อยู่ไม่ถึง 2 ปีมี &quot;พีระพันธุ์&quot;ตัวแทน\" href=\"/news/content/326247\" class=\"CoverImagestyle__LinkOverlay-sc-1z0u8gm-2 jYzZpa\"></a><div class=\"CoverImagestyle__TransparentLayer-sc-1z0u8gm-1 dJDQP\"></div><div class=\"CoverImagestyle__RankingImgContainer-sc-1z0u8gm-14 iaOXtq\"></div><div class=\"CoverImagestyle__WatchedProgressBar-sc-1z0u8gm-9 cLWNmZ\"><div class=\"CoverImagestyle__WatchedProgress-sc-1z0u8gm-10 jNUigs\"></div></div><div class=\"CoverImagestyle__ImageContainer-sc-1z0u8gm-3 ekjtZT cover-image\"><span class=\"image-container\"><picture><img alt=\"&quot;บิ๊กตู่&quot; เปิดใจไม่ลงปาร์ตี้ลิสต์เหตุงานเยอะ อยู่ไม่ถึง 2 ปีมี &quot;พีระพันธุ์&quot;ตัวแทน\" height=\"100%\" src=\"https://news.thaipbs.or.th/media/G0DL5oPyrtt5HBAivUvT5WEgVdD9nlOfvvgd3NeJofiVjpsb9JuoOi.jpg\" width=\"100%\"></picture></span></div></div></div><div class=\"ContentCardstyle__InformationContainer-sc-odesfa-2 dAwFrV information-container\"><div class=\"ContentInformationLayoutAstyle__Container-sc-1ut12ee-0 chsKqA\"><a title=\"&quot;บิ๊กตู่&quot; เปิดใจไม่ลงปาร์ตี้ลิสต์เหตุงานเยอะ อยู่ไม่ถึง 2 ปีมี &quot;พีระพันธุ์&quot;ตัวแทน\" target=\"_self\" href=\"/news/content/326247\" class=\"ContentInformationLayoutAstyle__Anchor-sc-1ut12ee-14 fokZKG\"><h3 class=\"ContentInformationLayoutAstyle__Title-sc-1ut12ee-2 eLgGKX content-information-title\">\"บิ๊กตู่\" เปิดใจไม่ลงปาร์ตี้ลิสต์เหตุงานเยอะ อยู่ไม่ถึง 2 ปีมี \"พีระพันธุ์\"ตัวแทน</h3></a><div class=\"ContentInformationLayoutAstyle__Footer-sc-1ut12ee-11 eDUdKk content-information-footer\"><div class=\"ContentInformationLayoutAstyle__DateContainer-sc-1ut12ee-4 kIypfr\"><span class=\"ContentInformationLayoutAstyle__IconContainer-sc-1ut12ee-6 jUIUQc\"><svg aria-hidden=\"true\" focusable=\"false\" data-prefix=\"far\" data-icon=\"clock\" class=\"svg-inline--fa fa-clock fa-w-16 \" role=\"img\" xmlns=\"http://www.w3.org/2000/svg\" viewBox=\"0 0 512 512\"><path fill=\"currentColor\" d=\"M256 8C119 8 8 119 8 256s111 248 248 248 248-111 248-248S393 8 256 8zm0 448c-110.5 0-200-89.5-200-200S145.5 56 256 56s200 89.5 200 200-89.5 200-200 200zm61.8-104.4l-84.9-61.7c-3.1-2.3-4.9-5.9-4.9-9.7V116c0-6.6 5.4-12 12-12h32c6.6 0 12 5.4 12 12v141.7l66.8 48.6c5.4 3.9 6.5 11.4 2.6 16.8L334.6 349c-3.9 5.3-11.4 6.5-16.8 2.6z\"></path></svg></span><span class=\"ContentInformationLayoutAstyle__DateText-sc-1ut12ee-5 irZwZv\">1 ชั่วโมงที่แล้ว</span></div><a title=\"การเมือง\" target=\"_blank\" href=\"/news/categories/politics\" class=\"ContentInformationLayoutAstyle__CategoryLink-sc-1ut12ee-7 jXpFAw\">การเมือง</a></div></div></div></article><article class=\"ContentCardstyle__Container-sc-odesfa-0 jeUWbG\"><div class=\"ContentCardstyle__CoverImageWrapper-sc-odesfa-1 dSuwlI cover-image-wrapper\"><div class=\"CoverImagestyle__Container-sc-1z0u8gm-0 JuXXR\"><a title=\"กกต.เตือน ส.ส. ได้เบอร์ &quot;อย่าแห่หาเสียง&quot; 7 เม.ย.ลุ้นศาลปมแบ่งเขต  \" href=\"/news/content/326245\" class=\"CoverImagestyle__LinkOverlay-sc-1z0u8gm-2 jYzZpa\"></a><div class=\"CoverImagestyle__TransparentLayer-sc-1z0u8gm-1 dJDQP\"></div><div class=\"CoverImagestyle__RankingImgContainer-sc-1z0u8gm-14 iaOXtq\"></div><div class=\"CoverImagestyle__WatchedProgressBar-sc-1z0u8gm-9 cLWNmZ\"><div class=\"CoverImagestyle__WatchedProgress-sc-1z0u8gm-10 jNUigs\"></div></div><div class=\"CoverImagestyle__ImageContainer-sc-1z0u8gm-3 ekjtZT cover-image\"><span class=\"image-container\"><picture><img alt=\"กกต.เตือน ส.ส. ได้เบอร์ &quot;อย่าแห่หาเสียง&quot; 7 เม.ย.ลุ้นศาลปมแบ่งเขต  \" height=\"100%\" src=\"https://news.thaipbs.or.th/media/G0DL5oPyrtt5HBAivUvT5WF8nGwZui23BcN4QOwG1TLEDk0H74QqXn.jpg\" width=\"100%\"></picture></span></div></div></div><div class=\"ContentCardstyle__InformationContainer-sc-odesfa-2 dAwFrV information-container\"><div class=\"ContentInformationLayoutAstyle__Container-sc-1ut12ee-0 chsKqA\"><a title=\"กกต.เตือน ส.ส. ได้เบอร์ &quot;อย่าแห่หาเสียง&quot; 7 เม.ย.ลุ้นศาลปมแบ่งเขต  \" target=\"_self\" href=\"/news/content/326245\" class=\"ContentInformationLayoutAstyle__Anchor-sc-1ut12ee-14 fokZKG\"><h3 class=\"ContentInformationLayoutAstyle__Title-sc-1ut12ee-2 eLgGKX content-information-title\">กกต.เตือน ส.ส. ได้เบอร์ \"อย่าแห่หาเสียง\" 7 เม.ย.ลุ้นศาลปมแบ่งเขต  </h3></a><div class=\"ContentInformationLayoutAstyle__Footer-sc-1ut12ee-11 eDUdKk content-information-footer\"><div class=\"ContentInformationLayoutAstyle__DateContainer-sc-1ut12ee-4 kIypfr\"><span class=\"ContentInformationLayoutAstyle__IconContainer-sc-1ut12ee-6 jUIUQc\"><svg aria-hidden=\"true\" focusable=\"false\" data-prefix=\"far\" data-icon=\"clock\" class=\"svg-inline--fa fa-clock fa-w-16 \" role=\"img\" xmlns=\"http://www.w3.org/2000/svg\" viewBox=\"0 0 512 512\"><path fill=\"currentColor\" d=\"M256 8C119 8 8 119 8 256s111 248 248 248 248-111 248-248S393 8 256 8zm0 448c-110.5 0-200-89.5-200-200S145.5 56 256 56s200 89.5 200 200-89.5 200-200 200zm61.8-104.4l-84.9-61.7c-3.1-2.3-4.9-5.9-4.9-9.7V116c0-6.6 5.4-12 12-12h32c6.6 0 12 5.4 12 12v141.7l66.8 48.6c5.4 3.9 6.5 11.4 2.6 16.8L334.6 349c-3.9 5.3-11.4 6.5-16.8 2.6z\"></path></svg></span><span class=\"ContentInformationLayoutAstyle__DateText-sc-1ut12ee-5 irZwZv\">2 ชั่วโมงที่แล้ว</span></div><a title=\"การเมือง\" target=\"_blank\" href=\"/news/categories/politics\" class=\"ContentInformationLayoutAstyle__CategoryLink-sc-1ut12ee-7 jXpFAw\">การเมือง</a></div></div></div></article><article class=\"ContentCardstyle__Container-sc-odesfa-0 jeUWbG\"><div class=\"ContentCardstyle__CoverImageWrapper-sc-odesfa-1 dSuwlI cover-image-wrapper\"><div class=\"CoverImagestyle__Container-sc-1z0u8gm-0 JuXXR\"><a title=\"“วราวุธ” มั่นใจในผลงาน อ้อนคนสุพรรณฯ ขอ 8 แสนเสียง\" href=\"/news/content/326246\" class=\"CoverImagestyle__LinkOverlay-sc-1z0u8gm-2 jYzZpa\"></a><div class=\"CoverImagestyle__TransparentLayer-sc-1z0u8gm-1 dJDQP\"></div><div class=\"CoverImagestyle__RankingImgContainer-sc-1z0u8gm-14 iaOXtq\"></div><div class=\"CoverImagestyle__WatchedProgressBar-sc-1z0u8gm-9 cLWNmZ\"><div class=\"CoverImagestyle__WatchedProgress-sc-1z0u8gm-10 jNUigs\"></div></div><div class=\"CoverImagestyle__ImageContainer-sc-1z0u8gm-3 ekjtZT cover-image\"><span class=\"image-container\"><picture><img alt=\"“วราวุธ” มั่นใจในผลงาน อ้อนคนสุพรรณฯ ขอ 8 แสนเสียง\" height=\"100%\" src=\"https://news.thaipbs.or.th/media/G0DL5oPyrtt5HBAivUvT5WFRKXbbj4U1ePVY5vFRkufjYe5pKCc4fp.jpg\" width=\"100%\"></picture></span></div></div></div><div class=\"ContentCardstyle__InformationContainer-sc-odesfa-2 dAwFrV information-container\"><div class=\"ContentInformationLayoutAstyle__Container-sc-1ut12ee-0 chsKqA\"><a title=\"“วราวุธ” มั่นใจในผลงาน อ้อนคนสุพรรณฯ ขอ 8 แสนเสียง\" target=\"_self\" href=\"/news/content/326246\" class=\"ContentInformationLayoutAstyle__Anchor-sc-1ut12ee-14 fokZKG\"><h3 class=\"ContentInformationLayoutAstyle__Title-sc-1ut12ee-2 eLgGKX content-information-title\">“วราวุธ” มั่นใจในผลงาน อ้อนคนสุพรรณฯ ขอ 8 แสนเสียง</h3></a><div class=\"ContentInformationLayoutAstyle__Footer-sc-1ut12ee-11 eDUdKk content-information-footer\"><div class=\"ContentInformationLayoutAstyle__DateContainer-sc-1ut12ee-4 kIypfr\"><span class=\"ContentInformationLayoutAstyle__IconContainer-sc-1ut12ee-6 jUIUQc\"><svg aria-hidden=\"true\" focusable=\"false\" data-prefix=\"far\" data-icon=\"clock\" class=\"svg-inline--fa fa-clock fa-w-16 \" role=\"img\" xmlns=\"http://www.w3.org/2000/svg\" viewBox=\"0 0 512 512\"><path fill=\"currentColor\" d=\"M256 8C119 8 8 119 8 256s111 248 248 248 248-111 248-248S393 8 256 8zm0 448c-110.5 0-200-89.5-200-200S145.5 56 256 56s200 89.5 200 200-89.5 200-200 200zm61.8-104.4l-84.9-61.7c-3.1-2.3-4.9-5.9-4.9-9.7V116c0-6.6 5.4-12 12-12h32c6.6 0 12 5.4 12 12v141.7l66.8 48.6c5.4 3.9 6.5 11.4 2.6 16.8L334.6 349c-3.9 5.3-11.4 6.5-16.8 2.6z\"></path></svg></span><span class=\"ContentInformationLayoutAstyle__DateText-sc-1ut12ee-5 irZwZv\">2 ชั่วโมงที่แล้ว</span></div><a title=\"การเมือง\" target=\"_blank\" href=\"/news/categories/politics\" class=\"ContentInformationLayoutAstyle__CategoryLink-sc-1ut12ee-7 jXpFAw\">การเมือง</a></div></div></div></article><article class=\"ContentCardstyle__Container-sc-odesfa-0 jeUWbG\"><div class=\"ContentCardstyle__CoverImageWrapper-sc-odesfa-1 dSuwlI cover-image-wrapper\"><div class=\"CoverImagestyle__Container-sc-1z0u8gm-0 JuXXR\"><a title=\"&quot;ขี่สกู๊ตเตอร์-สวมชุดนักรบโบราณ&quot; สีสันรับสมัครเลือกตั้ง2566\" href=\"/news/content/326242\" class=\"CoverImagestyle__LinkOverlay-sc-1z0u8gm-2 jYzZpa\"></a><div class=\"CoverImagestyle__TransparentLayer-sc-1z0u8gm-1 dJDQP\"></div><div class=\"CoverImagestyle__RankingImgContainer-sc-1z0u8gm-14 iaOXtq\"></div><div class=\"CoverImagestyle__WatchedProgressBar-sc-1z0u8gm-9 cLWNmZ\"><div class=\"CoverImagestyle__WatchedProgress-sc-1z0u8gm-10 jNUigs\"></div></div><div class=\"CoverImagestyle__ImageContainer-sc-1z0u8gm-3 ekjtZT cover-image\"><span class=\"image-container\"><picture><img alt=\"&quot;ขี่สกู๊ตเตอร์-สวมชุดนักรบโบราณ&quot; สีสันรับสมัครเลือกตั้ง2566\" height=\"100%\" src=\"https://news.thaipbs.or.th/media/G0DL5oPyrtt5HBAivUvT5WCQtMqnddo5rMRXpQzDXMxCbxfa7sxoOd.jpg\" width=\"100%\"></picture></span></div></div></div><div class=\"ContentCardstyle__InformationContainer-sc-odesfa-2 dAwFrV information-container\"><div class=\"ContentInformationLayoutAstyle__Container-sc-1ut12ee-0 chsKqA\"><a title=\"&quot;ขี่สกู๊ตเตอร์-สวมชุดนักรบโบราณ&quot; สีสันรับสมัครเลือกตั้ง2566\" target=\"_self\" href=\"/news/content/326242\" class=\"ContentInformationLayoutAstyle__Anchor-sc-1ut12ee-14 fokZKG\"><h3 class=\"ContentInformationLayoutAstyle__Title-sc-1ut12ee-2 eLgGKX content-information-title\">\"ขี่สกู๊ตเตอร์-สวมชุดนักรบโบราณ\" สีสันรับสมัครเลือกตั้ง2566</h3></a><div class=\"ContentInformationLayoutAstyle__Footer-sc-1ut12ee-11 eDUdKk content-information-footer\"><div class=\"ContentInformationLayoutAstyle__DateContainer-sc-1ut12ee-4 kIypfr\"><span class=\"ContentInformationLayoutAstyle__IconContainer-sc-1ut12ee-6 jUIUQc\"><svg aria-hidden=\"true\" focusable=\"false\" data-prefix=\"far\" data-icon=\"clock\" class=\"svg-inline--fa fa-clock fa-w-16 \" role=\"img\" xmlns=\"http://www.w3.org/2000/svg\" viewBox=\"0 0 512 512\"><path fill=\"currentColor\" d=\"M256 8C119 8 8 119 8 256s111 248 248 248 248-111 248-248S393 8 256 8zm0 448c-110.5 0-200-89.5-200-200S145.5 56 256 56s200 89.5 200 200-89.5 200-200 200zm61.8-104.4l-84.9-61.7c-3.1-2.3-4.9-5.9-4.9-9.7V116c0-6.6 5.4-12 12-12h32c6.6 0 12 5.4 12 12v141.7l66.8 48.6c5.4 3.9 6.5 11.4 2.6 16.8L334.6 349c-3.9 5.3-11.4 6.5-16.8 2.6z\"></path></svg></span><span class=\"ContentInformationLayoutAstyle__DateText-sc-1ut12ee-5 irZwZv\">3 ชั่วโมงที่แล้ว</span></div><a title=\"การเมือง\" target=\"_blank\" href=\"/news/categories/politics\" class=\"ContentInformationLayoutAstyle__CategoryLink-sc-1ut12ee-7 jXpFAw\">การเมือง</a></div></div></div></article><article class=\"ContentCardstyle__Container-sc-odesfa-0 jeUWbG\"><div class=\"ContentCardstyle__CoverImageWrapper-sc-odesfa-1 dSuwlI cover-image-wrapper\"><div class=\"CoverImagestyle__Container-sc-1z0u8gm-0 JuXXR\"><a title=\"&quot;ประยุทธ์&quot; ไม่กังวลเลือกตั้ง 66 พร้อมสู้ &quot;ประวิตร&quot; แบบการเมือง\" href=\"/news/content/326240\" class=\"CoverImagestyle__LinkOverlay-sc-1z0u8gm-2 jYzZpa\"></a><div class=\"CoverImagestyle__TransparentLayer-sc-1z0u8gm-1 dJDQP\"></div><div class=\"CoverImagestyle__RankingImgContainer-sc-1z0u8gm-14 iaOXtq\"></div><div class=\"CoverImagestyle__WatchedProgressBar-sc-1z0u8gm-9 cLWNmZ\"><div class=\"CoverImagestyle__WatchedProgress-sc-1z0u8gm-10 jNUigs\"></div></div><div class=\"CoverImagestyle__ImageContainer-sc-1z0u8gm-3 ekjtZT cover-image\"><span class=\"image-container\"><picture><img alt=\"&quot;ประยุทธ์&quot; ไม่กังวลเลือกตั้ง 66 พร้อมสู้ &quot;ประวิตร&quot; แบบการเมือง\" height=\"100%\" src=\"https://news.thaipbs.or.th/media/G0DL5oPyrtt5HBAivUvT5WDrUgXKcObSkqShIsfQ8s31ESHRoQS8Nn.jpg\" width=\"100%\"></picture></span></div></div></div><div class=\"ContentCardstyle__InformationContainer-sc-odesfa-2 dAwFrV information-container\"><div class=\"ContentInformationLayoutAstyle__Container-sc-1ut12ee-0 chsKqA\"><a title=\"&quot;ประยุทธ์&quot; ไม่กังวลเลือกตั้ง 66 พร้อมสู้ &quot;ประวิตร&quot; แบบการเมือง\" target=\"_self\" href=\"/news/content/326240\" class=\"ContentInformationLayoutAstyle__Anchor-sc-1ut12ee-14 fokZKG\"><h3 class=\"ContentInformationLayoutAstyle__Title-sc-1ut12ee-2 eLgGKX content-information-title\">\"ประยุทธ์\" ไม่กังวลเลือกตั้ง 66 พร้อมสู้ \"ประวิตร\" แบบการเมือง</h3></a><div class=\"ContentInformationLayoutAstyle__Footer-sc-1ut12ee-11 eDUdKk content-information-footer\"><div class=\"ContentInformationLayoutAstyle__DateContainer-sc-1ut12ee-4 kIypfr\"><span class=\"ContentInformationLayoutAstyle__IconContainer-sc-1ut12ee-6 jUIUQc\"><svg aria-hidden=\"true\" focusable=\"false\" data-prefix=\"far\" data-icon=\"clock\" class=\"svg-inline--fa fa-clock fa-w-16 \" role=\"img\" xmlns=\"http://www.w3.org/2000/svg\" viewBox=\"0 0 512 512\"><path fill=\"currentColor\" d=\"M256 8C119 8 8 119 8 256s111 248 248 248 248-111 248-248S393 8 256 8zm0 448c-110.5 0-200-89.5-200-200S145.5 56 256 56s200 89.5 200 200-89.5 200-200 200zm61.8-104.4l-84.9-61.7c-3.1-2.3-4.9-5.9-4.9-9.7V116c0-6.6 5.4-12 12-12h32c6.6 0 12 5.4 12 12v141.7l66.8 48.6c5.4 3.9 6.5 11.4 2.6 16.8L334.6 349c-3.9 5.3-11.4 6.5-16.8 2.6z\"></path></svg></span><span class=\"ContentInformationLayoutAstyle__DateText-sc-1ut12ee-5 irZwZv\">3 ชั่วโมงที่แล้ว</span></div><a title=\"การเมือง\" target=\"_blank\" href=\"/news/categories/politics\" class=\"ContentInformationLayoutAstyle__CategoryLink-sc-1ut12ee-7 jXpFAw\">การเมือง</a></div></div></div></article><article class=\"ContentCardstyle__Container-sc-odesfa-0 jeUWbG\"><div class=\"ContentCardstyle__CoverImageWrapper-sc-odesfa-1 dSuwlI cover-image-wrapper\"><div class=\"CoverImagestyle__Container-sc-1z0u8gm-0 JuXXR\"><a title=\"“ตรัง-ปัตตานี” รับสมัคร ส.ส.วันแรกคึกคัก “เด่น-ทวี” มาให้กำลังใจ\" href=\"/news/content/326243\" class=\"CoverImagestyle__LinkOverlay-sc-1z0u8gm-2 jYzZpa\"></a><div class=\"CoverImagestyle__TransparentLayer-sc-1z0u8gm-1 dJDQP\"></div><div class=\"CoverImagestyle__RankingImgContainer-sc-1z0u8gm-14 iaOXtq\"></div><div class=\"CoverImagestyle__WatchedProgressBar-sc-1z0u8gm-9 cLWNmZ\"><div class=\"CoverImagestyle__WatchedProgress-sc-1z0u8gm-10 jNUigs\"></div></div><div class=\"CoverImagestyle__ImageContainer-sc-1z0u8gm-3 ekjtZT cover-image\"><span class=\"image-container\"><picture><img alt=\"“ตรัง-ปัตตานี” รับสมัคร ส.ส.วันแรกคึกคัก “เด่น-ทวี” มาให้กำลังใจ\" height=\"100%\" src=\"https://news.thaipbs.or.th/media/G0DL5oPyrtt5HBAivUvT5WBvqV5dfGV7ZQoTLHHTu1EVijLa8Oy7xa.jpg\" width=\"100%\"></picture></span></div></div></div><div class=\"ContentCardstyle__InformationContainer-sc-odesfa-2 dAwFrV information-container\"><div class=\"ContentInformationLayoutAstyle__Container-sc-1ut12ee-0 chsKqA\"><a title=\"“ตรัง-ปัตตานี” รับสมัคร ส.ส.วันแรกคึกคัก “เด่น-ทวี” มาให้กำลังใจ\" target=\"_self\" href=\"/news/content/326243\" class=\"ContentInformationLayoutAstyle__Anchor-sc-1ut12ee-14 fokZKG\"><h3 class=\"ContentInformationLayoutAstyle__Title-sc-1ut12ee-2 eLgGKX content-information-title\">“ตรัง-ปัตตานี” รับสมัคร ส.ส.วันแรกคึกคัก “เด่น-ทวี” มาให้กำลังใจ</h3></a><div class=\"ContentInformationLayoutAstyle__Footer-sc-1ut12ee-11 eDUdKk content-information-footer\"><div class=\"ContentInformationLayoutAstyle__DateContainer-sc-1ut12ee-4 kIypfr\"><span class=\"ContentInformationLayoutAstyle__IconContainer-sc-1ut12ee-6 jUIUQc\"><svg aria-hidden=\"true\" focusable=\"false\" data-prefix=\"far\" data-icon=\"clock\" class=\"svg-inline--fa fa-clock fa-w-16 \" role=\"img\" xmlns=\"http://www.w3.org/2000/svg\" viewBox=\"0 0 512 512\"><path fill=\"currentColor\" d=\"M256 8C119 8 8 119 8 256s111 248 248 248 248-111 248-248S393 8 256 8zm0 448c-110.5 0-200-89.5-200-200S145.5 56 256 56s200 89.5 200 200-89.5 200-200 200zm61.8-104.4l-84.9-61.7c-3.1-2.3-4.9-5.9-4.9-9.7V116c0-6.6 5.4-12 12-12h32c6.6 0 12 5.4 12 12v141.7l66.8 48.6c5.4 3.9 6.5 11.4 2.6 16.8L334.6 349c-3.9 5.3-11.4 6.5-16.8 2.6z\"></path></svg></span><span class=\"ContentInformationLayoutAstyle__DateText-sc-1ut12ee-5 irZwZv\">3 ชั่วโมงที่แล้ว</span></div><a title=\"การเมือง\" target=\"_blank\" href=\"/news/categories/politics\" class=\"ContentInformationLayoutAstyle__CategoryLink-sc-1ut12ee-7 jXpFAw\">การเมือง</a></div></div></div></article><article class=\"ContentCardstyle__Container-sc-odesfa-0 jeUWbG\"><div class=\"ContentCardstyle__CoverImageWrapper-sc-odesfa-1 dSuwlI cover-image-wrapper\"><div class=\"CoverImagestyle__Container-sc-1z0u8gm-0 JuXXR\"><a title=\"&quot;เสรีพิศุทธ์&quot; ชูปราบโกง ดึงคนลงคะแนน &quot;เสรีรวมไทย&quot;\" href=\"/news/content/326241\" class=\"CoverImagestyle__LinkOverlay-sc-1z0u8gm-2 jYzZpa\"></a><div class=\"CoverImagestyle__TransparentLayer-sc-1z0u8gm-1 dJDQP\"></div><div class=\"CoverImagestyle__RankingImgContainer-sc-1z0u8gm-14 iaOXtq\"></div><div class=\"CoverImagestyle__WatchedProgressBar-sc-1z0u8gm-9 cLWNmZ\"><div class=\"CoverImagestyle__WatchedProgress-sc-1z0u8gm-10 jNUigs\"></div></div><div class=\"CoverImagestyle__ImageContainer-sc-1z0u8gm-3 ekjtZT cover-image\"><span class=\"image-container\"><picture><img alt=\"&quot;เสรีพิศุทธ์&quot; ชูปราบโกง ดึงคนลงคะแนน &quot;เสรีรวมไทย&quot;\" height=\"100%\" src=\"https://news.thaipbs.or.th/media/G0DL5oPyrtt5HBAivUvT5WC9Le8Fta7pTRazCWCrNmzwVX3hiIwDdv.jpg\" width=\"100%\"></picture></span></div></div></div><div class=\"ContentCardstyle__InformationContainer-sc-odesfa-2 dAwFrV information-container\"><div class=\"ContentInformationLayoutAstyle__Container-sc-1ut12ee-0 chsKqA\"><a title=\"&quot;เสรีพิศุทธ์&quot; ชูปราบโกง ดึงคนลงคะแนน &quot;เสรีรวมไทย&quot;\" target=\"_self\" href=\"/news/content/326241\" class=\"ContentInformationLayoutAstyle__Anchor-sc-1ut12ee-14 fokZKG\"><h3 class=\"ContentInformationLayoutAstyle__Title-sc-1ut12ee-2 eLgGKX content-information-title\">\"เสรีพิศุทธ์\" ชูปราบโกง ดึงคนลงคะแนน \"เสรีรวมไทย\"</h3></a><div class=\"ContentInformationLayoutAstyle__Footer-sc-1ut12ee-11 eDUdKk content-information-footer\"><div class=\"ContentInformationLayoutAstyle__DateContainer-sc-1ut12ee-4 kIypfr\"><span class=\"ContentInformationLayoutAstyle__IconContainer-sc-1ut12ee-6 jUIUQc\"><svg aria-hidden=\"true\" focusable=\"false\" data-prefix=\"far\" data-icon=\"clock\" class=\"svg-inline--fa fa-clock fa-w-16 \" role=\"img\" xmlns=\"http://www.w3.org/2000/svg\" viewBox=\"0 0 512 512\"><path fill=\"currentColor\" d=\"M256 8C119 8 8 119 8 256s111 248 248 248 248-111 248-248S393 8 256 8zm0 448c-110.5 0-200-89.5-200-200S145.5 56 256 56s200 89.5 200 200-89.5 200-200 200zm61.8-104.4l-84.9-61.7c-3.1-2.3-4.9-5.9-4.9-9.7V116c0-6.6 5.4-12 12-12h32c6.6 0 12 5.4 12 12v141.7l66.8 48.6c5.4 3.9 6.5 11.4 2.6 16.8L334.6 349c-3.9 5.3-11.4 6.5-16.8 2.6z\"></path></svg></span><span class=\"ContentInformationLayoutAstyle__DateText-sc-1ut12ee-5 irZwZv\">3 ชั่วโมงที่แล้ว</span></div><a title=\"การเมือง\" target=\"_blank\" href=\"/news/categories/politics\" class=\"ContentInformationLayoutAstyle__CategoryLink-sc-1ut12ee-7 jXpFAw\">การเมือง</a></div></div></div></article><article class=\"ContentCardstyle__Container-sc-odesfa-0 jeUWbG\"><div class=\"ContentCardstyle__CoverImageWrapper-sc-odesfa-1 dSuwlI cover-image-wrapper\"><div class=\"CoverImagestyle__Container-sc-1z0u8gm-0 JuXXR\"><a title=\"&quot;ไทยสร้างไทย&quot; ขอเป็นทางรอดให้ประเทศ-ยุติการเมือง 2 ขั้ว\" href=\"/news/content/326239\" class=\"CoverImagestyle__LinkOverlay-sc-1z0u8gm-2 jYzZpa\"></a><div class=\"CoverImagestyle__TransparentLayer-sc-1z0u8gm-1 dJDQP\"></div><div class=\"CoverImagestyle__RankingImgContainer-sc-1z0u8gm-14 iaOXtq\"></div><div class=\"CoverImagestyle__WatchedProgressBar-sc-1z0u8gm-9 cLWNmZ\"><div class=\"CoverImagestyle__WatchedProgress-sc-1z0u8gm-10 jNUigs\"></div></div><div class=\"CoverImagestyle__ImageContainer-sc-1z0u8gm-3 ekjtZT cover-image\"><span class=\"image-container\"><picture><img alt=\"&quot;ไทยสร้างไทย&quot; ขอเป็นทางรอดให้ประเทศ-ยุติการเมือง 2 ขั้ว\" height=\"100%\" src=\"https://news.thaipbs.or.th/media/G0DL5oPyrtt5HBAivUvT5lXEKxoJdkldKlDasUA36wAaiIQccWamgI.jpg\" width=\"100%\"></picture></span></div></div></div><div class=\"ContentCardstyle__InformationContainer-sc-odesfa-2 dAwFrV information-container\"><div class=\"ContentInformationLayoutAstyle__Container-sc-1ut12ee-0 chsKqA\"><a title=\"&quot;ไทยสร้างไทย&quot; ขอเป็นทางรอดให้ประเทศ-ยุติการเมือง 2 ขั้ว\" target=\"_self\" href=\"/news/content/326239\" class=\"ContentInformationLayoutAstyle__Anchor-sc-1ut12ee-14 fokZKG\"><h3 class=\"ContentInformationLayoutAstyle__Title-sc-1ut12ee-2 eLgGKX content-information-title\">\"ไทยสร้างไทย\" ขอเป็นทางรอดให้ประเทศ-ยุติการเมือง 2 ขั้ว</h3></a><div class=\"ContentInformationLayoutAstyle__Footer-sc-1ut12ee-11 eDUdKk content-information-footer\"><div class=\"ContentInformationLayoutAstyle__DateContainer-sc-1ut12ee-4 kIypfr\"><span class=\"ContentInformationLayoutAstyle__IconContainer-sc-1ut12ee-6 jUIUQc\"><svg aria-hidden=\"true\" focusable=\"false\" data-prefix=\"far\" data-icon=\"clock\" class=\"svg-inline--fa fa-clock fa-w-16 \" role=\"img\" xmlns=\"http://www.w3.org/2000/svg\" viewBox=\"0 0 512 512\"><path fill=\"currentColor\" d=\"M256 8C119 8 8 119 8 256s111 248 248 248 248-111 248-248S393 8 256 8zm0 448c-110.5 0-200-89.5-200-200S145.5 56 256 56s200 89.5 200 200-89.5 200-200 200zm61.8-104.4l-84.9-61.7c-3.1-2.3-4.9-5.9-4.9-9.7V116c0-6.6 5.4-12 12-12h32c6.6 0 12 5.4 12 12v141.7l66.8 48.6c5.4 3.9 6.5 11.4 2.6 16.8L334.6 349c-3.9 5.3-11.4 6.5-16.8 2.6z\"></path></svg></span><span class=\"ContentInformationLayoutAstyle__DateText-sc-1ut12ee-5 irZwZv\">3 ชั่วโมงที่แล้ว</span></div><a title=\"การเมือง\" target=\"_blank\" href=\"/news/categories/politics\" class=\"ContentInformationLayoutAstyle__CategoryLink-sc-1ut12ee-7 jXpFAw\">การเมือง</a></div></div></div></article><article class=\"ContentCardstyle__Container-sc-odesfa-0 jeUWbG\"><div class=\"ContentCardstyle__CoverImageWrapper-sc-odesfa-1 dSuwlI cover-image-wrapper\"><div class=\"CoverImagestyle__Container-sc-1z0u8gm-0 JuXXR\"><a title=\"ภท.ชูจุดแข็งนโยบายทำได้จริง พร้อมส่งผู้สมัครสู้ศึกเลือกตั้งสนาม กทม.\" href=\"/news/content/326238\" class=\"CoverImagestyle__LinkOverlay-sc-1z0u8gm-2 jYzZpa\"></a><div class=\"CoverImagestyle__TransparentLayer-sc-1z0u8gm-1 dJDQP\"></div><div class=\"CoverImagestyle__RankingImgContainer-sc-1z0u8gm-14 iaOXtq\"></div><div class=\"CoverImagestyle__WatchedProgressBar-sc-1z0u8gm-9 cLWNmZ\"><div class=\"CoverImagestyle__WatchedProgress-sc-1z0u8gm-10 jNUigs\"></div></div><div class=\"CoverImagestyle__ImageContainer-sc-1z0u8gm-3 ekjtZT cover-image\"><span class=\"image-container\"><picture><img alt=\"ภท.ชูจุดแข็งนโยบายทำได้จริง พร้อมส่งผู้สมัครสู้ศึกเลือกตั้งสนาม กทม.\" height=\"100%\" src=\"https://news.thaipbs.or.th/media/G0DL5oPyrtt5HBAivUvT5lX0snKR1703Dtszyt8H1eiU8beyyLERqa.jpg\" width=\"100%\"></picture></span></div></div></div><div class=\"ContentCardstyle__InformationContainer-sc-odesfa-2 dAwFrV information-container\"><div class=\"ContentInformationLayoutAstyle__Container-sc-1ut12ee-0 chsKqA\"><a title=\"ภท.ชูจุดแข็งนโยบายทำได้จริง พร้อมส่งผู้สมัครสู้ศึกเลือกตั้งสนาม กทม.\" target=\"_self\" href=\"/news/content/326238\" class=\"ContentInformationLayoutAstyle__Anchor-sc-1ut12ee-14 fokZKG\"><h3 class=\"ContentInformationLayoutAstyle__Title-sc-1ut12ee-2 eLgGKX content-information-title\">ภท.ชูจุดแข็งนโยบายทำได้จริง พร้อมส่งผู้สมัครสู้ศึกเลือกตั้งสนาม กทม.</h3></a><div class=\"ContentInformationLayoutAstyle__Footer-sc-1ut12ee-11 eDUdKk content-information-footer\"><div class=\"ContentInformationLayoutAstyle__DateContainer-sc-1ut12ee-4 kIypfr\"><span class=\"ContentInformationLayoutAstyle__IconContainer-sc-1ut12ee-6 jUIUQc\"><svg aria-hidden=\"true\" focusable=\"false\" data-prefix=\"far\" data-icon=\"clock\" class=\"svg-inline--fa fa-clock fa-w-16 \" role=\"img\" xmlns=\"http://www.w3.org/2000/svg\" viewBox=\"0 0 512 512\"><path fill=\"currentColor\" d=\"M256 8C119 8 8 119 8 256s111 248 248 248 248-111 248-248S393 8 256 8zm0 448c-110.5 0-200-89.5-200-200S145.5 56 256 56s200 89.5 200 200-89.5 200-200 200zm61.8-104.4l-84.9-61.7c-3.1-2.3-4.9-5.9-4.9-9.7V116c0-6.6 5.4-12 12-12h32c6.6 0 12 5.4 12 12v141.7l66.8 48.6c5.4 3.9 6.5 11.4 2.6 16.8L334.6 349c-3.9 5.3-11.4 6.5-16.8 2.6z\"></path></svg></span><span class=\"ContentInformationLayoutAstyle__DateText-sc-1ut12ee-5 irZwZv\">3 ชั่วโมงที่แล้ว</span></div><a title=\"การเมือง\" target=\"_blank\" href=\"/news/categories/politics\" class=\"ContentInformationLayoutAstyle__CategoryLink-sc-1ut12ee-7 jXpFAw\">การเมือง</a></div></div></div></article><article class=\"ContentCardstyle__Container-sc-odesfa-0 jeUWbG\"><div class=\"ContentCardstyle__CoverImageWrapper-sc-odesfa-1 dSuwlI cover-image-wrapper\"><div class=\"CoverImagestyle__Container-sc-1z0u8gm-0 JuXXR\"><a title=\"&quot;พิธา&quot; มั่นใจ 3 จุดแข็งช่วยคว้า 33 ที่นั่ง ส.ส.กทม.\" href=\"/news/content/326233\" class=\"CoverImagestyle__LinkOverlay-sc-1z0u8gm-2 jYzZpa\"></a><div class=\"CoverImagestyle__TransparentLayer-sc-1z0u8gm-1 dJDQP\"></div><div class=\"CoverImagestyle__RankingImgContainer-sc-1z0u8gm-14 iaOXtq\"></div><div class=\"CoverImagestyle__WatchedProgressBar-sc-1z0u8gm-9 cLWNmZ\"><div class=\"CoverImagestyle__WatchedProgress-sc-1z0u8gm-10 jNUigs\"></div></div><div class=\"CoverImagestyle__ImageContainer-sc-1z0u8gm-3 ekjtZT cover-image\"><span class=\"image-container\"><picture><img alt=\"&quot;พิธา&quot; มั่นใจ 3 จุดแข็งช่วยคว้า 33 ที่นั่ง ส.ส.กทม.\" height=\"100%\" src=\"https://news.thaipbs.or.th/media/G0DL5oPyrtt5HBAivUvT5lQWt7XE9HDhGMc2RWgBdlVoj4ZE1zTlzR.jpg\" width=\"100%\"></picture></span></div></div></div><div class=\"ContentCardstyle__InformationContainer-sc-odesfa-2 dAwFrV information-container\"><div class=\"ContentInformationLayoutAstyle__Container-sc-1ut12ee-0 chsKqA\"><a title=\"&quot;พิธา&quot; มั่นใจ 3 จุดแข็งช่วยคว้า 33 ที่นั่ง ส.ส.กทม.\" target=\"_self\" href=\"/news/content/326233\" class=\"ContentInformationLayoutAstyle__Anchor-sc-1ut12ee-14 fokZKG\"><h3 class=\"ContentInformationLayoutAstyle__Title-sc-1ut12ee-2 eLgGKX content-information-title\">\"พิธา\" มั่นใจ 3 จุดแข็งช่วยคว้า 33 ที่นั่ง ส.ส.กทม.</h3></a><div class=\"ContentInformationLayoutAstyle__Footer-sc-1ut12ee-11 eDUdKk content-information-footer\"><div class=\"ContentInformationLayoutAstyle__DateContainer-sc-1ut12ee-4 kIypfr\"><span class=\"ContentInformationLayoutAstyle__IconContainer-sc-1ut12ee-6 jUIUQc\"><svg aria-hidden=\"true\" focusable=\"false\" data-prefix=\"far\" data-icon=\"clock\" class=\"svg-inline--fa fa-clock fa-w-16 \" role=\"img\" xmlns=\"http://www.w3.org/2000/svg\" viewBox=\"0 0 512 512\"><path fill=\"currentColor\" d=\"M256 8C119 8 8 119 8 256s111 248 248 248 248-111 248-248S393 8 256 8zm0 448c-110.5 0-200-89.5-200-200S145.5 56 256 56s200 89.5 200 200-89.5 200-200 200zm61.8-104.4l-84.9-61.7c-3.1-2.3-4.9-5.9-4.9-9.7V116c0-6.6 5.4-12 12-12h32c6.6 0 12 5.4 12 12v141.7l66.8 48.6c5.4 3.9 6.5 11.4 2.6 16.8L334.6 349c-3.9 5.3-11.4 6.5-16.8 2.6z\"></path></svg></span><span class=\"ContentInformationLayoutAstyle__DateText-sc-1ut12ee-5 irZwZv\">4 ชั่วโมงที่แล้ว</span></div><a title=\"การเมือง\" target=\"_blank\" href=\"/news/categories/politics\" class=\"ContentInformationLayoutAstyle__CategoryLink-sc-1ut12ee-7 jXpFAw\">การเมือง</a></div></div></div></article><article class=\"ContentCardstyle__Container-sc-odesfa-0 jeUWbG\"><div class=\"ContentCardstyle__CoverImageWrapper-sc-odesfa-1 dSuwlI cover-image-wrapper\"><div class=\"CoverImagestyle__Container-sc-1z0u8gm-0 JuXXR\"><a title=\"&quot;หมอวรงค์&quot; ยันสู้เต็มที่ชิงเก้าอี้ ส.ส.กทม.ชูพลังงานสะอาด-ปราบโกง\" href=\"/news/content/326237\" class=\"CoverImagestyle__LinkOverlay-sc-1z0u8gm-2 jYzZpa\"></a><div class=\"CoverImagestyle__TransparentLayer-sc-1z0u8gm-1 dJDQP\"></div><div class=\"CoverImagestyle__RankingImgContainer-sc-1z0u8gm-14 iaOXtq\"></div><div class=\"CoverImagestyle__WatchedProgressBar-sc-1z0u8gm-9 cLWNmZ\"><div class=\"CoverImagestyle__WatchedProgress-sc-1z0u8gm-10 jNUigs\"></div></div><div class=\"CoverImagestyle__ImageContainer-sc-1z0u8gm-3 ekjtZT cover-image\"><span class=\"image-container\"><picture><img alt=\"&quot;หมอวรงค์&quot; ยันสู้เต็มที่ชิงเก้าอี้ ส.ส.กทม.ชูพลังงานสะอาด-ปราบโกง\" height=\"100%\" src=\"https://news.thaipbs.or.th/media/G0DL5oPyrtt5HBAivUvT5lNuYSFvyhctSa2jdPqVCQzvoWfQIywCHD.jpg\" width=\"100%\"></picture></span></div></div></div><div class=\"ContentCardstyle__InformationContainer-sc-odesfa-2 dAwFrV information-container\"><div class=\"ContentInformationLayoutAstyle__Container-sc-1ut12ee-0 chsKqA\"><a title=\"&quot;หมอวรงค์&quot; ยันสู้เต็มที่ชิงเก้าอี้ ส.ส.กทม.ชูพลังงานสะอาด-ปราบโกง\" target=\"_self\" href=\"/news/content/326237\" class=\"ContentInformationLayoutAstyle__Anchor-sc-1ut12ee-14 fokZKG\"><h3 class=\"ContentInformationLayoutAstyle__Title-sc-1ut12ee-2 eLgGKX content-information-title\">\"หมอวรงค์\" ยันสู้เต็มที่ชิงเก้าอี้ ส.ส.กทม.ชูพลังงานสะอาด-ปราบโกง</h3></a><div class=\"ContentInformationLayoutAstyle__Footer-sc-1ut12ee-11 eDUdKk content-information-footer\"><div class=\"ContentInformationLayoutAstyle__DateContainer-sc-1ut12ee-4 kIypfr\"><span class=\"ContentInformationLayoutAstyle__IconContainer-sc-1ut12ee-6 jUIUQc\"><svg aria-hidden=\"true\" focusable=\"false\" data-prefix=\"far\" data-icon=\"clock\" class=\"svg-inline--fa fa-clock fa-w-16 \" role=\"img\" xmlns=\"http://www.w3.org/2000/svg\" viewBox=\"0 0 512 512\"><path fill=\"currentColor\" d=\"M256 8C119 8 8 119 8 256s111 248 248 248 248-111 248-248S393 8 256 8zm0 448c-110.5 0-200-89.5-200-200S145.5 56 256 56s200 89.5 200 200-89.5 200-200 200zm61.8-104.4l-84.9-61.7c-3.1-2.3-4.9-5.9-4.9-9.7V116c0-6.6 5.4-12 12-12h32c6.6 0 12 5.4 12 12v141.7l66.8 48.6c5.4 3.9 6.5 11.4 2.6 16.8L334.6 349c-3.9 5.3-11.4 6.5-16.8 2.6z\"></path></svg></span><span class=\"ContentInformationLayoutAstyle__DateText-sc-1ut12ee-5 irZwZv\">4 ชั่วโมงที่แล้ว</span></div><a title=\"การเมือง\" target=\"_blank\" href=\"/news/categories/politics\" class=\"ContentInformationLayoutAstyle__CategoryLink-sc-1ut12ee-7 jXpFAw\">การเมือง</a></div></div></div></article><article class=\"ContentCardstyle__Container-sc-odesfa-0 jeUWbG\"><div class=\"ContentCardstyle__CoverImageWrapper-sc-odesfa-1 dSuwlI cover-image-wrapper\"><div class=\"CoverImagestyle__Container-sc-1z0u8gm-0 JuXXR\"><a title=\"“นครศรีฯ” แห่กราบพระบรมธาตุ แกนนำพรรคให้กำลังใจคึกคัก\" href=\"/news/content/326235\" class=\"CoverImagestyle__LinkOverlay-sc-1z0u8gm-2 jYzZpa\"></a><div class=\"CoverImagestyle__TransparentLayer-sc-1z0u8gm-1 dJDQP\"></div><div class=\"CoverImagestyle__RankingImgContainer-sc-1z0u8gm-14 iaOXtq\"></div><div class=\"CoverImagestyle__WatchedProgressBar-sc-1z0u8gm-9 cLWNmZ\"><div class=\"CoverImagestyle__WatchedProgress-sc-1z0u8gm-10 jNUigs\"></div></div><div class=\"CoverImagestyle__ImageContainer-sc-1z0u8gm-3 ekjtZT cover-image\"><span class=\"image-container\"><picture><img alt=\"“นครศรีฯ” แห่กราบพระบรมธาตุ แกนนำพรรคให้กำลังใจคึกคัก\" height=\"100%\" src=\"https://news.thaipbs.or.th/media/G0DL5oPyrtt5HBAivUvT5lOzvJmxOyLCuNCdlMUXgjV7yY0ljOQqMD.jpg\" width=\"100%\"></picture></span></div></div></div><div class=\"ContentCardstyle__InformationContainer-sc-odesfa-2 dAwFrV information-container\"><div class=\"ContentInformationLayoutAstyle__Container-sc-1ut12ee-0 chsKqA\"><a title=\"“นครศรีฯ” แห่กราบพระบรมธาตุ แกนนำพรรคให้กำลังใจคึกคัก\" target=\"_self\" href=\"/news/content/326235\" class=\"ContentInformationLayoutAstyle__Anchor-sc-1ut12ee-14 fokZKG\"><h3 class=\"ContentInformationLayoutAstyle__Title-sc-1ut12ee-2 eLgGKX content-information-title\">“นครศรีฯ” แห่กราบพระบรมธาตุ แกนนำพรรคให้กำลังใจคึกคัก</h3></a><div class=\"ContentInformationLayoutAstyle__Footer-sc-1ut12ee-11 eDUdKk content-information-footer\"><div class=\"ContentInformationLayoutAstyle__DateContainer-sc-1ut12ee-4 kIypfr\"><span class=\"ContentInformationLayoutAstyle__IconContainer-sc-1ut12ee-6 jUIUQc\"><svg aria-hidden=\"true\" focusable=\"false\" data-prefix=\"far\" data-icon=\"clock\" class=\"svg-inline--fa fa-clock fa-w-16 \" role=\"img\" xmlns=\"http://www.w3.org/2000/svg\" viewBox=\"0 0 512 512\"><path fill=\"currentColor\" d=\"M256 8C119 8 8 119 8 256s111 248 248 248 248-111 248-248S393 8 256 8zm0 448c-110.5 0-200-89.5-200-200S145.5 56 256 56s200 89.5 200 200-89.5 200-200 200zm61.8-104.4l-84.9-61.7c-3.1-2.3-4.9-5.9-4.9-9.7V116c0-6.6 5.4-12 12-12h32c6.6 0 12 5.4 12 12v141.7l66.8 48.6c5.4 3.9 6.5 11.4 2.6 16.8L334.6 349c-3.9 5.3-11.4 6.5-16.8 2.6z\"></path></svg></span><span class=\"ContentInformationLayoutAstyle__DateText-sc-1ut12ee-5 irZwZv\">4 ชั่วโมงที่แล้ว</span></div><a title=\"การเมือง\" target=\"_blank\" href=\"/news/categories/politics\" class=\"ContentInformationLayoutAstyle__CategoryLink-sc-1ut12ee-7 jXpFAw\">การเมือง</a></div></div></div></article><article class=\"ContentCardstyle__Container-sc-odesfa-0 jeUWbG\"><div class=\"ContentCardstyle__CoverImageWrapper-sc-odesfa-1 dSuwlI cover-image-wrapper\"><div class=\"CoverImagestyle__Container-sc-1z0u8gm-0 JuXXR\"><a title=\"&quot;ประวิตร&quot; บอก ยังไม่มีเบอร์ในใจแต่ขอให้ได้เลขตัวเดียว ยันไม่ร่วมดีเบต\" href=\"/news/content/326234\" class=\"CoverImagestyle__LinkOverlay-sc-1z0u8gm-2 jYzZpa\"></a><div class=\"CoverImagestyle__TransparentLayer-sc-1z0u8gm-1 dJDQP\"></div><div class=\"CoverImagestyle__RankingImgContainer-sc-1z0u8gm-14 iaOXtq\"></div><div class=\"CoverImagestyle__WatchedProgressBar-sc-1z0u8gm-9 cLWNmZ\"><div class=\"CoverImagestyle__WatchedProgress-sc-1z0u8gm-10 jNUigs\"></div></div><div class=\"CoverImagestyle__ImageContainer-sc-1z0u8gm-3 ekjtZT cover-image\"><span class=\"image-container\"><picture><img alt=\"&quot;ประวิตร&quot; บอก ยังไม่มีเบอร์ในใจแต่ขอให้ได้เลขตัวเดียว ยันไม่ร่วมดีเบต\" height=\"100%\" src=\"https://news.thaipbs.or.th/media/G0DL5oPyrtt5HBAivUvT5lPscQYpgFkl7QLwAeoN5FD9PkoduHCccv.jpg\" width=\"100%\"></picture></span></div></div></div><div class=\"ContentCardstyle__InformationContainer-sc-odesfa-2 dAwFrV information-container\"><div class=\"ContentInformationLayoutAstyle__Container-sc-1ut12ee-0 chsKqA\"><a title=\"&quot;ประวิตร&quot; บอก ยังไม่มีเบอร์ในใจแต่ขอให้ได้เลขตัวเดียว ยันไม่ร่วมดีเบต\" target=\"_self\" href=\"/news/content/326234\" class=\"ContentInformationLayoutAstyle__Anchor-sc-1ut12ee-14 fokZKG\"><h3 class=\"ContentInformationLayoutAstyle__Title-sc-1ut12ee-2 eLgGKX content-information-title\">\"ประวิตร\" บอก ยังไม่มีเบอร์ในใจแต่ขอให้ได้เลขตัวเดียว ยันไม่ร่วมดีเบต</h3></a><div class=\"ContentInformationLayoutAstyle__Footer-sc-1ut12ee-11 eDUdKk content-information-footer\"><div class=\"ContentInformationLayoutAstyle__DateContainer-sc-1ut12ee-4 kIypfr\"><span class=\"ContentInformationLayoutAstyle__IconContainer-sc-1ut12ee-6 jUIUQc\"><svg aria-hidden=\"true\" focusable=\"false\" data-prefix=\"far\" data-icon=\"clock\" class=\"svg-inline--fa fa-clock fa-w-16 \" role=\"img\" xmlns=\"http://www.w3.org/2000/svg\" viewBox=\"0 0 512 512\"><path fill=\"currentColor\" d=\"M256 8C119 8 8 119 8 256s111 248 248 248 248-111 248-248S393 8 256 8zm0 448c-110.5 0-200-89.5-200-200S145.5 56 256 56s200 89.5 200 200-89.5 200-200 200zm61.8-104.4l-84.9-61.7c-3.1-2.3-4.9-5.9-4.9-9.7V116c0-6.6 5.4-12 12-12h32c6.6 0 12 5.4 12 12v141.7l66.8 48.6c5.4 3.9 6.5 11.4 2.6 16.8L334.6 349c-3.9 5.3-11.4 6.5-16.8 2.6z\"></path></svg></span><span class=\"ContentInformationLayoutAstyle__DateText-sc-1ut12ee-5 irZwZv\">4 ชั่วโมงที่แล้ว</span></div><a title=\"การเมือง\" target=\"_blank\" href=\"/news/categories/politics\" class=\"ContentInformationLayoutAstyle__CategoryLink-sc-1ut12ee-7 jXpFAw\">การเมือง</a></div></div></div></article><article class=\"ContentCardstyle__Container-sc-odesfa-0 jeUWbG\"><div class=\"ContentCardstyle__CoverImageWrapper-sc-odesfa-1 dSuwlI cover-image-wrapper\"><div class=\"CoverImagestyle__Container-sc-1z0u8gm-0 JuXXR\"><a title=\"“อุ๊งอิ๊ง” ประกาศสู้เต็มที่ ย้ำเป้าหมายเดินหน้าแลนด์สไลด์\" href=\"/news/content/326231\" class=\"CoverImagestyle__LinkOverlay-sc-1z0u8gm-2 jYzZpa\"></a><div class=\"CoverImagestyle__TransparentLayer-sc-1z0u8gm-1 dJDQP\"></div><div class=\"CoverImagestyle__RankingImgContainer-sc-1z0u8gm-14 iaOXtq\"></div><div class=\"CoverImagestyle__WatchedProgressBar-sc-1z0u8gm-9 cLWNmZ\"><div class=\"CoverImagestyle__WatchedProgress-sc-1z0u8gm-10 jNUigs\"></div></div><div class=\"CoverImagestyle__ImageContainer-sc-1z0u8gm-3 ekjtZT cover-image\"><span class=\"image-container\"><picture><img alt=\"“อุ๊งอิ๊ง” ประกาศสู้เต็มที่ ย้ำเป้าหมายเดินหน้าแลนด์สไลด์\" height=\"100%\" src=\"https://news.thaipbs.or.th/media/G0DL5oPyrtt5HBAivUvT5lRrWPclY0OLmwgiHydzDJ5mB6uzz6PCxe.jpg\" width=\"100%\"></picture></span></div></div></div><div class=\"ContentCardstyle__InformationContainer-sc-odesfa-2 dAwFrV information-container\"><div class=\"ContentInformationLayoutAstyle__Container-sc-1ut12ee-0 chsKqA\"><a title=\"“อุ๊งอิ๊ง” ประกาศสู้เต็มที่ ย้ำเป้าหมายเดินหน้าแลนด์สไลด์\" target=\"_self\" href=\"/news/content/326231\" class=\"ContentInformationLayoutAstyle__Anchor-sc-1ut12ee-14 fokZKG\"><h3 class=\"ContentInformationLayoutAstyle__Title-sc-1ut12ee-2 eLgGKX content-information-title\">“อุ๊งอิ๊ง” ประกาศสู้เต็มที่ ย้ำเป้าหมายเดินหน้าแลนด์สไลด์</h3></a><div class=\"ContentInformationLayoutAstyle__Footer-sc-1ut12ee-11 eDUdKk content-information-footer\"><div class=\"ContentInformationLayoutAstyle__DateContainer-sc-1ut12ee-4 kIypfr\"><span class=\"ContentInformationLayoutAstyle__IconContainer-sc-1ut12ee-6 jUIUQc\"><svg aria-hidden=\"true\" focusable=\"false\" data-prefix=\"far\" data-icon=\"clock\" class=\"svg-inline--fa fa-clock fa-w-16 \" role=\"img\" xmlns=\"http://www.w3.org/2000/svg\" viewBox=\"0 0 512 512\"><path fill=\"currentColor\" d=\"M256 8C119 8 8 119 8 256s111 248 248 248 248-111 248-248S393 8 256 8zm0 448c-110.5 0-200-89.5-200-200S145.5 56 256 56s200 89.5 200 200-89.5 200-200 200zm61.8-104.4l-84.9-61.7c-3.1-2.3-4.9-5.9-4.9-9.7V116c0-6.6 5.4-12 12-12h32c6.6 0 12 5.4 12 12v141.7l66.8 48.6c5.4 3.9 6.5 11.4 2.6 16.8L334.6 349c-3.9 5.3-11.4 6.5-16.8 2.6z\"></path></svg></span><span class=\"ContentInformationLayoutAstyle__DateText-sc-1ut12ee-5 irZwZv\">4 ชั่วโมงที่แล้ว</span></div><a title=\"การเมือง\" target=\"_blank\" href=\"/news/categories/politics\" class=\"ContentInformationLayoutAstyle__CategoryLink-sc-1ut12ee-7 jXpFAw\">การเมือง</a></div></div></div></article><article class=\"ContentCardstyle__Container-sc-odesfa-0 jeUWbG\"><div class=\"ContentCardstyle__CoverImageWrapper-sc-odesfa-1 dSuwlI cover-image-wrapper\"><div class=\"CoverImagestyle__Container-sc-1z0u8gm-0 JuXXR\"><a title=\"อบอุ่น! &quot;เชียงราย&quot; รับสมัครส.ส.ผลัดใบ &quot;พ่อส่งลูก&quot; สู้ศึกเลือกตั้ง \" href=\"/news/content/326229\" class=\"CoverImagestyle__LinkOverlay-sc-1z0u8gm-2 jYzZpa\"></a><div class=\"CoverImagestyle__TransparentLayer-sc-1z0u8gm-1 dJDQP\"></div><div class=\"CoverImagestyle__RankingImgContainer-sc-1z0u8gm-14 iaOXtq\"></div><div class=\"CoverImagestyle__WatchedProgressBar-sc-1z0u8gm-9 cLWNmZ\"><div class=\"CoverImagestyle__WatchedProgress-sc-1z0u8gm-10 jNUigs\"></div></div><div class=\"CoverImagestyle__ImageContainer-sc-1z0u8gm-3 ekjtZT cover-image\"><span class=\"image-container\"><picture><img alt=\"อบอุ่น! &quot;เชียงราย&quot; รับสมัครส.ส.ผลัดใบ &quot;พ่อส่งลูก&quot; สู้ศึกเลือกตั้ง \" height=\"100%\" src=\"https://news.thaipbs.or.th/media/G0DL5oPyrtt5HBAivUvT5nzg8BJeviaWPeYJ5I4KEblgCbU7ZVBXX0.jpg\" width=\"100%\"></picture></span></div></div></div><div class=\"ContentCardstyle__InformationContainer-sc-odesfa-2 dAwFrV information-container\"><div class=\"ContentInformationLayoutAstyle__Container-sc-1ut12ee-0 chsKqA\"><a title=\"อบอุ่น! &quot;เชียงราย&quot; รับสมัครส.ส.ผลัดใบ &quot;พ่อส่งลูก&quot; สู้ศึกเลือกตั้ง \" target=\"_self\" href=\"/news/content/326229\" class=\"ContentInformationLayoutAstyle__Anchor-sc-1ut12ee-14 fokZKG\"><h3 class=\"ContentInformationLayoutAstyle__Title-sc-1ut12ee-2 eLgGKX content-information-title\">อบอุ่น! \"เชียงราย\" รับสมัครส.ส.ผลัดใบ \"พ่อส่งลูก\" สู้ศึกเลือกตั้ง </h3></a><div class=\"ContentInformationLayoutAstyle__Footer-sc-1ut12ee-11 eDUdKk content-information-footer\"><div class=\"ContentInformationLayoutAstyle__DateContainer-sc-1ut12ee-4 kIypfr\"><span class=\"ContentInformationLayoutAstyle__IconContainer-sc-1ut12ee-6 jUIUQc\"><svg aria-hidden=\"true\" focusable=\"false\" data-prefix=\"far\" data-icon=\"clock\" class=\"svg-inline--fa fa-clock fa-w-16 \" role=\"img\" xmlns=\"http://www.w3.org/2000/svg\" viewBox=\"0 0 512 512\"><path fill=\"currentColor\" d=\"M256 8C119 8 8 119 8 256s111 248 248 248 248-111 248-248S393 8 256 8zm0 448c-110.5 0-200-89.5-200-200S145.5 56 256 56s200 89.5 200 200-89.5 200-200 200zm61.8-104.4l-84.9-61.7c-3.1-2.3-4.9-5.9-4.9-9.7V116c0-6.6 5.4-12 12-12h32c6.6 0 12 5.4 12 12v141.7l66.8 48.6c5.4 3.9 6.5 11.4 2.6 16.8L334.6 349c-3.9 5.3-11.4 6.5-16.8 2.6z\"></path></svg></span><span class=\"ContentInformationLayoutAstyle__DateText-sc-1ut12ee-5 irZwZv\">4 ชั่วโมงที่แล้ว</span></div><a title=\"การเมือง\" target=\"_blank\" href=\"/news/categories/politics\" class=\"ContentInformationLayoutAstyle__CategoryLink-sc-1ut12ee-7 jXpFAw\">การเมือง</a></div></div></div></article><article class=\"ContentCardstyle__Container-sc-odesfa-0 jeUWbG\"><div class=\"ContentCardstyle__CoverImageWrapper-sc-odesfa-1 dSuwlI cover-image-wrapper\"><div class=\"CoverImagestyle__Container-sc-1z0u8gm-0 JuXXR\"><a title=\"ปชป.ตั้งเป้าทวงคืนเก้าอี้ ส.ส.กทม.ชูแก้ฝุ่น-น้ำท่วม-ปากท้อง\" href=\"/news/content/326232\" class=\"CoverImagestyle__LinkOverlay-sc-1z0u8gm-2 jYzZpa\"></a><div class=\"CoverImagestyle__TransparentLayer-sc-1z0u8gm-1 dJDQP\"></div><div class=\"CoverImagestyle__RankingImgContainer-sc-1z0u8gm-14 iaOXtq\"></div><div class=\"CoverImagestyle__WatchedProgressBar-sc-1z0u8gm-9 cLWNmZ\"><div class=\"CoverImagestyle__WatchedProgress-sc-1z0u8gm-10 jNUigs\"></div></div><div class=\"CoverImagestyle__ImageContainer-sc-1z0u8gm-3 ekjtZT cover-image\"><span class=\"image-container\"><picture><img alt=\"ปชป.ตั้งเป้าทวงคืนเก้าอี้ ส.ส.กทม.ชูแก้ฝุ่น-น้ำท่วม-ปากท้อง\" height=\"100%\" src=\"https://news.thaipbs.or.th/media/G0DL5oPyrtt5HBAivUvT5lQsBJl9jeNIcQF4Dhmbj55MgbsKqViooY.jpg\" width=\"100%\"></picture></span></div></div></div><div class=\"ContentCardstyle__InformationContainer-sc-odesfa-2 dAwFrV information-container\"><div class=\"ContentInformationLayoutAstyle__Container-sc-1ut12ee-0 chsKqA\"><a title=\"ปชป.ตั้งเป้าทวงคืนเก้าอี้ ส.ส.กทม.ชูแก้ฝุ่น-น้ำท่วม-ปากท้อง\" target=\"_self\" href=\"/news/content/326232\" class=\"ContentInformationLayoutAstyle__Anchor-sc-1ut12ee-14 fokZKG\"><h3 class=\"ContentInformationLayoutAstyle__Title-sc-1ut12ee-2 eLgGKX content-information-title\">ปชป.ตั้งเป้าทวงคืนเก้าอี้ ส.ส.กทม.ชูแก้ฝุ่น-น้ำท่วม-ปากท้อง</h3></a><div class=\"ContentInformationLayoutAstyle__Footer-sc-1ut12ee-11 eDUdKk content-information-footer\"><div class=\"ContentInformationLayoutAstyle__DateContainer-sc-1ut12ee-4 kIypfr\"><span class=\"ContentInformationLayoutAstyle__IconContainer-sc-1ut12ee-6 jUIUQc\"><svg aria-hidden=\"true\" focusable=\"false\" data-prefix=\"far\" data-icon=\"clock\" class=\"svg-inline--fa fa-clock fa-w-16 \" role=\"img\" xmlns=\"http://www.w3.org/2000/svg\" viewBox=\"0 0 512 512\"><path fill=\"currentColor\" d=\"M256 8C119 8 8 119 8 256s111 248 248 248 248-111 248-248S393 8 256 8zm0 448c-110.5 0-200-89.5-200-200S145.5 56 256 56s200 89.5 200 200-89.5 200-200 200zm61.8-104.4l-84.9-61.7c-3.1-2.3-4.9-5.9-4.9-9.7V116c0-6.6 5.4-12 12-12h32c6.6 0 12 5.4 12 12v141.7l66.8 48.6c5.4 3.9 6.5 11.4 2.6 16.8L334.6 349c-3.9 5.3-11.4 6.5-16.8 2.6z\"></path></svg></span><span class=\"ContentInformationLayoutAstyle__DateText-sc-1ut12ee-5 irZwZv\">4 ชั่วโมงที่แล้ว</span></div><a title=\"การเมือง\" target=\"_blank\" href=\"/news/categories/politics\" class=\"ContentInformationLayoutAstyle__CategoryLink-sc-1ut12ee-7 jXpFAw\">การเมือง</a></div></div></div></article><article class=\"ContentCardstyle__Container-sc-odesfa-0 jeUWbG\"><div class=\"ContentCardstyle__CoverImageWrapper-sc-odesfa-1 dSuwlI cover-image-wrapper\"><div class=\"CoverImagestyle__Container-sc-1z0u8gm-0 JuXXR\"><a title=\"“ช่อ” นำ “ก้าวไกล” สมัครที่ขอนแก่น ยืนยันเป็นตัวแทน ปชช.-ไม่ตักตวงผลประโยชน์\" href=\"/news/content/326230\" class=\"CoverImagestyle__LinkOverlay-sc-1z0u8gm-2 jYzZpa\"></a><div class=\"CoverImagestyle__TransparentLayer-sc-1z0u8gm-1 dJDQP\"></div><div class=\"CoverImagestyle__RankingImgContainer-sc-1z0u8gm-14 iaOXtq\"></div><div class=\"CoverImagestyle__WatchedProgressBar-sc-1z0u8gm-9 cLWNmZ\"><div class=\"CoverImagestyle__WatchedProgress-sc-1z0u8gm-10 jNUigs\"></div></div><div class=\"CoverImagestyle__ImageContainer-sc-1z0u8gm-3 ekjtZT cover-image\"><span class=\"image-container\"><picture><img alt=\"“ช่อ” นำ “ก้าวไกล” สมัครที่ขอนแก่น ยืนยันเป็นตัวแทน ปชช.-ไม่ตักตวงผลประโยชน์\" height=\"100%\" src=\"https://news.thaipbs.or.th/media/G0DL5oPyrtt5HBAivUvT5lSAZZL8ihasEjM7Mw0sEoFHa0U5L2iKyf.jpg\" width=\"100%\"></picture></span></div></div></div><div class=\"ContentCardstyle__InformationContainer-sc-odesfa-2 dAwFrV information-container\"><div class=\"ContentInformationLayoutAstyle__Container-sc-1ut12ee-0 chsKqA\"><a title=\"“ช่อ” นำ “ก้าวไกล” สมัครที่ขอนแก่น ยืนยันเป็นตัวแทน ปชช.-ไม่ตักตวงผลประโยชน์\" target=\"_self\" href=\"/news/content/326230\" class=\"ContentInformationLayoutAstyle__Anchor-sc-1ut12ee-14 fokZKG\"><h3 class=\"ContentInformationLayoutAstyle__Title-sc-1ut12ee-2 eLgGKX content-information-title\">“ช่อ” นำ “ก้าวไกล” สมัครที่ขอนแก่น ยืนยันเป็นตัวแทน ปชช.-ไม่ตักตวงผลประโยชน์</h3></a><div class=\"ContentInformationLayoutAstyle__Footer-sc-1ut12ee-11 eDUdKk content-information-footer\"><div class=\"ContentInformationLayoutAstyle__DateContainer-sc-1ut12ee-4 kIypfr\"><span class=\"ContentInformationLayoutAstyle__IconContainer-sc-1ut12ee-6 jUIUQc\"><svg aria-hidden=\"true\" focusable=\"false\" data-prefix=\"far\" data-icon=\"clock\" class=\"svg-inline--fa fa-clock fa-w-16 \" role=\"img\" xmlns=\"http://www.w3.org/2000/svg\" viewBox=\"0 0 512 512\"><path fill=\"currentColor\" d=\"M256 8C119 8 8 119 8 256s111 248 248 248 248-111 248-248S393 8 256 8zm0 448c-110.5 0-200-89.5-200-200S145.5 56 256 56s200 89.5 200 200-89.5 200-200 200zm61.8-104.4l-84.9-61.7c-3.1-2.3-4.9-5.9-4.9-9.7V116c0-6.6 5.4-12 12-12h32c6.6 0 12 5.4 12 12v141.7l66.8 48.6c5.4 3.9 6.5 11.4 2.6 16.8L334.6 349c-3.9 5.3-11.4 6.5-16.8 2.6z\"></path></svg></span><span class=\"ContentInformationLayoutAstyle__DateText-sc-1ut12ee-5 irZwZv\">4 ชั่วโมงที่แล้ว</span></div><a title=\"การเมือง\" target=\"_blank\" href=\"/news/categories/politics\" class=\"ContentInformationLayoutAstyle__CategoryLink-sc-1ut12ee-7 jXpFAw\">การเมือง</a></div></div></div></article><article class=\"ContentCardstyle__Container-sc-odesfa-0 jeUWbG\"><div class=\"ContentCardstyle__CoverImageWrapper-sc-odesfa-1 dSuwlI cover-image-wrapper\"><div class=\"CoverImagestyle__Container-sc-1z0u8gm-0 JuXXR\"><a title=\"“สุวัจน์” คาดชาติพัฒนากล้า-โคราช จะได้ 4 เขต “อนุทิน” มาตอน 08.30 น.\" href=\"/news/content/326228\" class=\"CoverImagestyle__LinkOverlay-sc-1z0u8gm-2 jYzZpa\"></a><div class=\"CoverImagestyle__TransparentLayer-sc-1z0u8gm-1 dJDQP\"></div><div class=\"CoverImagestyle__RankingImgContainer-sc-1z0u8gm-14 iaOXtq\"></div><div class=\"CoverImagestyle__WatchedProgressBar-sc-1z0u8gm-9 cLWNmZ\"><div class=\"CoverImagestyle__WatchedProgress-sc-1z0u8gm-10 jNUigs\"></div></div><div class=\"CoverImagestyle__ImageContainer-sc-1z0u8gm-3 ekjtZT cover-image\"><span class=\"image-container\"><picture><img alt=\"“สุวัจน์” คาดชาติพัฒนากล้า-โคราช จะได้ 4 เขต “อนุทิน” มาตอน 08.30 น.\" height=\"100%\" src=\"https://news.thaipbs.or.th/media/G0DL5oPyrtt5HBAivUvT5nz1HF1oSSfa2ErAVTAR8MttkjAinZt92e.jpg\" width=\"100%\"></picture></span></div></div></div><div class=\"ContentCardstyle__InformationContainer-sc-odesfa-2 dAwFrV information-container\"><div class=\"ContentInformationLayoutAstyle__Container-sc-1ut12ee-0 chsKqA\"><a title=\"“สุวัจน์” คาดชาติพัฒนากล้า-โคราช จะได้ 4 เขต “อนุทิน” มาตอน 08.30 น.\" target=\"_self\" href=\"/news/content/326228\" class=\"ContentInformationLayoutAstyle__Anchor-sc-1ut12ee-14 fokZKG\"><h3 class=\"ContentInformationLayoutAstyle__Title-sc-1ut12ee-2 eLgGKX content-information-title\">“สุวัจน์” คาดชาติพัฒนากล้า-โคราช จะได้ 4 เขต “อนุทิน” มาตอน 08.30 น.</h3></a><div class=\"ContentInformationLayoutAstyle__Footer-sc-1ut12ee-11 eDUdKk content-information-footer\"><div class=\"ContentInformationLayoutAstyle__DateContainer-sc-1ut12ee-4 kIypfr\"><span class=\"ContentInformationLayoutAstyle__IconContainer-sc-1ut12ee-6 jUIUQc\"><svg aria-hidden=\"true\" focusable=\"false\" data-prefix=\"far\" data-icon=\"clock\" class=\"svg-inline--fa fa-clock fa-w-16 \" role=\"img\" xmlns=\"http://www.w3.org/2000/svg\" viewBox=\"0 0 512 512\"><path fill=\"currentColor\" d=\"M256 8C119 8 8 119 8 256s111 248 248 248 248-111 248-248S393 8 256 8zm0 448c-110.5 0-200-89.5-200-200S145.5 56 256 56s200 89.5 200 200-89.5 200-200 200zm61.8-104.4l-84.9-61.7c-3.1-2.3-4.9-5.9-4.9-9.7V116c0-6.6 5.4-12 12-12h32c6.6 0 12 5.4 12 12v141.7l66.8 48.6c5.4 3.9 6.5 11.4 2.6 16.8L334.6 349c-3.9 5.3-11.4 6.5-16.8 2.6z\"></path></svg></span><span class=\"ContentInformationLayoutAstyle__DateText-sc-1ut12ee-5 irZwZv\">5 ชั่วโมงที่แล้ว</span></div><a title=\"การเมือง\" target=\"_blank\" href=\"/news/categories/politics\" class=\"ContentInformationLayoutAstyle__CategoryLink-sc-1ut12ee-7 jXpFAw\">การเมือง</a></div></div></div></article><article class=\"ContentCardstyle__Container-sc-odesfa-0 jeUWbG\"><div class=\"ContentCardstyle__CoverImageWrapper-sc-odesfa-1 dSuwlI cover-image-wrapper\"><div class=\"CoverImagestyle__Container-sc-1z0u8gm-0 JuXXR\"><a title=\"“โคราช” คึกคัก ผู้สมัครกราบย่าโม่ ก่อนไปจับสลากรอคิวสมัคร ส.ส.\" href=\"/news/content/326227\" class=\"CoverImagestyle__LinkOverlay-sc-1z0u8gm-2 jYzZpa\"></a><div class=\"CoverImagestyle__TransparentLayer-sc-1z0u8gm-1 dJDQP\"></div><div class=\"CoverImagestyle__RankingImgContainer-sc-1z0u8gm-14 iaOXtq\"></div><div class=\"CoverImagestyle__WatchedProgressBar-sc-1z0u8gm-9 cLWNmZ\"><div class=\"CoverImagestyle__WatchedProgress-sc-1z0u8gm-10 jNUigs\"></div></div><div class=\"CoverImagestyle__ImageContainer-sc-1z0u8gm-3 ekjtZT cover-image\"><span class=\"image-container\"><picture><img alt=\"“โคราช” คึกคัก ผู้สมัครกราบย่าโม่ ก่อนไปจับสลากรอคิวสมัคร ส.ส.\" height=\"100%\" src=\"https://news.thaipbs.or.th/media/G0DL5oPyrtt5HBAivUvT5n6Nmx1eVBr2mV9UV6c20QjOVjy1DXaJu3.jpg\" width=\"100%\"></picture></span></div></div></div><div class=\"ContentCardstyle__InformationContainer-sc-odesfa-2 dAwFrV information-container\"><div class=\"ContentInformationLayoutAstyle__Container-sc-1ut12ee-0 chsKqA\"><a title=\"“โคราช” คึกคัก ผู้สมัครกราบย่าโม่ ก่อนไปจับสลากรอคิวสมัคร ส.ส.\" target=\"_self\" href=\"/news/content/326227\" class=\"ContentInformationLayoutAstyle__Anchor-sc-1ut12ee-14 fokZKG\"><h3 class=\"ContentInformationLayoutAstyle__Title-sc-1ut12ee-2 eLgGKX content-information-title\">“โคราช” คึกคัก ผู้สมัครกราบย่าโม่ ก่อนไปจับสลากรอคิวสมัคร ส.ส.</h3></a><div class=\"ContentInformationLayoutAstyle__Footer-sc-1ut12ee-11 eDUdKk content-information-footer\"><div class=\"ContentInformationLayoutAstyle__DateContainer-sc-1ut12ee-4 kIypfr\"><span class=\"ContentInformationLayoutAstyle__IconContainer-sc-1ut12ee-6 jUIUQc\"><svg aria-hidden=\"true\" focusable=\"false\" data-prefix=\"far\" data-icon=\"clock\" class=\"svg-inline--fa fa-clock fa-w-16 \" role=\"img\" xmlns=\"http://www.w3.org/2000/svg\" viewBox=\"0 0 512 512\"><path fill=\"currentColor\" d=\"M256 8C119 8 8 119 8 256s111 248 248 248 248-111 248-248S393 8 256 8zm0 448c-110.5 0-200-89.5-200-200S145.5 56 256 56s200 89.5 200 200-89.5 200-200 200zm61.8-104.4l-84.9-61.7c-3.1-2.3-4.9-5.9-4.9-9.7V116c0-6.6 5.4-12 12-12h32c6.6 0 12 5.4 12 12v141.7l66.8 48.6c5.4 3.9 6.5 11.4 2.6 16.8L334.6 349c-3.9 5.3-11.4 6.5-16.8 2.6z\"></path></svg></span><span class=\"ContentInformationLayoutAstyle__DateText-sc-1ut12ee-5 irZwZv\">5 ชั่วโมงที่แล้ว</span></div><a title=\"การเมือง\" target=\"_blank\" href=\"/news/categories/politics\" class=\"ContentInformationLayoutAstyle__CategoryLink-sc-1ut12ee-7 jXpFAw\">การเมือง</a></div></div></div></article><article class=\"ContentCardstyle__Container-sc-odesfa-0 jeUWbG\"><div class=\"ContentCardstyle__CoverImageWrapper-sc-odesfa-1 dSuwlI cover-image-wrapper\"><div class=\"CoverImagestyle__Container-sc-1z0u8gm-0 JuXXR\"><a title=\"#เลือกตั้ง66 คึกคัก! แกนนำพรรคการเมืองนำทีมสมัคร ส.ส.เขต กทม.\" href=\"/news/content/326225\" class=\"CoverImagestyle__LinkOverlay-sc-1z0u8gm-2 jYzZpa\"></a><div class=\"CoverImagestyle__TransparentLayer-sc-1z0u8gm-1 dJDQP\"></div><div class=\"CoverImagestyle__RankingImgContainer-sc-1z0u8gm-14 iaOXtq\"></div><div class=\"CoverImagestyle__WatchedProgressBar-sc-1z0u8gm-9 cLWNmZ\"><div class=\"CoverImagestyle__WatchedProgress-sc-1z0u8gm-10 jNUigs\"></div></div><div class=\"CoverImagestyle__ImageContainer-sc-1z0u8gm-3 ekjtZT cover-image\"><span class=\"image-container\"><picture><img alt=\"#เลือกตั้ง66 คึกคัก! แกนนำพรรคการเมืองนำทีมสมัคร ส.ส.เขต กทม.\" height=\"100%\" src=\"https://news.thaipbs.or.th/media/G0DL5oPyrtt5HBAivUvT5n7ocBBetJNewMiO3jUTD6Yn0ScGekqENl.jpg\" width=\"100%\"></picture></span></div></div></div><div class=\"ContentCardstyle__InformationContainer-sc-odesfa-2 dAwFrV information-container\"><div class=\"ContentInformationLayoutAstyle__Container-sc-1ut12ee-0 chsKqA\"><a title=\"#เลือกตั้ง66 คึกคัก! แกนนำพรรคการเมืองนำทีมสมัคร ส.ส.เขต กทม.\" target=\"_self\" href=\"/news/content/326225\" class=\"ContentInformationLayoutAstyle__Anchor-sc-1ut12ee-14 fokZKG\"><h3 class=\"ContentInformationLayoutAstyle__Title-sc-1ut12ee-2 eLgGKX content-information-title\">#เลือกตั้ง66 คึกคัก! แกนนำพรรคการเมืองนำทีมสมัคร ส.ส.เขต กทม.</h3></a><div class=\"ContentInformationLayoutAstyle__Footer-sc-1ut12ee-11 eDUdKk content-information-footer\"><div class=\"ContentInformationLayoutAstyle__DateContainer-sc-1ut12ee-4 kIypfr\"><span class=\"ContentInformationLayoutAstyle__IconContainer-sc-1ut12ee-6 jUIUQc\"><svg aria-hidden=\"true\" focusable=\"false\" data-prefix=\"far\" data-icon=\"clock\" class=\"svg-inline--fa fa-clock fa-w-16 \" role=\"img\" xmlns=\"http://www.w3.org/2000/svg\" viewBox=\"0 0 512 512\"><path fill=\"currentColor\" d=\"M256 8C119 8 8 119 8 256s111 248 248 248 248-111 248-248S393 8 256 8zm0 448c-110.5 0-200-89.5-200-200S145.5 56 256 56s200 89.5 200 200-89.5 200-200 200zm61.8-104.4l-84.9-61.7c-3.1-2.3-4.9-5.9-4.9-9.7V116c0-6.6 5.4-12 12-12h32c6.6 0 12 5.4 12 12v141.7l66.8 48.6c5.4 3.9 6.5 11.4 2.6 16.8L334.6 349c-3.9 5.3-11.4 6.5-16.8 2.6z\"></path></svg></span><span class=\"ContentInformationLayoutAstyle__DateText-sc-1ut12ee-5 irZwZv\">6 ชั่วโมงที่แล้ว</span></div><a title=\"การเมือง\" target=\"_blank\" href=\"/news/categories/politics\" class=\"ContentInformationLayoutAstyle__CategoryLink-sc-1ut12ee-7 jXpFAw\">การเมือง</a></div></div></div></article><article class=\"ContentCardstyle__Container-sc-odesfa-0 jeUWbG\"><div class=\"ContentCardstyle__CoverImageWrapper-sc-odesfa-1 dSuwlI cover-image-wrapper\"><div class=\"CoverImagestyle__Container-sc-1z0u8gm-0 JuXXR\"><a title=\"“ตะวัน” ไปสนามกีฬาไทย-ญี่ปุ่น เรียกร้องปล่อยเยาวชน คดี ม.112\" href=\"/news/content/326226\" class=\"CoverImagestyle__LinkOverlay-sc-1z0u8gm-2 jYzZpa\"></a><div class=\"CoverImagestyle__TransparentLayer-sc-1z0u8gm-1 dJDQP\"></div><div class=\"CoverImagestyle__RankingImgContainer-sc-1z0u8gm-14 iaOXtq\"></div><div class=\"CoverImagestyle__WatchedProgressBar-sc-1z0u8gm-9 cLWNmZ\"><div class=\"CoverImagestyle__WatchedProgress-sc-1z0u8gm-10 jNUigs\"></div></div><div class=\"CoverImagestyle__ImageContainer-sc-1z0u8gm-3 ekjtZT cover-image\"><span class=\"image-container\"><picture><img alt=\"“ตะวัน” ไปสนามกีฬาไทย-ญี่ปุ่น เรียกร้องปล่อยเยาวชน คดี ม.112\" height=\"100%\" src=\"https://news.thaipbs.or.th/media/G0DL5oPyrtt5HBAivUvT5n6rXe88xdDSTxxLH616gLYXpq7Kyhzde3.jpg\" width=\"100%\"></picture></span></div></div></div><div class=\"ContentCardstyle__InformationContainer-sc-odesfa-2 dAwFrV information-container\"><div class=\"ContentInformationLayoutAstyle__Container-sc-1ut12ee-0 chsKqA\"><a title=\"“ตะวัน” ไปสนามกีฬาไทย-ญี่ปุ่น เรียกร้องปล่อยเยาวชน คดี ม.112\" target=\"_self\" href=\"/news/content/326226\" class=\"ContentInformationLayoutAstyle__Anchor-sc-1ut12ee-14 fokZKG\"><h3 class=\"ContentInformationLayoutAstyle__Title-sc-1ut12ee-2 eLgGKX content-information-title\">“ตะวัน” ไปสนามกีฬาไทย-ญี่ปุ่น เรียกร้องปล่อยเยาวชน คดี ม.112</h3></a><div class=\"ContentInformationLayoutAstyle__Footer-sc-1ut12ee-11 eDUdKk content-information-footer\"><div class=\"ContentInformationLayoutAstyle__DateContainer-sc-1ut12ee-4 kIypfr\"><span class=\"ContentInformationLayoutAstyle__IconContainer-sc-1ut12ee-6 jUIUQc\"><svg aria-hidden=\"true\" focusable=\"false\" data-prefix=\"far\" data-icon=\"clock\" class=\"svg-inline--fa fa-clock fa-w-16 \" role=\"img\" xmlns=\"http://www.w3.org/2000/svg\" viewBox=\"0 0 512 512\"><path fill=\"currentColor\" d=\"M256 8C119 8 8 119 8 256s111 248 248 248 248-111 248-248S393 8 256 8zm0 448c-110.5 0-200-89.5-200-200S145.5 56 256 56s200 89.5 200 200-89.5 200-200 200zm61.8-104.4l-84.9-61.7c-3.1-2.3-4.9-5.9-4.9-9.7V116c0-6.6 5.4-12 12-12h32c6.6 0 12 5.4 12 12v141.7l66.8 48.6c5.4 3.9 6.5 11.4 2.6 16.8L334.6 349c-3.9 5.3-11.4 6.5-16.8 2.6z\"></path></svg></span><span class=\"ContentInformationLayoutAstyle__DateText-sc-1ut12ee-5 irZwZv\">6 ชั่วโมงที่แล้ว</span></div><a title=\"การเมือง\" target=\"_blank\" href=\"/news/categories/politics\" class=\"ContentInformationLayoutAstyle__CategoryLink-sc-1ut12ee-7 jXpFAw\">การเมือง</a></div></div></div></article><article class=\"ContentCardstyle__Container-sc-odesfa-0 jeUWbG\"><div class=\"ContentCardstyle__CoverImageWrapper-sc-odesfa-1 dSuwlI cover-image-wrapper\"><div class=\"CoverImagestyle__Container-sc-1z0u8gm-0 JuXXR\"><a title=\"&quot;ก้าวไกล&quot; หาเสียง จ.ปทุมธานี ชูนโยบาย &quot;ยกเลิกเกณฑ์ทหาร&quot; \" href=\"/news/content/326221\" class=\"CoverImagestyle__LinkOverlay-sc-1z0u8gm-2 jYzZpa\"></a><div class=\"CoverImagestyle__TransparentLayer-sc-1z0u8gm-1 dJDQP\"></div><div class=\"CoverImagestyle__RankingImgContainer-sc-1z0u8gm-14 iaOXtq\"></div><div class=\"CoverImagestyle__WatchedProgressBar-sc-1z0u8gm-9 cLWNmZ\"><div class=\"CoverImagestyle__WatchedProgress-sc-1z0u8gm-10 jNUigs\"></div></div><div class=\"CoverImagestyle__ImageContainer-sc-1z0u8gm-3 ekjtZT cover-image\"><span class=\"image-container\"><picture><img alt=\"&quot;ก้าวไกล&quot; หาเสียง จ.ปทุมธานี ชูนโยบาย &quot;ยกเลิกเกณฑ์ทหาร&quot; \" height=\"100%\" src=\"https://news.thaipbs.or.th/media/G0DL5oPyrtt5HBAivUvT5n4l0lxEdhLhIkWcCkiQYUU17btTaTeDhN.jpg\" width=\"100%\"></picture></span></div></div></div><div class=\"ContentCardstyle__InformationContainer-sc-odesfa-2 dAwFrV information-container\"><div class=\"ContentInformationLayoutAstyle__Container-sc-1ut12ee-0 chsKqA\"><a title=\"&quot;ก้าวไกล&quot; หาเสียง จ.ปทุมธานี ชูนโยบาย &quot;ยกเลิกเกณฑ์ทหาร&quot; \" target=\"_self\" href=\"/news/content/326221\" class=\"ContentInformationLayoutAstyle__Anchor-sc-1ut12ee-14 fokZKG\"><h3 class=\"ContentInformationLayoutAstyle__Title-sc-1ut12ee-2 eLgGKX content-information-title\">\"ก้าวไกล\" หาเสียง จ.ปทุมธานี ชูนโยบาย \"ยกเลิกเกณฑ์ทหาร\" </h3></a><div class=\"ContentInformationLayoutAstyle__Footer-sc-1ut12ee-11 eDUdKk content-information-footer\"><div class=\"ContentInformationLayoutAstyle__DateContainer-sc-1ut12ee-4 kIypfr\"><span class=\"ContentInformationLayoutAstyle__IconContainer-sc-1ut12ee-6 jUIUQc\"><svg aria-hidden=\"true\" focusable=\"false\" data-prefix=\"far\" data-icon=\"clock\" class=\"svg-inline--fa fa-clock fa-w-16 \" role=\"img\" xmlns=\"http://www.w3.org/2000/svg\" viewBox=\"0 0 512 512\"><path fill=\"currentColor\" d=\"M256 8C119 8 8 119 8 256s111 248 248 248 248-111 248-248S393 8 256 8zm0 448c-110.5 0-200-89.5-200-200S145.5 56 256 56s200 89.5 200 200-89.5 200-200 200zm61.8-104.4l-84.9-61.7c-3.1-2.3-4.9-5.9-4.9-9.7V116c0-6.6 5.4-12 12-12h32c6.6 0 12 5.4 12 12v141.7l66.8 48.6c5.4 3.9 6.5 11.4 2.6 16.8L334.6 349c-3.9 5.3-11.4 6.5-16.8 2.6z\"></path></svg></span><span class=\"ContentInformationLayoutAstyle__DateText-sc-1ut12ee-5 irZwZv\">21 ชั่วโมงที่แล้ว</span></div><a title=\"การเมือง\" target=\"_blank\" href=\"/news/categories/politics\" class=\"ContentInformationLayoutAstyle__CategoryLink-sc-1ut12ee-7 jXpFAw\">การเมือง</a></div></div></div></article></div></div><div class=\"indexpage__WrapperPagination-sc-1cmu2iw-0 gaXxpO\"><div class=\"Paginationstyle__PaginationWrapper-sc-fj7axy-0 dgzJtp\"><div class=\"Paginationstyle__LeftIcon-sc-fj7axy-4 cFDMdv\"><svg aria-hidden=\"true\" focusable=\"false\" data-prefix=\"far\" data-icon=\"chevron-left\" class=\"svg-inline--fa fa-chevron-left fa-w-8 \" role=\"img\" xmlns=\"http://www.w3.org/2000/svg\" viewBox=\"0 0 256 512\"><path fill=\"currentColor\" d=\"M231.293 473.899l19.799-19.799c4.686-4.686 4.686-12.284 0-16.971L70.393 256 251.092 74.87c4.686-4.686 4.686-12.284 0-16.971L231.293 38.1c-4.686-4.686-12.284-4.686-16.971 0L4.908 247.515c-4.686 4.686-4.686 12.284 0 16.971L214.322 473.9c4.687 4.686 12.285 4.686 16.971-.001z\"></path></svg></div><div class=\"Paginationstyle__PageItemsWrapper-sc-fj7axy-1 kOUFiE\"><a href=\"/news/categories/politics/archive?page=1&amp;section=politics\" class=\"Paginationstyle__PageItem-sc-fj7axy-3 hlcUWF\">1</a><a href=\"/news/categories/politics/archive?page=2&amp;section=politics\" class=\"Paginationstyle__PageItem-sc-fj7axy-3 dZquna\">2</a><a href=\"/news/categories/politics/archive?page=3&amp;section=politics\" class=\"Paginationstyle__PageItem-sc-fj7axy-3 dZquna\">3</a><a href=\"/news/categories/politics/archive?page=4&amp;section=politics\" class=\"Paginationstyle__PageItem-sc-fj7axy-3 dZquna\">4</a><a href=\"/news/categories/politics/archive?page=5&amp;section=politics\" class=\"Paginationstyle__PageItem-sc-fj7axy-3 dZquna\">5</a><a href=\"/news/categories/politics/archive?page=6&amp;section=politics\" class=\"Paginationstyle__Separator-sc-fj7axy-2 pvKzx\">...</a><a href=\"/news/categories/politics/archive?page=820&amp;section=politics\" class=\"Paginationstyle__PageItem-sc-fj7axy-3 dZquna\">820</a></div><a style=\"text-decoration:none\" href=\"/news/categories/politics/archive?page=2&amp;section=politics\"><div class=\"Paginationstyle__LeftIcon-sc-fj7axy-4 Paginationstyle__RightIcon-sc-fj7axy-5 hJqxsr iVFPjs\"><svg aria-hidden=\"true\" focusable=\"false\" data-prefix=\"far\" data-icon=\"chevron-right\" class=\"svg-inline--fa fa-chevron-right fa-w-8 \" role=\"img\" xmlns=\"http://www.w3.org/2000/svg\" viewBox=\"0 0 256 512\"><path fill=\"currentColor\" d=\"M24.707 38.101L4.908 57.899c-4.686 4.686-4.686 12.284 0 16.971L185.607 256 4.908 437.13c-4.686 4.686-4.686 12.284 0 16.971L24.707 473.9c4.686 4.686 12.284 4.686 16.971 0l209.414-209.414c4.686-4.686 4.686-12.284 0-16.971L41.678 38.101c-4.687-4.687-12.285-4.687-16.971 0z\"></path></svg></div></a></div></div></section></div><div class=\"lazyload-wrapper \"><div class=\"lazyload-placeholder\"></div></div></div><script id=\"__NEXT_DATA__\" type=\"application/json\">{\"props\":{\"pageProps\":{\"initialState\":{\"content\":{\"response\":{},\"pending\":false,\"error\":{}},\"dailyNews\":{\"response\":{\"items\":[]},\"pending\":false,\"error\":{}},\"gallery\":{\"galleryList\":{\"response\":{},\"pending\":false,\"error\":{}},\"galleryCategory\":{\"response\":{},\"pending\":false,\"error\":{}},\"galleryContent\":{\"response\":{},\"pending\":false,\"error\":{}}},\"infographic\":{\"infographicList\":{\"response\":{},\"pending\":false,\"error\":{}},\"infographicCategory\":{\"response\":{},\"pending\":false,\"error\":{}},\"infographicDetail\":{\"response\":{},\"pending\":false,\"error\":{}},\"infographicArchive\":{\"response\":{},\"pending\":false,\"error\":{}}},\"topic\":{\"topicList\":{\"response\":{},\"pending\":false,\"error\":{}},\"topicById\":{\"response\":{},\"pending\":false,\"error\":{}}},\"clip\":{\"latestClips\":{\"response\":{},\"pending\":false,\"error\":{}},\"clipDetail\":{\"response\":{},\"pending\":false,\"error\":{}}},\"section\":{\"sectionPage\":{\"response\":{},\"pending\":false,\"error\":{}},\"allNewsSectionPage\":{\"response\":{\"minTs\":1680502327,\"currentTime\":\"1970-01-01T07:00:00+07:00\",\"total\":24,\"page\":1,\"pageCount\":820,\"totalPage\":820,\"header\":{\"sectionName\":\"การเมือง\",\"sectionEn\":\"politics\",\"imgUrl\":\"\"},\"items\":[{\"id\":326248,\"title\":\"\\\\\"โรม\\\\\" นำทีมว่าที่ผู้สมัคร ส.ส.นครศรีฯ ทั้ง 10 เขต มั่นใจปักธงส้มได้แน่\",\"categoryId\":1,\"categoryName\":\"การเมือง\",\"categoryUrl\":\"/news/categories/politics\",\"description\":\"ก้าวไกล ดาวกระจายสมัคร ส.ส.ทั่วประเทศ บรรยากาศสุดคึกคัก \\\\\"รังสิมันต์ โรม\\\\\" นำทีมว่าที่ผู้สมัคร ส.ส.นครศรีฯ ทั้ง 10 เขต มั่นใจรอบนี้ปักธงส้มได้แน่ ขอกาก้าวไกลเลือกคนใหม่ไปเปลี่ยนประเทศ ให้การเมืองดี ปากท้องดี มีอนาคต\",\"imgUrl\":\"https://news.thaipbs.or.th/media/G0DL5oPyrtt5HBAivUvT5WIzS24OXIju9K08fnmPhJ2mFQkDTf6MyR.jpg\",\"media\":{\"default\":\"https://news.thaipbs.or.th/media/G0DL5oPyrtt5HBAivUvT5WIzS24OXIju9K08fnmPhJ2mFQkDTf6MyR.jpg\",\"small\":\"https://news.thaipbs.or.th/media/BorYqhd9Mg2OTmfmb5zLHk0fxmeFZ6ubWjFE78bhMWxB5ivPnb1Ir.jpg\",\"thumbnailHighQuality\":\"https://news.thaipbs.or.th/media/2aYqS0l4EOhseuUiUeSPRj3OyPSFIOVn.jpg\",\"thumbnailRatio16per9Clean\":\"https://news.thaipbs.or.th/media/TSNBg3wSBdng7ijMho36H1IHoc5uLovNDzh6HeHSJoj.jpg\",\"thumbnailRatio16per9CleanHighQuality\":\"https://news.thaipbs.or.th/media/2aYqS0l4EOhseuUiUeSPRj3OyPSFIObz.jpg\"},\"voicePath\":\"https://botnoi-tts.s3.amazonaws.com:443/payback_image/thaipbs/1680501002.mp3\",\"restUrl\":\"https://news.thaipbs.or.th/api-v/content?id=326248\",\"canonical\":\"https://news.thaipbs.or.th/content/326248\",\"url\":\"/news/content/326248\",\"isClip\":false,\"isGallery\":false,\"publishTime\":\"2023-04-03T12:43:00+07:00\",\"createTime\":\"2023-04-03T11:25:55+07:00\",\"lastUpdateTime\":\"2023-04-03T12:47:22+07:00\"},{\"id\":326244,\"title\":\"\\\\\"พิธา\\\\\" นำทีมผู้สมัคร ส.ส. 33 เขต กทม.ขึ้นรถปราศรัยหลังจับเบอร์\",\"categoryId\":1,\"categoryName\":\"การเมือง\",\"categoryUrl\":\"/news/categories/politics\",\"description\":\"ส.ส.ก้าวไกล ขึ้นรถปราศรัยหลังจับเบอร์ผู้สมัคร ส.ส.เขต กทม. \\\\\"พิธา\\\\\" ชี้เลือกตั้งครั้งนี้เป็นโอกาสสร้างการเปลี่ยนแปลง และพรรคก้าวไกลได้เปรียบกว่าครั้งอนาคตใหม่\",\"imgUrl\":\"https://news.thaipbs.or.th/media/G0DL5oPyrtt5HBAivUvT5WGodaeD1mBX02nLpaNvLneBALdG0OSlyw.jpg\",\"media\":{\"default\":\"https://news.thaipbs.or.th/media/G0DL5oPyrtt5HBAivUvT5WGodaeD1mBX02nLpaNvLneBALdG0OSlyw.jpg\",\"small\":\"https://news.thaipbs.or.th/media/BorYqhd9Mg2OTmfmb5zLHkz9JD9g4FysCnYBXGzJ5hLk65eBrTAbD.jpg\",\"thumbnailHighQuality\":\"https://news.thaipbs.or.th/media/2aYqS0l4EOhseuUiUeSPRjl53q1gPHBL.jpg\",\"thumbnailRatio16per9Clean\":\"https://news.thaipbs.or.th/media/TSNBg3wSBdng7ijMho36H1B9TMy2h5TlEsTcm1MhJKj.jpg\",\"thumbnailRatio16per9CleanHighQuality\":\"https://news.thaipbs.or.th/media/2aYqS0l4EOhseuUiUeSPRjl53q1gPGzm.jpg\"},\"voicePath\":\"https://botnoi-tts.s3.amazonaws.com:443/payback_image/thaipbs/1680499802.mp3\",\"restUrl\":\"https://news.thaipbs.or.th/api-v/content?id=326244\",\"canonical\":\"https://news.thaipbs.or.th/content/326244\",\"url\":\"/news/content/326244\",\"isClip\":false,\"isGallery\":false,\"publishTime\":\"2023-04-03T12:28:07+07:00\",\"createTime\":\"2023-04-03T10:12:07+07:00\",\"lastUpdateTime\":\"2023-04-03T12:28:07+07:00\"},{\"id\":326247,\"title\":\"\\\\\"บิ๊กตู่\\\\\" เปิดใจไม่ลงปาร์ตี้ลิสต์เหตุงานเยอะ อยู่ไม่ถึง 2 ปีมี \\\\\"พีระพันธุ์\\\\\"ตัวแทน\",\"categoryId\":1,\"categoryName\":\"การเมือง\",\"categoryUrl\":\"/news/categories/politics\",\"description\":\"พล.อ.ประยุทธ์ ย้ำไม่จับมือทุกพรรค ไม่มีเงื่อนไขจัดตั้งรัฐบาล ไม่คุยทักษิณถ้าไม่เข้ากระบวนการ กม. ส่วนสาเหตุไม่ลงปาร์ตี้ลิสต์ รทสช.เหตุงานมาก แต่ถ้าอยู่ไม่ถึง 2 ปี มี \\\\\"พีระพันธุ์\\\\\"ตัวแทน\",\"imgUrl\":\"https://news.thaipbs.or.th/media/G0DL5oPyrtt5HBAivUvT5WEgVdD9nlOfvvgd3NeJofiVjpsb9JuoOi.jpg\",\"media\":{\"default\":\"https://news.thaipbs.or.th/media/G0DL5oPyrtt5HBAivUvT5WEgVdD9nlOfvvgd3NeJofiVjpsb9JuoOi.jpg\",\"small\":\"https://news.thaipbs.or.th/media/BorYqhd9Mg2OTmfmb5zLHkzdJEmQXnhDyxwEUnkp6nwwsZIQs2mNK.jpg\",\"thumbnailHighQuality\":\"https://news.thaipbs.or.th/media/2aYqS0l4EOhseuUiUeSPRjU8eBR9asaE.jpg\",\"thumbnailRatio16per9Clean\":\"https://news.thaipbs.or.th/media/TSNBg3wSBdng7ijMho36H058kb0FDFLJsSMq8AGwSR0.jpg\",\"thumbnailRatio16per9CleanHighQuality\":\"https://news.thaipbs.or.th/media/2aYqS0l4EOhseuUiUeSPRjU8eBR9asXo.jpg\"},\"voicePath\":\"https://botnoi-tts.s3.amazonaws.com:443/payback_image/thaipbs/1680501601.mp3\",\"restUrl\":\"https://news.thaipbs.or.th/api-v/content?id=326247\",\"canonical\":\"https://news.thaipbs.or.th/content/326247\",\"url\":\"/news/content/326247\",\"isClip\":false,\"isGallery\":false,\"publishTime\":\"2023-04-03T11:32:00+07:00\",\"createTime\":\"2023-04-03T10:56:03+07:00\",\"lastUpdateTime\":\"2023-04-03T12:59:04+07:00\"},{\"id\":326245,\"title\":\"กกต.เตือน ส.ส. ได้เบอร์ \\\\\"อย่าแห่หาเสียง\\\\\" 7 เม.ย.ลุ้นศาลปมแบ่งเขต  \",\"categoryId\":1,\"categoryName\":\"การเมือง\",\"categoryUrl\":\"/news/categories/politics\",\"description\":\"กกต.พอใจรับสมัครส.ส.วันแรก รอตรวจคุณสมบัติอีก 7 วัน เตือนได้เบอร์แล้ว อย่าแห่หาเสียงเข้าข่ายจัดมหรสพ-รื่นเริง รอลุ้นศาลปมแบ่งเขต 7 เม.ย.นี้ \",\"imgUrl\":\"https://news.thaipbs.or.th/media/G0DL5oPyrtt5HBAivUvT5WF8nGwZui23BcN4QOwG1TLEDk0H74QqXn.jpg\",\"media\":{\"default\":\"https://news.thaipbs.or.th/media/G0DL5oPyrtt5HBAivUvT5WF8nGwZui23BcN4QOwG1TLEDk0H74QqXn.jpg\",\"small\":\"https://news.thaipbs.or.th/media/BorYqhd9Mg2OTmfmb5zLHkzzAuqs9KX61JP7nwILnXRLIwo31EDiM.jpg\",\"thumbnailHighQuality\":\"https://news.thaipbs.or.th/media/2aYqS0l4EOhseuUiUeSPRjgi5WFTDJa0.jpg\",\"thumbnailRatio16per9Clean\":\"https://news.thaipbs.or.th/media/TSNBg3wSBdng7ijMho36H1AFQ2TJWyU28eMdvtPAHRt.jpg\",\"thumbnailRatio16per9CleanHighQuality\":\"https://news.thaipbs.or.th/media/2aYqS0l4EOhseuUiUeSPRjgi5WFTDJe9.jpg\"},\"voicePath\":\"https://botnoi-tts.s3.amazonaws.com:443/payback_image/thaipbs/1680501603.mp3\",\"restUrl\":\"https://news.thaipbs.or.th/api-v/content?id=326245\",\"canonical\":\"https://news.thaipbs.or.th/content/326245\",\"url\":\"/news/content/326245\",\"isClip\":false,\"isGallery\":false,\"publishTime\":\"2023-04-03T11:15:00+07:00\",\"createTime\":\"2023-04-03T10:43:31+07:00\",\"lastUpdateTime\":\"2023-04-03T12:59:24+07:00\"},{\"id\":326246,\"title\":\"“วราวุธ” มั่นใจในผลงาน อ้อนคนสุพรรณฯ ขอ 8 แสนเสียง\",\"categoryId\":1,\"categoryName\":\"การเมือง\",\"categoryUrl\":\"/news/categories/politics\",\"description\":\"“วราวุธ” ระบุชาติไทยพัฒนาไม่ประมาท ขอคะแนนชาวสุพรรณฯ กว่า 8 แสนคน ทั้งเบอร์คน-เบอร์พรรค ขอ กกต. ออกแบบบัตรเลือกตั้ง อย่าทำประชาชนสับสน\",\"imgUrl\":\"https://news.thaipbs.or.th/media/G0DL5oPyrtt5HBAivUvT5WFRKXbbj4U1ePVY5vFRkufjYe5pKCc4fp.jpg\",\"media\":{\"default\":\"https://news.thaipbs.or.th/media/G0DL5oPyrtt5HBAivUvT5WFRKXbbj4U1ePVY5vFRkufjYe5pKCc4fp.jpg\",\"small\":\"https://news.thaipbs.or.th/media/BorYqhd9Mg2OTmfmb5zLHkzoeHmIINJ3j4BxJI8ONyXv6G0I0OCRC.jpg\",\"thumbnailHighQuality\":\"https://news.thaipbs.or.th/media/2aYqS0l4EOhseuUiUeSPRja9D8rbJIQN.jpg\",\"thumbnailRatio16per9Clean\":\"https://news.thaipbs.or.th/media/TSNBg3wSBdng7ijMho36H08GpR1Ml7yxx1cCCWNQskZ.jpg\",\"thumbnailRatio16per9CleanHighQuality\":\"https://news.thaipbs.or.th/media/2aYqS0l4EOhseuUiUeSPRja9D8rbJITf.jpg\"},\"voicePath\":\"https://botnoi-tts.s3.amazonaws.com:443/payback_image/thaipbs/1680494402.mp3\",\"restUrl\":\"https://news.thaipbs.or.th/api-v/content?id=326246\",\"canonical\":\"https://news.thaipbs.or.th/content/326246\",\"url\":\"/news/content/326246\",\"isClip\":false,\"isGallery\":false,\"publishTime\":\"2023-04-03T10:55:00+07:00\",\"createTime\":\"2023-04-03T10:52:05+07:00\",\"lastUpdateTime\":\"2023-04-03T10:59:57+07:00\"},{\"id\":326242,\"title\":\"\\\\\"ขี่สกู๊ตเตอร์-สวมชุดนักรบโบราณ\\\\\" สีสันรับสมัครเลือกตั้ง2566\",\"categoryId\":1,\"categoryName\":\"การเมือง\",\"categoryUrl\":\"/news/categories/politics\",\"description\":\"สีสันรับสมัครเลือกตั้ง ส.ส.วันแรก ชูแนวคิดนั่งรถ EV ขี่สกู๊ตเตอร์ช่วยลดปัญหาจราจร-ฝุ่น PM2.5 ส่วนศรัณย์วุฒิ ขี่ม้าแต่งชุดนักรบโบราณ รับสมัครส.ส.ที่อุตรดิตถ์ เรียกเสียงฮือฮา\",\"imgUrl\":\"https://news.thaipbs.or.th/media/G0DL5oPyrtt5HBAivUvT5WCQtMqnddo5rMRXpQzDXMxCbxfa7sxoOd.jpg\",\"media\":{\"default\":\"https://news.thaipbs.or.th/media/G0DL5oPyrtt5HBAivUvT5WCQtMqnddo5rMRXpQzDXMxCbxfa7sxoOd.jpg\",\"small\":\"https://news.thaipbs.or.th/media/BorYqhd9Mg2OTmfmb5zLHky5UnY1JixJICeWqbx5M7OnvV6ILiByX.jpg\",\"thumbnailHighQuality\":\"https://news.thaipbs.or.th/media/2aYqS0l4EOhseuUiUeSPRjDDdm6jI8xS.jpg\",\"thumbnailRatio16per9Clean\":\"https://news.thaipbs.or.th/media/BRpLwT0TYaGXOF4tVw828AaJJ7nd7POYFlhbfASwc77Yo.jpg\",\"thumbnailRatio16per9CleanHighQuality\":\"https://news.thaipbs.or.th/media/Dms94pzOffeDNs7S1ulFVGgsmWUxzHCvqe.jpg\"},\"voicePath\":\"https://botnoi-tts.s3.amazonaws.com:443/payback_image/thaipbs/1680494102.mp3\",\"restUrl\":\"https://news.thaipbs.or.th/api-v/content?id=326242\",\"canonical\":\"https://news.thaipbs.or.th/content/326242\",\"url\":\"/news/content/326242\",\"isClip\":false,\"isGallery\":false,\"publishTime\":\"2023-04-03T10:23:00+07:00\",\"createTime\":\"2023-04-03T10:03:17+07:00\",\"lastUpdateTime\":\"2023-04-03T10:53:55+07:00\"},{\"id\":326240,\"title\":\"\\\\\"ประยุทธ์\\\\\" ไม่กังวลเลือกตั้ง 66 พร้อมสู้ \\\\\"ประวิตร\\\\\" แบบการเมือง\",\"categoryId\":1,\"categoryName\":\"การเมือง\",\"categoryUrl\":\"/news/categories/politics\",\"description\":\"\\\\\"ประยุทธ์\\\\\" ไม่กังวลเลือกตั้ง 66 พร้อมสู้ \\\\\"ประวิตร\\\\\" แบบการเมือง ต่างคนต่างอยู่ ต่างคนต่างสู้ เปิดใจทำไมไม่ลงปาร์ตี้ลิสต์ รทสช.\",\"imgUrl\":\"https://news.thaipbs.or.th/media/G0DL5oPyrtt5HBAivUvT5WDrUgXKcObSkqShIsfQ8s31ESHRoQS8Nn.jpg\",\"media\":{\"default\":\"https://news.thaipbs.or.th/media/G0DL5oPyrtt5HBAivUvT5WDrUgXKcObSkqShIsfQ8s31ESHRoQS8Nn.jpg\",\"small\":\"https://news.thaipbs.or.th/media/BorYqhd9Mg2OTmfmb5zLHkzQxC9xgBirtrLQuLuFdheZd2RnHIXmA.jpg\",\"thumbnailHighQuality\":\"https://news.thaipbs.or.th/media/2aYqS0l4EOhseuUiUeSPRjOagyQHVnQV.jpg\",\"thumbnailRatio16per9Clean\":\"https://news.thaipbs.or.th/media/TSNBg3wSBdng7ijMho36H03oqEQmBlhowoA5ehIWdKK.jpg\",\"thumbnailRatio16per9CleanHighQuality\":\"https://news.thaipbs.or.th/media/2aYqS0l4EOhseuUiUeSPRjOagyQHVncd.jpg\"},\"voicePath\":\"https://botnoi-tts.s3.amazonaws.com:443/payback_image/thaipbs/1680493502.mp3\",\"restUrl\":\"https://news.thaipbs.or.th/api-v/content?id=326240\",\"canonical\":\"https://news.thaipbs.or.th/content/326240\",\"url\":\"/news/content/326240\",\"isClip\":false,\"isGallery\":false,\"publishTime\":\"2023-04-03T10:20:00+07:00\",\"createTime\":\"2023-04-03T09:52:14+07:00\",\"lastUpdateTime\":\"2023-04-03T10:40:09+07:00\"},{\"id\":326243,\"title\":\"“ตรัง-ปัตตานี” รับสมัคร ส.ส.วันแรกคึกคัก “เด่น-ทวี” มาให้กำลังใจ\",\"categoryId\":1,\"categoryName\":\"การเมือง\",\"categoryUrl\":\"/news/categories/politics\",\"description\":\"สนามเลือกตั้งตรัง-ปัตตานีคึกคัก กองเชียร์ตรังทั้ง 4 เขต มาให้กำลังใจหนาแน่น ลุ่นได้เลขตัวเดียว ส่วนที่ปัตตานี เด่น โต๊ะมีนา มาให้กำลังใจลูกสาว ขณะที่ ทวี สอดส่อง มาให้กำลังใจลูกทีม\",\"imgUrl\":\"https://news.thaipbs.or.th/media/G0DL5oPyrtt5HBAivUvT5WBvqV5dfGV7ZQoTLHHTu1EVijLa8Oy7xa.jpg\",\"media\":{\"default\":\"https://news.thaipbs.or.th/media/G0DL5oPyrtt5HBAivUvT5WBvqV5dfGV7ZQoTLHHTu1EVijLa8Oy7xa.jpg\",\"small\":\"https://news.thaipbs.or.th/media/BorYqhd9Mg2OTmfmb5zLHkyxyciuXgDXknYSM1ix7RrrsjzkRopXK.jpg\",\"thumbnailHighQuality\":\"https://news.thaipbs.or.th/media/2aYqS0l4EOhseuUiUeSPRi9EakeNWu8Y.jpg\",\"thumbnailRatio16per9Clean\":\"https://news.thaipbs.or.th/media/TSNBg3wSBdng7ijMho36H0yNKGP1jFWjnZzHGfEogte.png\",\"thumbnailRatio16per9CleanHighQuality\":\"https://news.thaipbs.or.th/media/2aYqS0l4EOhseuUiUeSPRi9EakeNWvCZ.png\"},\"voicePath\":\"https://botnoi-tts.s3.amazonaws.com:443/payback_image/thaipbs/1680491403.mp3\",\"restUrl\":\"https://news.thaipbs.or.th/api-v/content?id=326243\",\"canonical\":\"https://news.thaipbs.or.th/content/326243\",\"url\":\"/news/content/326243\",\"isClip\":false,\"isGallery\":false,\"publishTime\":\"2023-04-03T10:09:58+07:00\",\"createTime\":\"2023-04-03T10:05:34+07:00\",\"lastUpdateTime\":\"2023-04-03T10:09:58+07:00\"},{\"id\":326241,\"title\":\"\\\\\"เสรีพิศุทธ์\\\\\" ชูปราบโกง ดึงคนลงคะแนน \\\\\"เสรีรวมไทย\\\\\"\",\"categoryId\":1,\"categoryName\":\"การเมือง\",\"categoryUrl\":\"/news/categories/politics\",\"description\":\"พล.ต.อ.เสรีพิศุทธ์ เตมียเวส ชูนโยบายปราบโกง หวังดึงคนลงคะแนนให้พรรคเสรีรวมไทย พร้อมส่ง ส.ส.ลงครบทั่วประเทศ 400 เขต\",\"imgUrl\":\"https://news.thaipbs.or.th/media/G0DL5oPyrtt5HBAivUvT5WC9Le8Fta7pTRazCWCrNmzwVX3hiIwDdv.jpg\",\"media\":{\"default\":\"https://news.thaipbs.or.th/media/G0DL5oPyrtt5HBAivUvT5WC9Le8Fta7pTRazCWCrNmzwVX3hiIwDdv.jpg\",\"small\":\"https://news.thaipbs.or.th/media/BorYqhd9Mg2OTmfmb5zLHkzGGK3O67UQSsaWC9hJuQDI8DasdQmIU.jpg\",\"thumbnailHighQuality\":\"https://news.thaipbs.or.th/media/2aYqS0l4EOhseuUiUeSPRjIvO3tVJtkl.jpg\",\"thumbnailRatio16per9Clean\":\"https://news.thaipbs.or.th/media/TSNBg3wSBdng7ijMho36H01oJLNDrleCmWs2xzCxtBg.jpg\",\"thumbnailRatio16per9CleanHighQuality\":\"https://news.thaipbs.or.th/media/2aYqS0l4EOhseuUiUeSPRjIvO3tVJtvm.jpg\"},\"voicePath\":\"https://botnoi-tts.s3.amazonaws.com:443/payback_image/thaipbs/1680491401.mp3\",\"restUrl\":\"https://news.thaipbs.or.th/api-v/content?id=326241\",\"canonical\":\"https://news.thaipbs.or.th/content/326241\",\"url\":\"/news/content/326241\",\"isClip\":false,\"isGallery\":false,\"publishTime\":\"2023-04-03T10:04:00+07:00\",\"createTime\":\"2023-04-03T09:52:49+07:00\",\"lastUpdateTime\":\"2023-04-03T10:05:57+07:00\"},{\"id\":326239,\"title\":\"\\\\\"ไทยสร้างไทย\\\\\" ขอเป็นทางรอดให้ประเทศ-ยุติการเมือง 2 ขั้ว\",\"categoryId\":1,\"categoryName\":\"การเมือง\",\"categoryUrl\":\"/news/categories/politics\",\"description\":\"หัวหน้าพรรคไทยสร้างไทย ประกาศพาประชาชนไปสู่ชัยชนะและประเทศชาติอยู่รอด โดยต้องยุติการเมือง 2 ขั้วที่ทำร้ายประเทศมา 17 ปี\",\"imgUrl\":\"https://news.thaipbs.or.th/media/G0DL5oPyrtt5HBAivUvT5lXEKxoJdkldKlDasUA36wAaiIQccWamgI.jpg\",\"media\":{\"default\":\"https://news.thaipbs.or.th/media/G0DL5oPyrtt5HBAivUvT5lXEKxoJdkldKlDasUA36wAaiIQccWamgI.jpg\",\"small\":\"https://news.thaipbs.or.th/media/BorYqhd9Mg2OTmfmb5zLHohMJYmSvW4hrtwwl1SPLLwWIkqBWwSit.jpg\",\"thumbnailHighQuality\":\"https://news.thaipbs.or.th/media/2aYqS0l4EOhseuUiUeSPThFC0sIX0t37.jpg\",\"thumbnailRatio16per9Clean\":\"https://news.thaipbs.or.th/media/TSNBg3wSBdng7ijMho36IiFtqFmvopYJHYl5S7mBL1P.jpg\",\"thumbnailRatio16per9CleanHighQuality\":\"https://news.thaipbs.or.th/media/2aYqS0l4EOhseuUiUeSPThFC0sIX0uAj.jpg\"},\"voicePath\":\"https://botnoi-tts.s3.amazonaws.com:443/payback_image/thaipbs/1680490802.mp3\",\"restUrl\":\"https://news.thaipbs.or.th/api-v/content?id=326239\",\"canonical\":\"https://news.thaipbs.or.th/content/326239\",\"url\":\"/news/content/326239\",\"isClip\":false,\"isGallery\":false,\"publishTime\":\"2023-04-03T09:55:25+07:00\",\"createTime\":\"2023-04-03T09:33:06+07:00\",\"lastUpdateTime\":\"2023-04-03T09:55:25+07:00\"},{\"id\":326238,\"title\":\"ภท.ชูจุดแข็งนโยบายทำได้จริง พร้อมส่งผู้สมัครสู้ศึกเลือกตั้งสนาม กทม.\",\"categoryId\":1,\"categoryName\":\"การเมือง\",\"categoryUrl\":\"/news/categories/politics\",\"description\":\"\\\\\"พุทธิพงษ์\\\\\" หัวหน้าทีม กทม.พรรคภูมิใจไทย พร้อมสู้ศึกเลือกตั้งส.ส.กทม. 33 เขต ทั้งหน้าใหม่และหน้าเก่า มั่นใจนโยบายทำได้จริง จุดแข็งช่วยคว้าชัยเลือกตั้ง \",\"imgUrl\":\"https://news.thaipbs.or.th/media/G0DL5oPyrtt5HBAivUvT5lX0snKR1703Dtszyt8H1eiU8beyyLERqa.jpg\",\"media\":{\"default\":\"https://news.thaipbs.or.th/media/G0DL5oPyrtt5HBAivUvT5lX0snKR1703Dtszyt8H1eiU8beyyLERqa.jpg\",\"small\":\"https://news.thaipbs.or.th/media/BorYqhd9Mg2OTmfmb5zLHohX4VG0vchnecBon3rA6iRPUzFsDOdMw.jpg\",\"thumbnailHighQuality\":\"https://news.thaipbs.or.th/media/2aYqS0l4EOhseuUiUeSPThLRJfDnRwki.jpg\",\"thumbnailRatio16per9Clean\":\"https://news.thaipbs.or.th/media/TSNBg3wSBdng7ijMho36IiH6mhzv9sv8hQGCjvblMUv.jpg\",\"thumbnailRatio16per9CleanHighQuality\":\"https://news.thaipbs.or.th/media/2aYqS0l4EOhseuUiUeSPThLRJfDnRww9.jpg\"},\"voicePath\":\"https://botnoi-tts.s3.amazonaws.com:443/payback_image/thaipbs/1680489602.mp3\",\"restUrl\":\"https://news.thaipbs.or.th/api-v/content?id=326238\",\"canonical\":\"https://news.thaipbs.or.th/content/326238\",\"url\":\"/news/content/326238\",\"isClip\":false,\"isGallery\":false,\"publishTime\":\"2023-04-03T09:36:43+07:00\",\"createTime\":\"2023-04-03T09:03:37+07:00\",\"lastUpdateTime\":\"2023-04-03T09:36:43+07:00\"},{\"id\":326233,\"title\":\"\\\\\"พิธา\\\\\" มั่นใจ 3 จุดแข็งช่วยคว้า 33 ที่นั่ง ส.ส.กทม.\",\"categoryId\":1,\"categoryName\":\"การเมือง\",\"categoryUrl\":\"/news/categories/politics\",\"description\":\"\\\\\"พิธา\\\\\" นำทัพ \\\\\"ก้าวไกล\\\\\" ลงสมัครชิงชัย ส.ส. ทั้ง 33 เขตของ กทม. ท่ามกลางกองเชียร์ มั่นใจ 3 จุดแข็งช่วยคว้าเก้าอี้\",\"imgUrl\":\"https://news.thaipbs.or.th/media/G0DL5oPyrtt5HBAivUvT5lQWt7XE9HDhGMc2RWgBdlVoj4ZE1zTlzR.jpg\",\"media\":{\"default\":\"https://news.thaipbs.or.th/media/G0DL5oPyrtt5HBAivUvT5lQWt7XE9HDhGMc2RWgBdlVoj4ZE1zTlzR.jpg\",\"small\":\"https://news.thaipbs.or.th/media/BorYqhd9Mg2OTmfmb5zLHofjhZgORr0qZOn5r5RQjJ7XY4CdtK2EJ.jpg\",\"thumbnailHighQuality\":\"https://news.thaipbs.or.th/media/2aYqS0l4EOhseuUiUeSPTgNtCHsCCrMt.jpg\",\"thumbnailRatio16per9Clean\":\"https://news.thaipbs.or.th/media/TSNBg3wSBdng7ijMho36IhwzwZw4vwLy6bPcta6XBVx.jpg\",\"thumbnailRatio16per9CleanHighQuality\":\"https://news.thaipbs.or.th/media/2aYqS0l4EOhseuUiUeSPTgNtCHsCCq67.jpg\"},\"voicePath\":\"https://botnoi-tts.s3.amazonaws.com:443/payback_image/thaipbs/1680488702.mp3\",\"restUrl\":\"https://news.thaipbs.or.th/api-v/content?id=326233\",\"canonical\":\"https://news.thaipbs.or.th/content/326233\",\"url\":\"/news/content/326233\",\"isClip\":false,\"isGallery\":false,\"publishTime\":\"2023-04-03T09:20:00+07:00\",\"createTime\":\"2023-04-03T08:41:04+07:00\",\"lastUpdateTime\":\"2023-04-03T09:22:33+07:00\"},{\"id\":326237,\"title\":\"\\\\\"หมอวรงค์\\\\\" ยันสู้เต็มที่ชิงเก้าอี้ ส.ส.กทม.ชูพลังงานสะอาด-ปราบโกง\",\"categoryId\":1,\"categoryName\":\"การเมือง\",\"categoryUrl\":\"/news/categories/politics\",\"description\":\"นพ.วรงค์ เดชกิจวิกรม หัวหน้าพรรคไทยภักดี นำผู้สมัคร ส.ส.กทม.ลงรับสมัครเลือกตั้ง ชูนโยบายพลังงานสะอาดจากหญ้าเนเปียร์ และปราบทุจริต \",\"imgUrl\":\"https://news.thaipbs.or.th/media/G0DL5oPyrtt5HBAivUvT5lNuYSFvyhctSa2jdPqVCQzvoWfQIywCHD.jpg\",\"media\":{\"default\":\"https://news.thaipbs.or.th/media/G0DL5oPyrtt5HBAivUvT5lNuYSFvyhctSa2jdPqVCQzvoWfQIywCHD.jpg\",\"small\":\"https://news.thaipbs.or.th/media/BorYqhd9Mg2OTmfmb5zLHoe6NnP5k6ds2WAmmjRV5NCEHVCKXs04l.jpg\",\"thumbnailHighQuality\":\"https://news.thaipbs.or.th/media/2aYqS0l4EOhseuUiUeSPTf23IYMD3wFZ.jpg\",\"thumbnailRatio16per9Clean\":\"https://news.thaipbs.or.th/media/TSNBg3wSBdng7ijMho36IhpbyGW60I7jDOnpi8TiEBv.jpg\",\"thumbnailRatio16per9CleanHighQuality\":\"https://news.thaipbs.or.th/media/2aYqS0l4EOhseuUiUeSPTf23IYMD3wCa.jpg\"},\"voicePath\":\"https://botnoi-tts.s3.amazonaws.com:443/payback_image/thaipbs/1680488103.mp3\",\"restUrl\":\"https://news.thaipbs.or.th/api-v/content?id=326237\",\"canonical\":\"https://news.thaipbs.or.th/content/326237\",\"url\":\"/news/content/326237\",\"isClip\":false,\"isGallery\":false,\"publishTime\":\"2023-04-03T09:11:50+07:00\",\"createTime\":\"2023-04-03T09:00:21+07:00\",\"lastUpdateTime\":\"2023-04-03T09:11:50+07:00\"},{\"id\":326235,\"title\":\"“นครศรีฯ” แห่กราบพระบรมธาตุ แกนนำพรรคให้กำลังใจคึกคัก\",\"categoryId\":1,\"categoryName\":\"การเมือง\",\"categoryUrl\":\"/news/categories/politics\",\"description\":\"ผู้สมัครนครศรีธรรมราช คึกคักเข้ากราบพระบรมธาตุเจดีย์ ก่อนฟ้าสาง หวังไปให้ถึงศูนย์รับสมัครก่อนใคร ขณะที่แกนนำแต่ละพรรค มาให้กำลังใจผู้สมัคร\",\"imgUrl\":\"https://news.thaipbs.or.th/media/G0DL5oPyrtt5HBAivUvT5lOzvJmxOyLCuNCdlMUXgjV7yY0ljOQqMD.jpg\",\"media\":{\"default\":\"https://news.thaipbs.or.th/media/G0DL5oPyrtt5HBAivUvT5lOzvJmxOyLCuNCdlMUXgjV7yY0ljOQqMD.jpg\",\"small\":\"https://news.thaipbs.or.th/media/BorYqhd9Mg2OTmfmb5zLHofMhNdPxlVFBfPmKcoJUK6Uga5y2H4IH.jpg\",\"thumbnailHighQuality\":\"https://news.thaipbs.or.th/media/2aYqS0l4EOhseuUiUeSPTgBhN1gyiA87.jpg\",\"thumbnailRatio16per9Clean\":\"https://news.thaipbs.or.th/media/TSNBg3wSBdng7ijMho36Ihsf0oNFgru1famH1bz9j03.jpg\",\"thumbnailRatio16per9CleanHighQuality\":\"https://news.thaipbs.or.th/media/2aYqS0l4EOhseuUiUeSPTgBhN1gyiBKP.jpg\"},\"voicePath\":\"https://botnoi-tts.s3.amazonaws.com:443/payback_image/thaipbs/1680488703.mp3\",\"restUrl\":\"https://news.thaipbs.or.th/api-v/content?id=326235\",\"canonical\":\"https://news.thaipbs.or.th/content/326235\",\"url\":\"/news/content/326235\",\"isClip\":false,\"isGallery\":false,\"publishTime\":\"2023-04-03T09:09:00+07:00\",\"createTime\":\"2023-04-03T08:56:01+07:00\",\"lastUpdateTime\":\"2023-04-03T09:23:50+07:00\"},{\"id\":326234,\"title\":\"\\\\\"ประวิตร\\\\\" บอก ยังไม่มีเบอร์ในใจแต่ขอให้ได้เลขตัวเดียว ยันไม่ร่วมดีเบต\",\"categoryId\":1,\"categoryName\":\"การเมือง\",\"categoryUrl\":\"/news/categories/politics\",\"description\":\"\\\\\"พล.อ.ประวิตร\\\\\" มาให้กำลังใจ ผู้สมัคร ส.ส. กทม. 33 เขต บอกว่ายังไม่มีเบอร์ในใจ เบอร์อะไรก็ได้ ขอให้เป็นเลขตัวเดียว พร้อมระบุไม่ร่วมดีเบต ไม่เสียรังวัด เหตุ ไม่ใช่นักโต้วาที ยืนยันลงปาร์ตี้ลิสต์เบอร์หนึ่งไม่ได้ลงเพื่อความสง่างาม แต่เป็นเรื่องของพรรค\",\"imgUrl\":\"https://news.thaipbs.or.th/media/G0DL5oPyrtt5HBAivUvT5lPscQYpgFkl7QLwAeoN5FD9PkoduHCccv.jpg\",\"media\":{\"default\":\"https://news.thaipbs.or.th/media/G0DL5oPyrtt5HBAivUvT5lPscQYpgFkl7QLwAeoN5FD9PkoduHCccv.jpg\",\"small\":\"https://news.thaipbs.or.th/media/BorYqhd9Mg2OTmfmb5zLHofZwfF8apEfdWyT1Y16zjjN7D1Qv1tQI.jpg\",\"thumbnailHighQuality\":\"https://news.thaipbs.or.th/media/2aYqS0l4EOhseuUiUeSPTgIicqRcyp4F.jpg\",\"thumbnailRatio16per9Clean\":\"https://news.thaipbs.or.th/media/TSNBg3wSBdng7ijMho36IhvAIojclJossNhYQbyH8pS.jpg\",\"thumbnailRatio16per9CleanHighQuality\":\"https://news.thaipbs.or.th/media/2aYqS0l4EOhseuUiUeSPTgIicqRcypqG.jpg\"},\"voicePath\":\"https://botnoi-tts.s3.amazonaws.com:443/payback_image/thaipbs/1680495602.mp3\",\"restUrl\":\"https://news.thaipbs.or.th/api-v/content?id=326234\",\"canonical\":\"https://news.thaipbs.or.th/content/326234\",\"url\":\"/news/content/326234\",\"isClip\":false,\"isGallery\":false,\"publishTime\":\"2023-04-03T09:05:00+07:00\",\"createTime\":\"2023-04-03T08:50:48+07:00\",\"lastUpdateTime\":\"2023-04-03T11:17:16+07:00\"},{\"id\":326231,\"title\":\"“อุ๊งอิ๊ง” ประกาศสู้เต็มที่ ย้ำเป้าหมายเดินหน้าแลนด์สไลด์\",\"categoryId\":1,\"categoryName\":\"การเมือง\",\"categoryUrl\":\"/news/categories/politics\",\"description\":\"\\\\\"น.ส.แพทองธาร\\\\\" ให้กำลังใจผู้สมัคร ส.ส. กทม. ยอมรับหมายเลขเป็นปัจจัยสำคัญเพราะเป็นบัตรเลือกตั้ง 2 ใบและเป็นคนละเบอร์ ต้องสื่อสารประชาชนให้ชัดเจน พร้อมย้ำเป้าหมายแลนส์สไลด์ยังเหมือนเดิม\",\"imgUrl\":\"https://news.thaipbs.or.th/media/G0DL5oPyrtt5HBAivUvT5lRrWPclY0OLmwgiHydzDJ5mB6uzz6PCxe.jpg\",\"media\":{\"default\":\"https://news.thaipbs.or.th/media/G0DL5oPyrtt5HBAivUvT5lRrWPclY0OLmwgiHydzDJ5mB6uzz6PCxe.jpg\",\"small\":\"https://news.thaipbs.or.th/media/BorYqhd9Mg2OTmfmb5zLHof3h75wwJuDwm2XvaREVgfnjjxiXNy8i.jpg\",\"thumbnailHighQuality\":\"https://news.thaipbs.or.th/media/2aYqS0l4EOhseuUiUeSPTgYUc1b04TgV.jpg\",\"thumbnailRatio16per9Clean\":\"https://news.thaipbs.or.th/media/TSNBg3wSBdng7ijMho36Ih0kz5gOj5fjRyFXWMNzHTu.jpg\",\"thumbnailRatio16per9CleanHighQuality\":\"https://news.thaipbs.or.th/media/2aYqS0l4EOhseuUiUeSPTgYUc1b04Tat.jpg\"},\"voicePath\":\"https://botnoi-tts.s3.amazonaws.com:443/payback_image/thaipbs/1680486902.mp3\",\"restUrl\":\"https://news.thaipbs.or.th/api-v/content?id=326231\",\"canonical\":\"https://news.thaipbs.or.th/content/326231\",\"url\":\"/news/content/326231\",\"isClip\":false,\"isGallery\":false,\"publishTime\":\"2023-04-03T08:53:01+07:00\",\"createTime\":\"2023-04-03T08:27:00+07:00\",\"lastUpdateTime\":\"2023-04-03T08:53:01+07:00\"},{\"id\":326229,\"title\":\"อบอุ่น! \\\\\"เชียงราย\\\\\" รับสมัครส.ส.ผลัดใบ \\\\\"พ่อส่งลูก\\\\\" สู้ศึกเลือกตั้ง \",\"categoryId\":1,\"categoryName\":\"การเมือง\",\"categoryUrl\":\"/news/categories/politics\",\"description\":\"บรรยากาศวันแรก! เชียงราย คึกคักครอบครัวอดีตส.ส.ดัง ส่งรุ่นลูกลงสูู้ศึกเลือกตั้ง2566 คึกคักอบอุ่นสวมกอดให้กำลังใจ ขณะที่กองเชียร์สวมเสื้อพรรคพรึ่บ \",\"imgUrl\":\"https://news.thaipbs.or.th/media/G0DL5oPyrtt5HBAivUvT5nzg8BJeviaWPeYJ5I4KEblgCbU7ZVBXX0.jpg\",\"media\":{\"default\":\"https://news.thaipbs.or.th/media/G0DL5oPyrtt5HBAivUvT5nzg8BJeviaWPeYJ5I4KEblgCbU7ZVBXX0.jpg\",\"small\":\"https://news.thaipbs.or.th/media/BorYqhd9Mg2OTmfmb5zLHpIHfARTivjbphB8gtRDmUhG2NLDBFBm4.jpg\",\"thumbnailHighQuality\":\"https://news.thaipbs.or.th/media/2aYqS0l4EOhseuUiUeSPT0oRn4Fo0XRk.jpg\",\"thumbnailRatio16per9Clean\":\"https://news.thaipbs.or.th/media/TSNBg3wSBdng7ijMho36IpBzIeUlc2dZRNP7ImLS0Je.jpg\",\"thumbnailRatio16per9CleanHighQuality\":\"https://news.thaipbs.or.th/media/2aYqS0l4EOhseuUiUeSPT0oRn4Fo0XOy.jpg\"},\"voicePath\":\"https://botnoi-tts.s3.amazonaws.com:443/payback_image/thaipbs/1680486602.mp3\",\"restUrl\":\"https://news.thaipbs.or.th/api-v/content?id=326229\",\"canonical\":\"https://news.thaipbs.or.th/content/326229\",\"url\":\"/news/content/326229\",\"isClip\":false,\"isGallery\":false,\"publishTime\":\"2023-04-03T08:48:00+07:00\",\"createTime\":\"2023-04-03T08:13:05+07:00\",\"lastUpdateTime\":\"2023-04-03T08:49:16+07:00\"},{\"id\":326232,\"title\":\"ปชป.ตั้งเป้าทวงคืนเก้าอี้ ส.ส.กทม.ชูแก้ฝุ่น-น้ำท่วม-ปากท้อง\",\"categoryId\":1,\"categoryName\":\"การเมือง\",\"categoryUrl\":\"/news/categories/politics\",\"description\":\"องอาจ สุชัชวีร์ มาดามเดียร์ นำผู้สมัคร ส.ส.กทม.33 เขตมาลงรับสมัครเลือกตั้ง ขอคนกรุงให้โอกาสทวงคืนเก้าอี้ ส.ส. ชูนโยบายแก้ฝุ่น PM2.5 น้ำท่วม และปากท้องประชาชน\",\"imgUrl\":\"https://news.thaipbs.or.th/media/G0DL5oPyrtt5HBAivUvT5lQsBJl9jeNIcQF4Dhmbj55MgbsKqViooY.jpg\",\"media\":{\"default\":\"https://news.thaipbs.or.th/media/G0DL5oPyrtt5HBAivUvT5lQsBJl9jeNIcQF4Dhmbj55MgbsKqViooY.jpg\",\"small\":\"https://news.thaipbs.or.th/media/BorYqhd9Mg2OTmfmb5zLHofoq4FyQzYemyYqJjubDvGLBzqD0J3PT.jpg\",\"thumbnailHighQuality\":\"https://news.thaipbs.or.th/media/2aYqS0l4EOhseuUiUeSPTgQcVpKFlTKq.jpg\",\"thumbnailRatio16per9Clean\":\"https://news.thaipbs.or.th/media/TSNBg3wSBdng7ijMho36IhxxxufCfdX03swRQXXImcO.jpg\",\"thumbnailRatio16per9CleanHighQuality\":\"https://news.thaipbs.or.th/media/2aYqS0l4EOhseuUiUeSPTgQcVpKFlTX9.jpg\"},\"voicePath\":\"https://botnoi-tts.s3.amazonaws.com:443/payback_image/thaipbs/1680489003.mp3\",\"restUrl\":\"https://news.thaipbs.or.th/api-v/content?id=326232\",\"canonical\":\"https://news.thaipbs.or.th/content/326232\",\"url\":\"/news/content/326232\",\"isClip\":false,\"isGallery\":false,\"publishTime\":\"2023-04-03T08:38:00+07:00\",\"createTime\":\"2023-04-03T08:31:07+07:00\",\"lastUpdateTime\":\"2023-04-03T09:27:03+07:00\"},{\"id\":326230,\"title\":\"“ช่อ” นำ “ก้าวไกล” สมัครที่ขอนแก่น ยืนยันเป็นตัวแทน ปชช.-ไม่ตักตวงผลประโยชน์\",\"categoryId\":1,\"categoryName\":\"การเมือง\",\"categoryUrl\":\"/news/categories/politics\",\"description\":\"“ช่อ พรรณิการ์” นำผู้สมัคร ส.ส.ขอนแก่น พรรคก้าวไกล ปฏิญาณตนหน้าอนุสาวรีย์ประชาธิปไตยขอนแก่น ก่อนจับเบอร์ ชี้ได้อำนาจจะไม่ตักตวงผลประโยชน์เข้าตน เป็นข้ารับใช้ประชาชนเสมอไป\",\"imgUrl\":\"https://news.thaipbs.or.th/media/G0DL5oPyrtt5HBAivUvT5lSAZZL8ihasEjM7Mw0sEoFHa0U5L2iKyf.jpg\",\"media\":{\"default\":\"https://news.thaipbs.or.th/media/G0DL5oPyrtt5HBAivUvT5lSAZZL8ihasEjM7Mw0sEoFHa0U5L2iKyf.jpg\",\"small\":\"https://news.thaipbs.or.th/media/BorYqhd9Mg2OTmfmb5zLHof8KBuAmYjC5SNTLUilqiKHdauCRumJp.jpg\",\"thumbnailHighQuality\":\"https://news.thaipbs.or.th/media/2aYqS0l4EOhseuUiUeSPTgawD6YxjHjL.jpg\",\"thumbnailRatio16per9Clean\":\"https://news.thaipbs.or.th/media/TSNBg3wSBdng7ijMho36Ih1cj1dGFBY4J25lGYnUDxp.png\",\"thumbnailRatio16per9CleanHighQuality\":\"https://news.thaipbs.or.th/media/2aYqS0l4EOhseuUiUeSPTgawD6YxjHgm.png\"},\"voicePath\":\"https://botnoi-tts.s3.amazonaws.com:443/payback_image/thaipbs/1680485402.mp3\",\"restUrl\":\"https://news.thaipbs.or.th/api-v/content?id=326230\",\"canonical\":\"https://news.thaipbs.or.th/content/326230\",\"url\":\"/news/content/326230\",\"isClip\":false,\"isGallery\":false,\"publishTime\":\"2023-04-03T08:27:49+07:00\",\"createTime\":\"2023-04-03T08:26:04+07:00\",\"lastUpdateTime\":\"2023-04-03T08:27:49+07:00\"},{\"id\":326228,\"title\":\"“สุวัจน์” คาดชาติพัฒนากล้า-โคราช จะได้ 4 เขต “อนุทิน” มาตอน 08.30 น.\",\"categoryId\":1,\"categoryName\":\"การเมือง\",\"categoryUrl\":\"/news/categories/politics\",\"description\":\"“สุวัฒน์” นำทีม “ชาติพัฒนากล้า” โคราช กราบย่าโม ก่อนจะไปสมัคร หวังได้ 4 เขต “อนุทิน” จะมาตอน 08.30 น. แล้วไปกราบย่าโม\",\"imgUrl\":\"https://news.thaipbs.or.th/media/G0DL5oPyrtt5HBAivUvT5nz1HF1oSSfa2ErAVTAR8MttkjAinZt92e.jpg\",\"media\":{\"default\":\"https://news.thaipbs.or.th/media/G0DL5oPyrtt5HBAivUvT5nz1HF1oSSfa2ErAVTAR8MttkjAinZt92e.jpg\",\"small\":\"https://news.thaipbs.or.th/media/BorYqhd9Mg2OTmfmb5zLHpIMXf6Cekb7S4WCfTmcVFWM0j0WSVEX8.jpg\",\"thumbnailHighQuality\":\"https://news.thaipbs.or.th/media/2aYqS0l4EOhseuUiUeSPT0q17cAD7ODt.jpg\",\"thumbnailRatio16per9Clean\":\"https://news.thaipbs.or.th/media/TSNBg3wSBdng7ijMho36IpCt8BEOBMcfFU8x14RjvQJ.png\",\"thumbnailRatio16per9CleanHighQuality\":\"https://news.thaipbs.or.th/media/2aYqS0l4EOhseuUiUeSPT0q17cAD7OKF.png\"},\"voicePath\":\"https://botnoi-tts.s3.amazonaws.com:443/payback_image/thaipbs/1680484502.mp3\",\"restUrl\":\"https://news.thaipbs.or.th/api-v/content?id=326228\",\"canonical\":\"https://news.thaipbs.or.th/content/326228\",\"url\":\"/news/content/326228\",\"isClip\":false,\"isGallery\":false,\"publishTime\":\"2023-04-03T08:12:00+07:00\",\"createTime\":\"2023-04-03T08:10:03+07:00\",\"lastUpdateTime\":\"2023-04-03T08:13:54+07:00\"},{\"id\":326227,\"title\":\"“โคราช” คึกคัก ผู้สมัครกราบย่าโม่ ก่อนไปจับสลากรอคิวสมัคร ส.ส.\",\"categoryId\":1,\"categoryName\":\"การเมือง\",\"categoryUrl\":\"/news/categories/politics\",\"description\":\"ว่าที่ผู้สมัคร ส.ส.โคราช กราบย่าโมตั้งแต่เช้าตรู่ เอาฤกษ์เอาชัยก่อนเดินทางไปสมัครรับเลือกตั้ง ส.ส. ที่เปิดวันนี้วันแรก ทุกพรรคต่างมั่นใจ ได้ที่นั่งตามที่คาดหวัง\",\"imgUrl\":\"https://news.thaipbs.or.th/media/G0DL5oPyrtt5HBAivUvT5n6Nmx1eVBr2mV9UV6c20QjOVjy1DXaJu3.jpg\",\"media\":{\"default\":\"https://news.thaipbs.or.th/media/G0DL5oPyrtt5HBAivUvT5n6Nmx1eVBr2mV9UV6c20QjOVjy1DXaJu3.jpg\",\"small\":\"https://news.thaipbs.or.th/media/BorYqhd9Mg2OTmfmb5zLHpJt5VvVYc9eLOCuGRivkWZ5RrVZCdGll.jpg\",\"thumbnailHighQuality\":\"https://news.thaipbs.or.th/media/2aYqS0l4EOhseuUiUeSPT1ffSEi3Aih9.jpg\",\"thumbnailRatio16per9Clean\":\"https://news.thaipbs.or.th/media/TSNBg3wSBdng7ijMho36IpUq0lFfghkW3hr2MshuEhX.jpg\",\"thumbnailRatio16per9CleanHighQuality\":\"https://news.thaipbs.or.th/media/2aYqS0l4EOhseuUiUeSPT1ffSEi3AiZg.jpg\"},\"voicePath\":\"https://botnoi-tts.s3.amazonaws.com:443/payback_image/thaipbs/1680481801.mp3\",\"restUrl\":\"https://news.thaipbs.or.th/api-v/content?id=326227\",\"canonical\":\"https://news.thaipbs.or.th/content/326227\",\"url\":\"/news/content/326227\",\"isClip\":false,\"isGallery\":false,\"publishTime\":\"2023-04-03T07:27:49+07:00\",\"createTime\":\"2023-04-03T07:25:24+07:00\",\"lastUpdateTime\":\"2023-04-03T07:27:49+07:00\"},{\"id\":326225,\"title\":\"#เลือกตั้ง66 คึกคัก! แกนนำพรรคการเมืองนำทีมสมัคร ส.ส.เขต กทม.\",\"categoryId\":1,\"categoryName\":\"การเมือง\",\"categoryUrl\":\"/news/categories/politics\",\"description\":\"เช้าวันนี้ (3 เม.ย.) พรรคการเมืองเดินทางไปสนามกีฬาไทย-ญี่ปุ่น ดินแดง ลงทะเบียนสมัคร ส.ส.เขตกทม. คึกคัก หลายพรรคสร้างจุดขายเดินทางด้วยยานพาหนะประหยัดพลังงาน เป็นมิตรกับสิ่งแวดล้อม\",\"imgUrl\":\"https://news.thaipbs.or.th/media/G0DL5oPyrtt5HBAivUvT5n7ocBBetJNewMiO3jUTD6Yn0ScGekqENl.jpg\",\"media\":{\"default\":\"https://news.thaipbs.or.th/media/G0DL5oPyrtt5HBAivUvT5n7ocBBetJNewMiO3jUTD6Yn0ScGekqENl.jpg\",\"small\":\"https://news.thaipbs.or.th/media/BorYqhd9Mg2OTmfmb5zLHpKFbH92aa6ALpw8vWl6mSjGEbq9F7UB7.jpg\",\"thumbnailHighQuality\":\"https://news.thaipbs.or.th/media/2aYqS0l4EOhseuUiUeSPT1q4HzFSj8KL.jpg\",\"thumbnailRatio16per9Clean\":\"https://news.thaipbs.or.th/media/TSNBg3wSBdng7ijMho36IpYtZ5892j7vOsL9hODQRlX.jpg\",\"thumbnailRatio16per9CleanHighQuality\":\"https://news.thaipbs.or.th/media/2aYqS0l4EOhseuUiUeSPT1q4HzFSj8P4.jpg\"},\"voicePath\":\"https://botnoi-tts.s3.amazonaws.com:443/payback_image/thaipbs/1680482402.mp3\",\"restUrl\":\"https://news.thaipbs.or.th/api-v/content?id=326225\",\"canonical\":\"https://news.thaipbs.or.th/content/326225\",\"url\":\"/news/content/326225\",\"isClip\":false,\"isGallery\":false,\"publishTime\":\"2023-04-03T07:04:00+07:00\",\"createTime\":\"2023-04-03T06:54:13+07:00\",\"lastUpdateTime\":\"2023-04-03T07:36:55+07:00\"},{\"id\":326226,\"title\":\"“ตะวัน” ไปสนามกีฬาไทย-ญี่ปุ่น เรียกร้องปล่อยเยาวชน คดี ม.112\",\"categoryId\":1,\"categoryName\":\"การเมือง\",\"categoryUrl\":\"/news/categories/politics\",\"description\":\"ตะวันพร้อมเพื่อนไปสนามกีฬาเวศน์ รับสมัคร ส.ส.กทม. เรียกร้องปล่อยเยาวชน โดน ม.112 ขณะ ตร.ประกบตลอดเวลา\",\"imgUrl\":\"https://news.thaipbs.or.th/media/G0DL5oPyrtt5HBAivUvT5n6rXe88xdDSTxxLH616gLYXpq7Kyhzde3.jpg\",\"media\":{\"default\":\"https://news.thaipbs.or.th/media/G0DL5oPyrtt5HBAivUvT5n6rXe88xdDSTxxLH616gLYXpq7Kyhzde3.jpg\",\"small\":\"https://news.thaipbs.or.th/media/BorYqhd9Mg2OTmfmb5zLHpJ1IHBMwxK8IplkHPr2GIxxCssgbf0Ad.jpg\",\"thumbnailHighQuality\":\"https://news.thaipbs.or.th/media/2aYqS0l4EOhseuUiUeSPT1jUDRAx1Qmx.jpg\",\"thumbnailRatio16per9Clean\":\"https://news.thaipbs.or.th/media/TSNBg3wSBdng7ijMho36IpWCwTcHsVPZ6QgSlIikhSX.jpg\",\"thumbnailRatio16per9CleanHighQuality\":\"https://news.thaipbs.or.th/media/2aYqS0l4EOhseuUiUeSPT1jUDRAx1QgO.jpg\"},\"voicePath\":\"https://botnoi-tts.s3.amazonaws.com:443/payback_image/thaipbs/1680480302.mp3\",\"restUrl\":\"https://news.thaipbs.or.th/api-v/content?id=326226\",\"canonical\":\"https://news.thaipbs.or.th/content/326226\",\"url\":\"/news/content/326226\",\"isClip\":false,\"isGallery\":false,\"publishTime\":\"2023-04-03T07:01:15+07:00\",\"createTime\":\"2023-04-03T06:58:11+07:00\",\"lastUpdateTime\":\"2023-04-03T07:01:15+07:00\"},{\"id\":326221,\"title\":\"\\\\\"ก้าวไกล\\\\\" หาเสียง จ.ปทุมธานี ชูนโยบาย \\\\\"ยกเลิกเกณฑ์ทหาร\\\\\" \",\"categoryId\":1,\"categoryName\":\"การเมือง\",\"categoryUrl\":\"/news/categories/politics\",\"description\":\"\\\\\"เชตวัน\\\\\" ว่าที่ผู้สมัคร ส.ส.พรรคก้าวไกล จ.ปทุมธานี ลงพื้นที่หาเสียง พร้อมชูนโยบาย ยกเลิกเกณฑ์ทหาร และลดขนาดกองทัพ \",\"imgUrl\":\"https://news.thaipbs.or.th/media/G0DL5oPyrtt5HBAivUvT5n4l0lxEdhLhIkWcCkiQYUU17btTaTeDhN.jpg\",\"media\":{\"default\":\"https://news.thaipbs.or.th/media/G0DL5oPyrtt5HBAivUvT5n4l0lxEdhLhIkWcCkiQYUU17btTaTeDhN.jpg\",\"small\":\"https://news.thaipbs.or.th/media/BorYqhd9Mg2OTmfmb5zLHpJVvILYyuSwOLsLnXYXZOXNiUsk0Rllc.jpg\",\"thumbnailHighQuality\":\"https://news.thaipbs.or.th/media/2aYqS0l4EOhseuUiUeSPT1SrTTDDbijS.jpg\",\"thumbnailRatio16per9Clean\":\"https://news.thaipbs.or.th/media/TSNBg3wSBdng7ijMho36IpQJX4rbJzmoc6TNSjx9gMN.jpg\",\"thumbnailRatio16per9CleanHighQuality\":\"https://news.thaipbs.or.th/media/2aYqS0l4EOhseuUiUeSPT1SrTTDDbiou.jpg\"},\"voicePath\":\"https://botnoi-tts.s3.amazonaws.com:443/payback_image/thaipbs/1680427502.mp3\",\"restUrl\":\"https://news.thaipbs.or.th/api-v/content?id=326221\",\"canonical\":\"https://news.thaipbs.or.th/content/326221\",\"url\":\"/news/content/326221\",\"isClip\":false,\"isGallery\":false,\"publishTime\":\"2023-04-02T16:11:00+07:00\",\"createTime\":\"2023-04-02T16:08:30+07:00\",\"lastUpdateTime\":\"2023-04-02T16:21:10+07:00\"}]},\"pending\":false,\"error\":{}}},\"hotNews\":{\"response\":{},\"pending\":false,\"error\":{}},\"search\":{\"search\":{\"response\":{\"items\":[]},\"pending\":false,\"error\":{}},\"searchNews\":{\"response\":{\"items\":[]},\"pending\":false,\"error\":{}},\"searchAllNews\":{\"response\":{\"items\":[]},\"pending\":false,\"error\":{}},\"searchProgram\":{\"response\":{\"items\":[]},\"pending\":false,\"error\":{}},\"searchOrganization\":{\"response\":{\"items\":[]},\"pending\":false,\"error\":{}},\"searchOrganizationEng\":{\"response\":{\"items\":[]},\"pending\":false,\"error\":{}},\"searchSuggestion\":{\"response\":{\"items\":[]},\"pending\":false,\"error\":{}}},\"schedules\":{\"programSchedules\":{\"response\":{},\"pending\":false,\"error\":{}},\"altvSchedules\":{\"response\":{},\"pending\":false,\"error\":{}}},\"newsPage\":{\"response\":{},\"pending\":false,\"error\":{}},\"breakingnews\":{\"response\":{\"items\":[]},\"pending\":false,\"error\":{}},\"categoryPortal\":{\"response\":{\"items\":[]},\"pending\":false,\"error\":{}},\"siteMap\":{\"response\":{\"items\":[]},\"pending\":false,\"error\":{}},\"tagPage\":{\"tagList\":{\"response\":{},\"pending\":false,\"error\":{}},\"tagNews\":{\"response\":{},\"pending\":false,\"error\":{}}},\"interested\":{\"interested\":{\"response\":{\"items\":[]},\"pending\":false,\"error\":{}},\"allNewsInterested\":{\"response\":{\"items\":[]},\"pending\":false,\"error\":{}}},\"program\":{\"programData\":{\"response\":{},\"pending\":false,\"error\":{}}},\"programVideo\":{\"videoData\":{\"response\":{},\"pending\":false,\"error\":{}},\"playlistVideos\":{\"response\":{},\"pending\":false,\"error\":{}}},\"programEpisode\":{\"episodeData\":{\"response\":{},\"pending\":false,\"error\":{}},\"playlistEpisodes\":{\"response\":{},\"pending\":false,\"error\":{}},\"galleryData\":{\"response\":{},\"pending\":false,\"error\":{}},\"relatedVideos\":{\"response\":{},\"pending\":false,\"error\":{}}},\"pageHistory\":{\"pageHistoryList\":[]}}},\"__N_SSP\":true},\"page\":\"/news/categories/[section]/archive\",\"query\":{\"page\":\"1\",\"section\":\"politics\"},\"buildId\":\"thaipbs-lionhead-1abe1caf\",\"runtimeConfig\":{\"BASE_URL\":\"https://www.thaipbs.or.th\",\"BASE_PROGRAM_API_URL\":\"https://program.thaipbs.or.th/api\",\"BASE_API_URL\":\"https://news.thaipbs.or.th/api-v\",\"BASE_API_SEARCH\":\"https://phinder.thaipbs.or.th/api/search/thaipbs\",\"BASE_API_SEARCH_SUGGESTION\":\"http://www.thaipbs.or.th/api/public/search/v1/\",\"BASE_NEWS_API_URL\":\"https://news.thaipbs.or.th/thaipbs-api\",\"BASE_NOW_API_URL\":\"https://api-public-now.thaipbsbeta.com/api\",\"BASE_CONSOLE_NOW_API_URL\":\"https://console-now.thaipbs.or.th/api\",\"gaSummaryTrackingId\":\"UA-73629203-1\",\"gaProgramTrackingId\":\"UA-190281359-3\",\"gaLiveTrackingId\":\"UA-190281359-4\",\"gaMainTrackingId\":\"UA-190348397-1\",\"NEWS_FOR_YOU_SHORT_ID\":\"brc-YyIJ/HkbBpAtsDm0\",\"RELATED_NEWS_SHORT_ID\":\"brc-YyIJ/3kbBpAtsDm1\",\"BASE_PAGE_API_URL\":\"https://www.thaipbs.or.th/api/public/page/v1\"},\"isFallback\":false,\"gssp\":true,\"scriptLoader\":[]}</script><script type=\"text/javascript\" src=\"/_Incapsula_Resource?SWJIYLWA=719d34d31c8e3a6e6fffd425f7e032f3&amp;ns=1&amp;cb=979298413\" async=\"\"></script><script src=\"https://app.themis-technology.com/cdn/pdpa-cookieconsent.js\" data-nscript=\"afterInteractive\"></script><script src=\"https://app.themis-technology.com/cdn/pdpa-cookieconsent-init.js?client=ca-pub-158116787820220424&amp;adjust=true\" data-nscript=\"afterInteractive\"></script><script src=\"https://securepubads.g.doubleclick.net/tag/js/gpt.js\" data-nscript=\"afterInteractive\"></script><script id=\"googletag\" data-nscript=\"afterInteractive\">var googletag = googletag || {}; googletag.cmd = googletag.cmd || [];</script><next-route-announcer><p aria-live=\"assertive\" id=\"__next-route-announcer__\" role=\"alert\" style=\"border: 0px; clip: rect(0px, 0px, 0px, 0px); height: 1px; margin: -1px; overflow: hidden; padding: 0px; position: absolute; width: 1px; white-space: nowrap; overflow-wrap: normal;\"></p></next-route-announcer><script type=\"text/javascript\" id=\"\" src=\"https://pagead2.googlesyndication.com/pagead/js/adsbygoogle.js?client=ca-pub-9491275815290972\" data-checked-head=\"true\"></script><script type=\"text/javascript\" id=\"\">(function(a,e,b,f,g,c,d){a[b]=a[b]||function(){(a[b].q=a[b].q||[]).push(arguments)};c=e.createElement(f);c.async=1;c.src=\"https://www.clarity.ms/tag/\"+g;d=e.getElementsByTagName(f)[0];d.parentNode.insertBefore(c,d)})(window,document,\"clarity\",\"script\",\"bdqn64m8tb\");</script><script type=\"text/javascript\" id=\"\">__th_page=\"Home\";</script>\\n<div id=\"truehits_div\"><a href=\"https://truehits.net/stat.php?login=thaipbs\" target=\"_blank\" rel=\"noopener\"><img src=\"//lvs.truehits.in.th/goggen.php?hc=s0029048&amp;rand=623145&amp;bv=0&amp;rf=bookmark&amp;web=YAO8Ilj6r%2bC7jSOlkK6aZQ%3D%3D&amp;bn=Netscape&amp;ss=1536*864&amp;sc=24&amp;sv=1.3&amp;ck=y&amp;ja=n&amp;vt=247A7AF5.1&amp;fp=d&amp;fv=-&amp;truehitspage=Home&amp;truehitsurl=https%3a//www.thaipbs.or.th/news/categories/politics/archive?page%3D1%26section%3Dpolitics\" width=\"14\" height=\"17\" alt=\"Thailand Web Stat\" border=\"0\"></a></div>\\n<script type=\"text/javascript\" id=\"\">(function(){var a=document.createElement(\"script\");a.type=\"text/javascript\";a.async=!0;a.src=\"//lvs.truehits.in.th/dataa/s0029048.js\";var b=document.getElementsByTagName(\"script\")[0];b.parentNode.insertBefore(a,b)})();</script><script src=\"/_next/static/chunks/1986-4e10aaae026652b4.js\"></script><script src=\"/_next/static/chunks/pages/news/content/%5Bid%5D-612ad115e2871e7b.js\"></script><script src=\"/_next/static/chunks/5749-a248502b599003d1.js\"></script><script src=\"/_next/static/chunks/8819-c30ffd40b6d203c3.js\"></script><script src=\"/_next/static/chunks/8528-ac61f3fde1f31ed2.js\"></script><script src=\"/_next/static/chunks/9273-88f237ab91efafff.js\"></script><script src=\"/_next/static/chunks/pages/home-a54d6aa77543a63f.js\"></script><script src=\"/_next/static/chunks/pages/%5BspecialPagePathName%5D-7513f3cc1eaa94bb.js\"></script><script src=\"/_next/static/chunks/pages/now-9ebb1083fdf8ac0d.js\"></script><script src=\"/_next/static/chunks/pages/news-74c72fb8fdb36a3d.js\"></script><script src=\"/_next/static/chunks/pages/news/categories-8296820b73b3c44d.js\"></script><script src=\"/_next/static/chunks/4544-e896f27f4d7ad9a9.js\"></script><script src=\"/_next/static/chunks/6698-474ea93bec7f31f5.js\"></script><script src=\"/_next/static/chunks/5037-beaaa4f974287ec6.js\"></script><script src=\"/_next/static/chunks/pages/news/archive-2d4896b7333962eb.js\"></script><ins class=\"adsbygoogle adsbygoogle-noablate\" data-adsbygoogle-status=\"done\" style=\"display: none !important;\"><div id=\"aswift_0_host\" tabindex=\"0\" title=\"Advertisement\" aria-label=\"Advertisement\" style=\"border: none; height: 0px; width: 0px; margin: 0px; padding: 0px; position: relative; visibility: visible; background-color: transparent; display: inline-block;\"><iframe id=\"aswift_0\" name=\"aswift_0\" style=\"left:0;position:absolute;top:0;border:0;width:undefinedpx;height:undefinedpx;\" sandbox=\"allow-forms allow-popups allow-popups-to-escape-sandbox allow-same-origin allow-scripts allow-top-navigation-by-user-activation\" frameborder=\"0\" marginwidth=\"0\" marginheight=\"0\" vspace=\"0\" hspace=\"0\" allowtransparency=\"true\" scrolling=\"no\" src=\"https://googleads.g.doubleclick.net/pagead/ads?client=ca-pub-9491275815290972&amp;output=html&amp;adk=1812271804&amp;adf=3025194257&amp;lmt=1680503241&amp;plat=2%3A16777216%2C3%3A65536%2C4%3A65536%2C9%3A32776%2C16%3A8388608%2C17%3A32%2C24%3A32%2C25%3A32%2C30%3A1048576%2C32%3A32%2C41%3A32%2C42%3A32&amp;format=0x0&amp;url=https%3A%2F%2Fwww.thaipbs.or.th%2Fnews%2Fcategories%2Fpolitics%2Farchive%3Fpage%3D1%26section%3Dpolitics&amp;ea=0&amp;pra=5&amp;wgl=1&amp;uach=WyJXaW5kb3dzIiwiMTAuMC4wIiwieDg2IiwiIiwiMTExLjAuNTU2My4xNDciLFtdLGZhbHNlLG51bGwsIjY0IixbWyJHb29nbGUgQ2hyb21lIiwiMTExLjAuNTU2My4xNDciXSxbIk5vdChBOkJyYW5kIiwiOC4wLjAuMCJdLFsiQ2hyb21pdW0iLCIxMTEuMC41NTYzLjE0NyJdXSxmYWxzZV0.&amp;dt=1680503241079&amp;bpp=7&amp;bdt=1255&amp;idt=143&amp;shv=r20230329&amp;mjsv=m202303280101&amp;ptt=9&amp;saldr=aa&amp;abxe=1&amp;nras=1&amp;correlator=2467342948857&amp;frm=20&amp;pv=2&amp;ga_vid=1757485715.1680503241&amp;ga_sid=1680503241&amp;ga_hid=129384723&amp;ga_fc=1&amp;u_tz=420&amp;u_his=2&amp;u_h=864&amp;u_w=1536&amp;u_ah=824&amp;u_aw=1536&amp;u_cd=24&amp;u_sd=1.25&amp;dmc=8&amp;adx=-12245933&amp;ady=-12245933&amp;biw=1019&amp;bih=674&amp;scr_x=0&amp;scr_y=0&amp;eid=44759842%2C44759876%2C44759927%2C31073378%2C31073508&amp;oid=2&amp;pvsid=3452885171738226&amp;tmod=1178538301&amp;uas=0&amp;nvt=1&amp;fc=1920&amp;brdim=9%2C9%2C9%2C9%2C1536%2C0%2C1051%2C806%2C1036%2C674&amp;vis=1&amp;rsz=%7C%7Cs%7C&amp;abl=NS&amp;fu=32768&amp;bc=31&amp;ifi=1&amp;uci=a!1&amp;fsb=1&amp;dtd=165\" data-google-container-id=\"a!1\" data-load-complete=\"true\"></iframe></div></ins><script src=\"/_next/static/chunks/pages/program-9e8c30007342f491.js\"></script><script src=\"/_next/static/chunks/1057-0847bacfcc91a57b.js\"></script><script src=\"/_next/static/chunks/1721-7e748d42b73035ec.js\"></script><script src=\"/_next/static/chunks/5932-72109efa739c50fa.js\"></script><script src=\"/_next/static/chunks/pages/live-7e71cd9656215eb9.js\"></script><script src=\"/_next/static/chunks/pages/search-b2bf5c1952bd5286.js\"></script><script src=\"/_next/static/chunks/pages/news/categories/%5Bsection%5D-167c20ed56490a96.js\"></script><div id=\"cc--main\" style=\"position: fixed; z-index: 1000000;\" class=\"c--anim\"><!--[if lt IE 9 ]><div id=\"cc_div\" class=\"cc_div ie\"></div><![endif]--><!--[if (gt IE 8)|!(IE)]><!--><div id=\"cc_div\" class=\"cc_div\"><div id=\"cm\" role=\"dialog\" aria-modal=\"true\" aria-hidden=\"false\" aria-labelledby=\"c-ttl\" aria-describedby=\"c-txt\" style=\"visibility: hidden;\" class=\"cloud\"><div id=\"c-inr\"><div id=\"c-inr-i\"><div id=\"c-ttl\" role=\"heading\" aria-level=\"2\"><div class=\"font-sm-mobile\"><img src=\"https://app.themis-technology.com/api/v1/file/2099/download\" style=\"border:0px solid black; max-height:52px !important; max-width:52px !important;\"> ไทยพีบีเอสใช้คุกกี้</div><div style=\"text-align:right\"><div style=\"width:100%;text-align:right;\"><button type=\"button\" id=\"btn-en\" class=\"c-bn c_link\" style=\"padding:4px; margin-right: 4px; width: auto;\">EN</button><button type=\"button\" id=\"btn-th\" class=\"c-bn c_link\" style=\"padding:4px; width: auto;\">TH</button></div></div></div><div id=\"c-txt\" style=\"text-align: justify; text-justify: inter-character;\"><span id=\"desc-box\">เว็บไซต์ของเรามีการจัดเก็บคุกกี้ โปรดศึกษาเพิ่มเติมที่นโยบายคุ้มครองข้อมูลส่วนบุคคล</span> <button type=\"button\" data-cc=\"c-settings\" class=\"cc-link\" aria-haspopup=\"dialog\">More...</button></div></div><div id=\"c-bns\"><button type=\"button\" id=\"c-p-bn\" class=\"c-bn\">ยอมรับทั้งหมด</button><button type=\"button\" id=\"c-s-bn\" class=\"c-bn c_link\">ไม่ยอมรับทั้งหมด</button><button type=\"button\" id=\"c-cancel-bn\" class=\"c-bn c_link\">ปิด</button></div></div></div><div id=\"cm-ov\" style=\"visibility: hidden; opacity: 0;\"></div><div id=\"s-cnt\" role=\"dialog\" aria-modal=\"true\" aria-hidden=\"true\" aria-labelledby=\"s-ttl\" style=\"visibility: hidden;\" class=\"zoom\"><div id=\"c-vln\"><div id=\"cs\"><div id=\"c-s-in\"><div id=\"s-inr\" class=\"bns-t\"><div id=\"s-hdr\"><div id=\"s-ttl\" role=\"heading\"><img src=\"https://app.themis-technology.com/api/v1/file/2099/download\" style=\"border:0px solid black; max-height:52px !important; max-width:52px !important;\"> ตั้งค่าคุกกี้</div><div id=\"s-c-bnc\"><button type=\"button\" id=\"s-c-bn\" class=\"c-bn\" aria-label=\"ปิด\"></button></div></div><div id=\"s-bl\"><div class=\"c-bl\"><div class=\"title\"><div class=\"b-tl\" role=\"heading\" aria-level=\"3\">เกี่ยวกับคุกกี้</div></div><div class=\"desc\"><div class=\"p\"><span id=\"desc-box\">โดยทั่วไป เราใช้คุกกี้ที่จำเป็นเพื่อให้เว็บไซต์ของเราทำงานได้ เรายังต้องการติดตั้งคุกกี้วิเคราะห์ เสริมเพื่อช่วยให้เราพัฒนาเว็บไซต์ของเราให้มีประสิทธิภาพยิ่งขึ้น เราจะไม่ติดตั้งคุกกี้เสริมใด ๆ เว้นแต่ท่านได้เปิดใช้งานมัน การใช้เครื่องมือนี้จะทำการติดตั้งคุกกี้บนอุปกรณ์ของท่านเพื่อบันทึก การตั้งค่าของท่าน สำหรับข้อมูลเพิ่มเติมเกี่ยวกับ คุกกี้คืออะไร เราใช้คุกกี้ที่ใด และเราใช้คุกกี้ในการทำอะไร โปรดดูนโยบายคุกกี้ ของเรา</span></div></div></div><div class=\"c-bl b-ex\"><div class=\"title b-bn\"><button type=\"button\" class=\"b-tl exp\" aria-expanded=\"false\" aria-controls=\"c-ac-1\">Analytics Cookies<br><label style=\"font-size: 0.6em;\">Cookies ที่รวบรวมข้อมูลเชิงสถิติทั้งหมดไว้เพื่อปรับปรุงการนำเสนอและการนำทางของไซต์ </label></button><label class=\"b-tg\"><input class=\"c-tgl\" type=\"checkbox\" value=\"Analytics Cookies\"><span class=\"c-tg\" aria-hidden=\"true\"><span class=\"on-i\"></span><span class=\"off-i\"></span></span><span class=\"t-lb\">Analytics Cookies</span></label></div><div class=\"desc b-acc\" id=\"c-ac-1\" aria-hidden=\"true\"><div class=\"p\">Cookies ที่รวบรวมข้อมูลเชิงสถิติทั้งหมดไว้เพื่อปรับปรุงการนำเสนอและการนำทางของไซต์ </div><table><thead><tr><th scope=\"col\">Name</th><th scope=\"col\">Domain</th><th scope=\"col\">Expiration</th><th scope=\"col\">Description</th></tr></thead><tbody><tr><td data-column=\"Name\">_gid</td><td data-column=\"Domain\">/</td><td data-column=\"Expiration\">29/6/2565 12:50:29</td><td data-column=\"Description\">-</td></tr></tbody></table></div></div><div class=\"c-bl b-ex\"><div class=\"title b-bn\"><button type=\"button\" class=\"b-tl exp\" aria-expanded=\"false\" aria-controls=\"c-ac-2\">Marketing Cookies<br><label style=\"font-size: 0.6em;\">ใช้เพื่อประโยชน์ทางการตลาด</label></button><label class=\"b-tg\"><input class=\"c-tgl\" type=\"checkbox\" value=\"Marketing Cookies\"><span class=\"c-tg\" aria-hidden=\"true\"><span class=\"on-i\"></span><span class=\"off-i\"></span></span><span class=\"t-lb\">Marketing Cookies</span></label></div><div class=\"desc b-acc\" id=\"c-ac-2\" aria-hidden=\"true\"><div class=\"p\">ใช้เพื่อประโยชน์ทางการตลาด</div><table><thead><tr><th scope=\"col\">Name</th><th scope=\"col\">Domain</th><th scope=\"col\">Expiration</th><th scope=\"col\">Description</th></tr></thead><tbody><tr><td data-column=\"Name\">_fbp</td><td data-column=\"Domain\">/</td><td data-column=\"Expiration\">26/9/2565 12:50:31</td><td data-column=\"Description\">-</td></tr><tr><td data-column=\"Name\">_ga</td><td data-column=\"Domain\">/</td><td data-column=\"Expiration\">27/6/2567 12:50:29</td><td data-column=\"Description\">-</td></tr></tbody></table></div></div><div class=\"c-bl b-ex\"><div class=\"title b-bn\"><button type=\"button\" class=\"b-tl exp\" aria-expanded=\"false\" aria-controls=\"c-ac-3\">Other<br><label style=\"font-size: 0.6em;\">คุกกี้ประเภทอื่น ๆ ที่ยังไม่สามารถระบุได้</label></button><label class=\"b-tg\"><input class=\"c-tgl\" type=\"checkbox\" value=\"Other\"><span class=\"c-tg\" aria-hidden=\"true\"><span class=\"on-i\"></span><span class=\"off-i\"></span></span><span class=\"t-lb\">Other</span></label></div><div class=\"desc b-acc\" id=\"c-ac-3\" aria-hidden=\"true\"><div class=\"p\">คุกกี้ประเภทอื่น ๆ ที่ยังไม่สามารถระบุได้</div><table><thead><tr><th scope=\"col\">Name</th><th scope=\"col\">Domain</th><th scope=\"col\">Expiration</th><th scope=\"col\">Description</th></tr></thead><tbody><tr><td data-column=\"Name\">___utmvc</td><td data-column=\"Domain\">/</td><td data-column=\"Expiration\">24/4/2565 21:38:12</td><td data-column=\"Description\">-</td></tr><tr><td data-column=\"Name\">visid_incap_2077436</td><td data-column=\"Domain\">/</td><td data-column=\"Expiration\">23/4/2566 22:35:28</td><td data-column=\"Description\">-</td></tr><tr><td data-column=\"Name\">incap_ses_403_2077426</td><td data-column=\"Domain\">/</td><td data-column=\"Expiration\">1/1/2513 07:00:00</td><td data-column=\"Description\">-</td></tr><tr><td data-column=\"Name\">nlbi_2077426</td><td data-column=\"Domain\">/</td><td data-column=\"Expiration\">1/1/2513 07:00:00</td><td data-column=\"Description\">-</td></tr><tr><td data-column=\"Name\">incap_ses_403_2077436</td><td data-column=\"Domain\">/</td><td data-column=\"Expiration\">1/1/2513 07:00:00</td><td data-column=\"Description\">-</td></tr><tr><td data-column=\"Name\">nlbi_2077436</td><td data-column=\"Domain\">/</td><td data-column=\"Expiration\">1/1/2513 07:00:00</td><td data-column=\"Description\">-</td></tr><tr><td data-column=\"Name\">visid_incap_2077426</td><td data-column=\"Domain\">/</td><td data-column=\"Expiration\">23/4/2566 22:35:28</td><td data-column=\"Description\">-</td></tr><tr><td data-column=\"Name\">_gat</td><td data-column=\"Domain\">/</td><td data-column=\"Expiration\">28/6/2565 12:51:29</td><td data-column=\"Description\">-</td></tr><tr><td data-column=\"Name\">_gat_summaryThaipbs</td><td data-column=\"Domain\">/</td><td data-column=\"Expiration\">28/6/2565 12:51:29</td><td data-column=\"Description\">-</td></tr><tr><td data-column=\"Name\">visid_incap_2077436</td><td data-column=\"Domain\">/</td><td data-column=\"Expiration\">27/6/2566 22:58:39</td><td data-column=\"Description\">-</td></tr><tr><td data-column=\"Name\">incap_ses_1556_2077426</td><td data-column=\"Domain\">/</td><td data-column=\"Expiration\">1/1/2513 07:00:00</td><td data-column=\"Description\">-</td></tr><tr><td data-column=\"Name\">incap_ses_1556_2077436</td><td data-column=\"Domain\">/</td><td data-column=\"Expiration\">1/1/2513 07:00:00</td><td data-column=\"Description\">-</td></tr><tr><td data-column=\"Name\">visid_incap_2077426</td><td data-column=\"Domain\">/</td><td data-column=\"Expiration\">27/6/2566 22:58:39</td><td data-column=\"Description\">-</td></tr><tr><td data-column=\"Name\">nlbi_2077436</td><td data-column=\"Domain\">/</td><td data-column=\"Expiration\">1/1/2513 07:00:00</td><td data-column=\"Description\">-</td></tr><tr><td data-column=\"Name\">nlbi_2077426</td><td data-column=\"Domain\">/</td><td data-column=\"Expiration\">1/1/2513 07:00:00</td><td data-column=\"Description\">-</td></tr></tbody></table></div></div></div><div id=\"s-bns\"><button type=\"button\" id=\"s-all-bn s\" class=\"c-bn\">ยอมรับทั้งหมด</button><button type=\"button\" id=\"s-rall-bn\" class=\"c-bn\">ไม่ยอมรับทั้งหมด</button><button type=\"button\" id=\"s-sv-bn\" class=\"c-bn\">บันทึกตามการตั้งค่า</button></div></div></div></div></div></div><div id=\"cs-ov\" style=\"visibility: hidden; opacity: 0;\"></div></div><!--<![endif]--></div><iframe src=\"https://tpc.googlesyndication.com/sodar/sodar2/225/runner.html\" width=\"0\" height=\"0\" style=\"display: none;\"></iframe><iframe src=\"https://www.google.com/recaptcha/api2/aframe\" width=\"0\" height=\"0\" style=\"display: none;\"></iframe></body><iframe id=\"google_esf\" name=\"google_esf\" src=\"https://googleads.g.doubleclick.net/pagead/html/r20230329/r20190131/zrt_lookup.html\" style=\"display: none;\"></iframe></html>'"
      ]
     },
     "execution_count": 15,
     "metadata": {},
     "output_type": "execute_result"
    }
   ],
   "source": [
    "driver.page_source #โค้ด Html"
   ]
  },
  {
   "cell_type": "code",
   "execution_count": 19,
   "metadata": {},
   "outputs": [],
   "source": [
    "list_title = driver.find_elements_by_class_name(\"ContentInformationLayoutAstyle__Title-sc-1ut12ee-2 eLgGKX content-information-title\") #element เติม s เพื่อดึงหลากหลาย"
   ]
  },
  {
   "cell_type": "code",
   "execution_count": 69,
   "metadata": {},
   "outputs": [],
   "source": [
    "test_title = driver.find_elements_by_css_selector(\"a[class = 'ContentInformationLayoutAstyle__Anchor-sc-1ut12ee-14 fokZKG']\")"
   ]
  },
  {
   "cell_type": "code",
   "execution_count": 46,
   "metadata": {},
   "outputs": [],
   "source": [
    "list_clean_title = [i.text for i in test_title]"
   ]
  },
  {
   "cell_type": "code",
   "execution_count": 47,
   "metadata": {},
   "outputs": [
    {
     "data": {
      "text/plain": [
       "['\"โรม\" นำทีมว่าที่ผู้สมัคร ส.ส.นครศรีฯ ทั้ง 10 เขต มั่นใจปักธงส้มได้แน่',\n",
       " '\"พิธา\" นำทีมผู้สมัคร ส.ส. 33 เขต กทม.ขึ้นรถปราศรัยหลังจับเบอร์',\n",
       " '\"บิ๊กตู่\" เปิดใจไม่ลงปาร์ตี้ลิสต์เหตุงานเยอะ อยู่ไม่ถึง 2 ปีมี \"พีระพันธุ์\"ตัวแทน',\n",
       " 'กกต.เตือน ส.ส. ได้เบอร์ \"อย่าแห่หาเสียง\" 7 เม.ย.ลุ้นศาลปมแบ่งเขต',\n",
       " '“วราวุธ” มั่นใจในผลงาน อ้อนคนสุพรรณฯ ขอ 8 แสนเสียง',\n",
       " '\"ขี่สกู๊ตเตอร์-สวมชุดนักรบโบราณ\" สีสันรับสมัครเลือกตั้ง2566',\n",
       " '\"ประยุทธ์\" ไม่กังวลเลือกตั้ง 66 พร้อมสู้ \"ประวิตร\" แบบการเมือง',\n",
       " '“ตรัง-ปัตตานี” รับสมัคร ส.ส.วันแรกคึกคัก “เด่น-ทวี” มาให้กำลังใจ',\n",
       " '\"เสรีพิศุทธ์\" ชูปราบโกง ดึงคนลงคะแนน \"เสรีรวมไทย\"',\n",
       " '\"ไทยสร้างไทย\" ขอเป็นทางรอดให้ประเทศ-ยุติการเมือง 2 ขั้ว',\n",
       " 'ภท.ชูจุดแข็งนโยบายทำได้จริง พร้อมส่งผู้สมัครสู้ศึกเลือกตั้งสนาม กทม.',\n",
       " '\"พิธา\" มั่นใจ 3 จุดแข็งช่วยคว้า 33 ที่นั่ง ส.ส.กทม.',\n",
       " '\"หมอวรงค์\" ยันสู้เต็มที่ชิงเก้าอี้ ส.ส.กทม.ชูพลังงานสะอาด-ปราบโกง',\n",
       " '“นครศรีฯ” แห่กราบพระบรมธาตุ แกนนำพรรคให้กำลังใจคึกคัก',\n",
       " '\"ประวิตร\" บอก ยังไม่มีเบอร์ในใจแต่ขอให้ได้เลขตัวเดียว ยันไม่ร่วมดีเบต',\n",
       " '“อุ๊งอิ๊ง” ประกาศสู้เต็มที่ ย้ำเป้าหมายเดินหน้าแลนด์สไลด์',\n",
       " 'อบอุ่น! \"เชียงราย\" รับสมัครส.ส.ผลัดใบ \"พ่อส่งลูก\" สู้ศึกเลือกตั้ง',\n",
       " 'ปชป.ตั้งเป้าทวงคืนเก้าอี้ ส.ส.กทม.ชูแก้ฝุ่น-น้ำท่วม-ปากท้อง',\n",
       " '“ช่อ” นำ “ก้าวไกล” สมัครที่ขอนแก่น ยืนยันเป็นตัวแทน ปชช.-ไม่ตักตวงผลประโยชน์',\n",
       " '“สุวัจน์” คาดชาติพัฒนากล้า-โคราช จะได้ 4 เขต “อนุทิน” มาตอน 08.30 น.',\n",
       " '“โคราช” คึกคัก ผู้สมัครกราบย่าโม่ ก่อนไปจับสลากรอคิวสมัคร ส.ส.',\n",
       " '#เลือกตั้ง66 คึกคัก! แกนนำพรรคการเมืองนำทีมสมัคร ส.ส.เขต กทม.',\n",
       " '“ตะวัน” ไปสนามกีฬาไทย-ญี่ปุ่น เรียกร้องปล่อยเยาวชน คดี ม.112',\n",
       " '\"ก้าวไกล\" หาเสียง จ.ปทุมธานี ชูนโยบาย \"ยกเลิกเกณฑ์ทหาร\"']"
      ]
     },
     "execution_count": 47,
     "metadata": {},
     "output_type": "execute_result"
    }
   ],
   "source": [
    "list_clean_title"
   ]
  },
  {
   "cell_type": "code",
   "execution_count": 65,
   "metadata": {},
   "outputs": [],
   "source": [
    "driver.back()"
   ]
  },
  {
   "cell_type": "code",
   "execution_count": 67,
   "metadata": {},
   "outputs": [
    {
     "data": {
      "text/plain": [
       "<selenium.webdriver.remote.webelement.WebElement (session=\"cc6286be66fcaf1701ee12dd05f50f42\", element=\"74ff85d5-a7d7-4f11-997f-86670229543f\")>"
      ]
     },
     "execution_count": 67,
     "metadata": {},
     "output_type": "execute_result"
    }
   ],
   "source": [
    "test_title[2]"
   ]
  },
  {
   "cell_type": "code",
   "execution_count": 73,
   "metadata": {},
   "outputs": [],
   "source": [
    "sub_page = driver.find_elements_by_css_selector('a[class = \"ContentInformationLayoutAstyle__Anchor-sc-1ut12ee-14 fokZKG\"][href]')"
   ]
  },
  {
   "cell_type": "code",
   "execution_count": 74,
   "metadata": {},
   "outputs": [],
   "source": [
    "links = [elem.get_attribute('href') for elem in sub_page]"
   ]
  },
  {
   "cell_type": "code",
   "execution_count": 202,
   "metadata": {},
   "outputs": [],
   "source": [
    "driver.quit()"
   ]
  },
  {
   "cell_type": "code",
   "execution_count": 2,
   "metadata": {},
   "outputs": [],
   "source": [
    "def get_url_subpage(url, number_page):\n",
    "    url_list = []\n",
    "    title_list = []\n",
    "    driver = webdriver.Chrome(executable_path = \"chromedriver.exe\")\n",
    "    driver.get(url)\n",
    "    for i in range(number_page):\n",
    "        sub_page_url = driver.find_elements_by_css_selector('a[class = \"ContentInformationLayoutAstyle__Anchor-sc-1ut12ee-14 fokZKG\"][href]')\n",
    "        sub_page_title = driver.find_elements_by_css_selector(\"a[class = 'ContentInformationLayoutAstyle__Anchor-sc-1ut12ee-14 fokZKG'][title]\")\n",
    "        [url_list.append(elem.get_attribute('href')) for elem in sub_page_url]\n",
    "        [title_list.append(title.get_attribute('title')) for title in sub_page_title]\n",
    "        page_next_button = driver.find_element_by_css_selector(\"svg[class = 'svg-inline--fa fa-chevron-right fa-w-8 ']\")\n",
    "        page_next_button.click()\n",
    "        time.sleep(2)\n",
    "    df = pd.DataFrame(zip(url_list, title_list), columns = [\"link\",\"title\"])\n",
    "    driver.quit()\n",
    "    return df"
   ]
  },
  {
   "cell_type": "code",
   "execution_count": 148,
   "metadata": {},
   "outputs": [],
   "source": [
    "url = \"https://www.thaipbs.or.th/news/categories/politics/archive?page=1&section=politics\"\n",
    "df = get_url_subpage(url, 10)"
   ]
  },
  {
   "cell_type": "code",
   "execution_count": 158,
   "metadata": {},
   "outputs": [
    {
     "data": {
      "text/plain": [
       "240"
      ]
     },
     "execution_count": 158,
     "metadata": {},
     "output_type": "execute_result"
    }
   ],
   "source": [
    "len(df[\"title\"].unique())"
   ]
  },
  {
   "cell_type": "code",
   "execution_count": 159,
   "metadata": {},
   "outputs": [
    {
     "data": {
      "text/html": [
       "<div>\n",
       "<style scoped>\n",
       "    .dataframe tbody tr th:only-of-type {\n",
       "        vertical-align: middle;\n",
       "    }\n",
       "\n",
       "    .dataframe tbody tr th {\n",
       "        vertical-align: top;\n",
       "    }\n",
       "\n",
       "    .dataframe thead th {\n",
       "        text-align: right;\n",
       "    }\n",
       "</style>\n",
       "<table border=\"1\" class=\"dataframe\">\n",
       "  <thead>\n",
       "    <tr style=\"text-align: right;\">\n",
       "      <th></th>\n",
       "      <th>link</th>\n",
       "      <th>title</th>\n",
       "    </tr>\n",
       "  </thead>\n",
       "  <tbody>\n",
       "    <tr>\n",
       "      <th>0</th>\n",
       "      <td>https://www.thaipbs.or.th/news/content/326253</td>\n",
       "      <td>วันแรก รับสมัคร ส.ส.แบ่งเขต กทม.เป็นไปอย่างเรี...</td>\n",
       "    </tr>\n",
       "    <tr>\n",
       "      <th>1</th>\n",
       "      <td>https://www.thaipbs.or.th/news/content/326248</td>\n",
       "      <td>\"โรม\" นำทีมว่าที่ผู้สมัคร ส.ส.นครศรีฯ ทั้ง 10 ...</td>\n",
       "    </tr>\n",
       "    <tr>\n",
       "      <th>2</th>\n",
       "      <td>https://www.thaipbs.or.th/news/content/326244</td>\n",
       "      <td>\"พิธา\" นำทีมผู้สมัคร ส.ส. 33 เขต กทม.ขึ้นรถปรา...</td>\n",
       "    </tr>\n",
       "    <tr>\n",
       "      <th>3</th>\n",
       "      <td>https://www.thaipbs.or.th/news/content/326247</td>\n",
       "      <td>\"บิ๊กตู่\" เปิดใจไม่ลงปาร์ตี้ลิสต์เหตุงานเยอะ อ...</td>\n",
       "    </tr>\n",
       "    <tr>\n",
       "      <th>4</th>\n",
       "      <td>https://www.thaipbs.or.th/news/content/326245</td>\n",
       "      <td>กกต.เตือน ส.ส. ได้เบอร์ \"อย่าแห่หาเสียง\" 7 เม....</td>\n",
       "    </tr>\n",
       "  </tbody>\n",
       "</table>\n",
       "</div>"
      ],
      "text/plain": [
       "                                            link  \\\n",
       "0  https://www.thaipbs.or.th/news/content/326253   \n",
       "1  https://www.thaipbs.or.th/news/content/326248   \n",
       "2  https://www.thaipbs.or.th/news/content/326244   \n",
       "3  https://www.thaipbs.or.th/news/content/326247   \n",
       "4  https://www.thaipbs.or.th/news/content/326245   \n",
       "\n",
       "                                               title  \n",
       "0  วันแรก รับสมัคร ส.ส.แบ่งเขต กทม.เป็นไปอย่างเรี...  \n",
       "1  \"โรม\" นำทีมว่าที่ผู้สมัคร ส.ส.นครศรีฯ ทั้ง 10 ...  \n",
       "2  \"พิธา\" นำทีมผู้สมัคร ส.ส. 33 เขต กทม.ขึ้นรถปรา...  \n",
       "3  \"บิ๊กตู่\" เปิดใจไม่ลงปาร์ตี้ลิสต์เหตุงานเยอะ อ...  \n",
       "4  กกต.เตือน ส.ส. ได้เบอร์ \"อย่าแห่หาเสียง\" 7 เม....  "
      ]
     },
     "execution_count": 159,
     "metadata": {},
     "output_type": "execute_result"
    }
   ],
   "source": [
    "df.head()"
   ]
  },
  {
   "cell_type": "code",
   "execution_count": 236,
   "metadata": {},
   "outputs": [],
   "source": [
    "driver.quit()"
   ]
  },
  {
   "cell_type": "code",
   "execution_count": 3,
   "metadata": {},
   "outputs": [],
   "source": [
    "def create_news_df(df):\n",
    "    title_list = []\n",
    "    context_list = []\n",
    "    label_list = []\n",
    "    links_list = df[\"link\"].tolist()\n",
    "    driver = webdriver.Chrome(executable_path = \"chromedriver.exe\")\n",
    "    for url in links_list:\n",
    "        try :\n",
    "            driver.get(url)\n",
    "            time.sleep(2)\n",
    "            titles = driver.find_element_by_css_selector(\"h1[class = 'NewsHeaderstyle__TitleText-sc-s5ub5p-3 eBxWnb']\")\n",
    "            contexts = driver.find_element_by_css_selector(\"strong[class = 'TemplateContentstyle__NewsAbstract-sc-1yh83mt-19 hfyxJF']\")\n",
    "            labels = driver.find_element_by_css_selector(\"a[class= 'NewsHeaderstyle__Badge-sc-s5ub5p-7 fswRBR'][title]\")\n",
    "            title_list.append(titles.text)\n",
    "            context_list.append(contexts.text)\n",
    "            label_list.append(labels.get_attribute('title'))\n",
    "        except :\n",
    "            pass\n",
    "    df_text = pd.DataFrame(zip(title_list, context_list, label_list), columns = [\"title\",\"context\",\"label\"])\n",
    "    driver.quit()\n",
    "    return df_text"
   ]
  },
  {
   "cell_type": "code",
   "execution_count": 208,
   "metadata": {},
   "outputs": [],
   "source": [
    "title_list = []\n",
    "driver = webdriver.Chrome(executable_path = \"chromedriver.exe\")\n",
    "driver.get(\"https://www.thaipbs.or.th/news/content/326253\")\n",
    "titles = driver.find_element_by_css_selector(\"h1[class = 'NewsHeaderstyle__TitleText-sc-s5ub5p-3 eBxWnb']\")\n",
    "title_list.append(titles.text)"
   ]
  },
  {
   "cell_type": "code",
   "execution_count": 240,
   "metadata": {},
   "outputs": [],
   "source": [
    "df_politics_news = create_news_df(df)"
   ]
  },
  {
   "cell_type": "code",
   "execution_count": 241,
   "metadata": {},
   "outputs": [
    {
     "data": {
      "text/html": [
       "<div>\n",
       "<style scoped>\n",
       "    .dataframe tbody tr th:only-of-type {\n",
       "        vertical-align: middle;\n",
       "    }\n",
       "\n",
       "    .dataframe tbody tr th {\n",
       "        vertical-align: top;\n",
       "    }\n",
       "\n",
       "    .dataframe thead th {\n",
       "        text-align: right;\n",
       "    }\n",
       "</style>\n",
       "<table border=\"1\" class=\"dataframe\">\n",
       "  <thead>\n",
       "    <tr style=\"text-align: right;\">\n",
       "      <th></th>\n",
       "      <th>title</th>\n",
       "      <th>context</th>\n",
       "      <th>label</th>\n",
       "    </tr>\n",
       "  </thead>\n",
       "  <tbody>\n",
       "    <tr>\n",
       "      <th>0</th>\n",
       "      <td>วันแรก รับสมัคร ส.ส.แบ่งเขต กทม.เป็นไปอย่างเรี...</td>\n",
       "      <td>วันแรก รับสมัครเลือกตั้ง ส.ส.แบ่งเขตวันแรกคึกค...</td>\n",
       "      <td>การเมือง</td>\n",
       "    </tr>\n",
       "    <tr>\n",
       "      <th>1</th>\n",
       "      <td>\"โรม\" นำทีมว่าที่ผู้สมัคร ส.ส.นครศรีฯ ทั้ง 10 ...</td>\n",
       "      <td>ก้าวไกล ดาวกระจายสมัคร ส.ส.ทั่วประเทศ บรรยากาศ...</td>\n",
       "      <td>การเมือง</td>\n",
       "    </tr>\n",
       "    <tr>\n",
       "      <th>2</th>\n",
       "      <td>\"พิธา\" นำทีมผู้สมัคร ส.ส. 33 เขต กทม.ขึ้นรถปรา...</td>\n",
       "      <td>ส.ส.ก้าวไกล ขึ้นรถปราศรัยหลังจับเบอร์ผู้สมัคร ...</td>\n",
       "      <td>การเมือง</td>\n",
       "    </tr>\n",
       "    <tr>\n",
       "      <th>3</th>\n",
       "      <td>\"บิ๊กตู่\" เปิดใจไม่ลงปาร์ตี้ลิสต์เหตุงานเยอะ อ...</td>\n",
       "      <td>พล.อ.ประยุทธ์ ย้ำไม่จับมือทุกพรรค ไม่มีเงื่อนไ...</td>\n",
       "      <td>การเมือง</td>\n",
       "    </tr>\n",
       "    <tr>\n",
       "      <th>4</th>\n",
       "      <td>กกต.เตือน ส.ส. ได้เบอร์ \"อย่าแห่หาเสียง\" 7 เม....</td>\n",
       "      <td>กกต.พอใจรับสมัครส.ส.วันแรก รอตรวจคุณสมบัติอีก ...</td>\n",
       "      <td>การเมือง</td>\n",
       "    </tr>\n",
       "    <tr>\n",
       "      <th>...</th>\n",
       "      <td>...</td>\n",
       "      <td>...</td>\n",
       "      <td>...</td>\n",
       "    </tr>\n",
       "    <tr>\n",
       "      <th>222</th>\n",
       "      <td>ว่าที่ผู้สมัครชาติไทยพัฒนา “อยุธยา” โอดป้ายหาเ...</td>\n",
       "      <td>ว่าที่ผู้สมัครพรรคชาติไทยพัฒนา พระนครศรีอยุธยา...</td>\n",
       "      <td>การเมือง</td>\n",
       "    </tr>\n",
       "    <tr>\n",
       "      <th>223</th>\n",
       "      <td>วันหยุดคึกคัก! พรรคการเมืองเดินหน้าหาเสียงหลาย...</td>\n",
       "      <td>เพื่อไทยลุยหาเสียงพิจิตรขอแลนด์สไลด์ ทั้ง 3 เข...</td>\n",
       "      <td>การเมือง</td>\n",
       "    </tr>\n",
       "    <tr>\n",
       "      <th>224</th>\n",
       "      <td>\"ตะวัน-แบม\" เลิกอดอาหาร ประกาศรับการรักษาเพื่อ...</td>\n",
       "      <td>\"ตะวัน-แบม\" แจ้งเลิกอดอาหารและจะรับการรักษาเพื...</td>\n",
       "      <td>การเมือง</td>\n",
       "    </tr>\n",
       "    <tr>\n",
       "      <th>225</th>\n",
       "      <td>นายกฯ ตรวจราชการ จ.สงขลา ผู้สมัคร รทสช.ต้อนรับ</td>\n",
       "      <td>พล.อ.ประยุทธ์ จันทร์โอชา นายกรัฐมนตรี เดินทางต...</td>\n",
       "      <td>การเมือง</td>\n",
       "    </tr>\n",
       "    <tr>\n",
       "      <th>226</th>\n",
       "      <td>กกต.ประกาศหลักเกณฑ์ วิธีการจัดทำ-ติดแผ่นป้ายหา...</td>\n",
       "      <td>กกต.ประกาศหลักเกณฑ์ วิธีการจัดทำ ปิดประกาศ และ...</td>\n",
       "      <td>การเมือง</td>\n",
       "    </tr>\n",
       "  </tbody>\n",
       "</table>\n",
       "<p>227 rows × 3 columns</p>\n",
       "</div>"
      ],
      "text/plain": [
       "                                                 title  \\\n",
       "0    วันแรก รับสมัคร ส.ส.แบ่งเขต กทม.เป็นไปอย่างเรี...   \n",
       "1    \"โรม\" นำทีมว่าที่ผู้สมัคร ส.ส.นครศรีฯ ทั้ง 10 ...   \n",
       "2    \"พิธา\" นำทีมผู้สมัคร ส.ส. 33 เขต กทม.ขึ้นรถปรา...   \n",
       "3    \"บิ๊กตู่\" เปิดใจไม่ลงปาร์ตี้ลิสต์เหตุงานเยอะ อ...   \n",
       "4    กกต.เตือน ส.ส. ได้เบอร์ \"อย่าแห่หาเสียง\" 7 เม....   \n",
       "..                                                 ...   \n",
       "222  ว่าที่ผู้สมัครชาติไทยพัฒนา “อยุธยา” โอดป้ายหาเ...   \n",
       "223  วันหยุดคึกคัก! พรรคการเมืองเดินหน้าหาเสียงหลาย...   \n",
       "224  \"ตะวัน-แบม\" เลิกอดอาหาร ประกาศรับการรักษาเพื่อ...   \n",
       "225     นายกฯ ตรวจราชการ จ.สงขลา ผู้สมัคร รทสช.ต้อนรับ   \n",
       "226  กกต.ประกาศหลักเกณฑ์ วิธีการจัดทำ-ติดแผ่นป้ายหา...   \n",
       "\n",
       "                                               context     label  \n",
       "0    วันแรก รับสมัครเลือกตั้ง ส.ส.แบ่งเขตวันแรกคึกค...  การเมือง  \n",
       "1    ก้าวไกล ดาวกระจายสมัคร ส.ส.ทั่วประเทศ บรรยากาศ...  การเมือง  \n",
       "2    ส.ส.ก้าวไกล ขึ้นรถปราศรัยหลังจับเบอร์ผู้สมัคร ...  การเมือง  \n",
       "3    พล.อ.ประยุทธ์ ย้ำไม่จับมือทุกพรรค ไม่มีเงื่อนไ...  การเมือง  \n",
       "4    กกต.พอใจรับสมัครส.ส.วันแรก รอตรวจคุณสมบัติอีก ...  การเมือง  \n",
       "..                                                 ...       ...  \n",
       "222  ว่าที่ผู้สมัครพรรคชาติไทยพัฒนา พระนครศรีอยุธยา...  การเมือง  \n",
       "223  เพื่อไทยลุยหาเสียงพิจิตรขอแลนด์สไลด์ ทั้ง 3 เข...  การเมือง  \n",
       "224  \"ตะวัน-แบม\" แจ้งเลิกอดอาหารและจะรับการรักษาเพื...  การเมือง  \n",
       "225  พล.อ.ประยุทธ์ จันทร์โอชา นายกรัฐมนตรี เดินทางต...  การเมือง  \n",
       "226  กกต.ประกาศหลักเกณฑ์ วิธีการจัดทำ ปิดประกาศ และ...  การเมือง  \n",
       "\n",
       "[227 rows x 3 columns]"
      ]
     },
     "execution_count": 241,
     "metadata": {},
     "output_type": "execute_result"
    }
   ],
   "source": [
    "df_politics_news"
   ]
  },
  {
   "cell_type": "code",
   "execution_count": 235,
   "metadata": {},
   "outputs": [
    {
     "data": {
      "text/plain": [
       "227"
      ]
     },
     "execution_count": 235,
     "metadata": {},
     "output_type": "execute_result"
    }
   ],
   "source": [
    "len(df_politics_news[1])"
   ]
  },
  {
   "cell_type": "code",
   "execution_count": 217,
   "metadata": {},
   "outputs": [
    {
     "data": {
      "text/plain": [
       "['วันแรก รับสมัครเลือกตั้ง ส.ส.แบ่งเขตวันแรกคึกคัก เป็นไปด้วยความเรียบร้อย กทม.พร้อมรับสมัครแบบบัญชีรายชื่อ 4 เม.ย.นี้',\n",
       " 'ก้าวไกล ดาวกระจายสมัคร ส.ส.ทั่วประเทศ บรรยากาศสุดคึกคัก \"รังสิมันต์ โรม\" นำทีมว่าที่ผู้สมัคร ส.ส.นครศรีฯ ทั้ง 10 เขต มั่นใจรอบนี้ปักธงส้มได้แน่ ขอกาก้าวไกลเลือกคนใหม่ไปเปลี่ยนประเทศ ให้การเมืองดี ปากท้องดี มีอนาคต']"
      ]
     },
     "execution_count": 217,
     "metadata": {},
     "output_type": "execute_result"
    }
   ],
   "source": [
    "context_list"
   ]
  },
  {
   "cell_type": "code",
   "execution_count": 194,
   "metadata": {},
   "outputs": [
    {
     "data": {
      "text/plain": [
       "[]"
      ]
     },
     "execution_count": 194,
     "metadata": {},
     "output_type": "execute_result"
    }
   ],
   "source": [
    "title_list"
   ]
  },
  {
   "cell_type": "code",
   "execution_count": 184,
   "metadata": {},
   "outputs": [
    {
     "data": {
      "text/html": [
       "<div>\n",
       "<style scoped>\n",
       "    .dataframe tbody tr th:only-of-type {\n",
       "        vertical-align: middle;\n",
       "    }\n",
       "\n",
       "    .dataframe tbody tr th {\n",
       "        vertical-align: top;\n",
       "    }\n",
       "\n",
       "    .dataframe thead th {\n",
       "        text-align: right;\n",
       "    }\n",
       "</style>\n",
       "<table border=\"1\" class=\"dataframe\">\n",
       "  <thead>\n",
       "    <tr style=\"text-align: right;\">\n",
       "      <th></th>\n",
       "      <th>title</th>\n",
       "      <th>context</th>\n",
       "      <th>date</th>\n",
       "      <th>label</th>\n",
       "    </tr>\n",
       "  </thead>\n",
       "  <tbody>\n",
       "  </tbody>\n",
       "</table>\n",
       "</div>"
      ],
      "text/plain": [
       "Empty DataFrame\n",
       "Columns: [title, context, date, label]\n",
       "Index: []"
      ]
     },
     "execution_count": 184,
     "metadata": {},
     "output_type": "execute_result"
    }
   ],
   "source": [
    "df_text"
   ]
  },
  {
   "cell_type": "code",
   "execution_count": 143,
   "metadata": {},
   "outputs": [],
   "source": [
    "df = pd.DataFrame(zip(url_list, title_list), columns = [\"link\",\"title\"])"
   ]
  },
  {
   "cell_type": "code",
   "execution_count": 144,
   "metadata": {},
   "outputs": [
    {
     "data": {
      "text/plain": [
       "(5, 2)"
      ]
     },
     "execution_count": 144,
     "metadata": {},
     "output_type": "execute_result"
    }
   ],
   "source": [
    "df.head().shape"
   ]
  },
  {
   "cell_type": "code",
   "execution_count": 139,
   "metadata": {},
   "outputs": [],
   "source": [
    "page_button = driver.find_element_by_xpath(\"/html/body/div[1]/div[2]/section/div[2]/div/a\")\n",
    "page_button.click()"
   ]
  },
  {
   "cell_type": "code",
   "execution_count": 250,
   "metadata": {},
   "outputs": [
    {
     "data": {
      "text/plain": [
       "<bound method WebDriver.quit of <selenium.webdriver.chrome.webdriver.WebDriver (session=\"5ccac78d8ab307777c84f1bdfaaba3ec\")>>"
      ]
     },
     "execution_count": 250,
     "metadata": {},
     "output_type": "execute_result"
    }
   ],
   "source": [
    "driver.quit"
   ]
  },
  {
   "attachments": {},
   "cell_type": "markdown",
   "metadata": {},
   "source": [
    "Politics_news"
   ]
  },
  {
   "cell_type": "code",
   "execution_count": 90,
   "metadata": {},
   "outputs": [],
   "source": [
    "politics_news_df, url = scrap_news(\"https://www.thaipbs.or.th/news/categories/politics/archive?page=1&section=politics\", 5)"
   ]
  },
  {
   "cell_type": "code",
   "execution_count": 91,
   "metadata": {},
   "outputs": [
    {
     "data": {
      "text/plain": [
       "['https://www.thaipbs.or.th/news/categories/politics/archive?page=2&section=politics',\n",
       " 'https://www.thaipbs.or.th/news/categories/politics/archive?page=2&section=politics',\n",
       " 'https://www.thaipbs.or.th/news/categories/politics/archive?page=3&section=politics',\n",
       " 'https://www.thaipbs.or.th/news/categories/politics/archive?page=4&section=politics']"
      ]
     },
     "execution_count": 91,
     "metadata": {},
     "output_type": "execute_result"
    }
   ],
   "source": [
    "url"
   ]
  },
  {
   "cell_type": "code",
   "execution_count": 80,
   "metadata": {},
   "outputs": [
    {
     "data": {
      "text/plain": [
       "24"
      ]
     },
     "execution_count": 80,
     "metadata": {},
     "output_type": "execute_result"
    }
   ],
   "source": [
    "len(politics_news_df[\"title\"].unique())"
   ]
  },
  {
   "cell_type": "code",
   "execution_count": 243,
   "metadata": {},
   "outputs": [],
   "source": [
    "df_politics_news.to_csv(\"politics_news.csv\",encoding=\"utf-8-sig\")"
   ]
  },
  {
   "attachments": {},
   "cell_type": "markdown",
   "metadata": {},
   "source": [
    "All News URL"
   ]
  },
  {
   "cell_type": "code",
   "execution_count": 12,
   "metadata": {},
   "outputs": [],
   "source": [
    "url_politics = \"https://www.thaipbs.or.th/news/categories/politics/archive?section=politics&page=1\"\n",
    "url_crime = \"https://www.thaipbs.or.th/news/categories/crime/archive?section=crime&page=1\"\n",
    "url_sport = \"https://www.thaipbs.or.th/news/categories/sport/archive?section=sport&page=1\"\n",
    "url_economy = \"https://www.thaipbs.or.th/news/categories/economy/archive?page=1\"\n",
    "url_tech = \"https://www.thaipbs.or.th/news/categories/tech/archive?page=1&section=tech\""
   ]
  },
  {
   "attachments": {},
   "cell_type": "markdown",
   "metadata": {},
   "source": [
    "Politics news"
   ]
  },
  {
   "cell_type": "code",
   "execution_count": 5,
   "metadata": {},
   "outputs": [],
   "source": [
    "df_url_politics = get_url_subpage(url_politics, 10)\n",
    "df_politics = create_news_df(df_url_politics)"
   ]
  },
  {
   "cell_type": "code",
   "execution_count": 6,
   "metadata": {},
   "outputs": [
    {
     "data": {
      "text/html": [
       "<div>\n",
       "<style scoped>\n",
       "    .dataframe tbody tr th:only-of-type {\n",
       "        vertical-align: middle;\n",
       "    }\n",
       "\n",
       "    .dataframe tbody tr th {\n",
       "        vertical-align: top;\n",
       "    }\n",
       "\n",
       "    .dataframe thead th {\n",
       "        text-align: right;\n",
       "    }\n",
       "</style>\n",
       "<table border=\"1\" class=\"dataframe\">\n",
       "  <thead>\n",
       "    <tr style=\"text-align: right;\">\n",
       "      <th></th>\n",
       "      <th>title</th>\n",
       "      <th>context</th>\n",
       "      <th>label</th>\n",
       "    </tr>\n",
       "  </thead>\n",
       "  <tbody>\n",
       "    <tr>\n",
       "      <th>0</th>\n",
       "      <td>วันแรก รับสมัคร ส.ส.แบ่งเขต กทม.เป็นไปอย่างเรี...</td>\n",
       "      <td>วันแรก รับสมัครเลือกตั้ง ส.ส.แบ่งเขตวันแรกคึกค...</td>\n",
       "      <td>การเมือง</td>\n",
       "    </tr>\n",
       "    <tr>\n",
       "      <th>1</th>\n",
       "      <td>\"โรม\" นำทีมว่าที่ผู้สมัคร ส.ส.นครศรีฯ ทั้ง 10 ...</td>\n",
       "      <td>ก้าวไกล ดาวกระจายสมัคร ส.ส.ทั่วประเทศ บรรยากาศ...</td>\n",
       "      <td>การเมือง</td>\n",
       "    </tr>\n",
       "    <tr>\n",
       "      <th>2</th>\n",
       "      <td>\"พิธา\" นำทีมผู้สมัคร ส.ส. 33 เขต กทม.ขึ้นรถปรา...</td>\n",
       "      <td>ส.ส.ก้าวไกล ขึ้นรถปราศรัยหลังจับเบอร์ผู้สมัคร ...</td>\n",
       "      <td>การเมือง</td>\n",
       "    </tr>\n",
       "    <tr>\n",
       "      <th>3</th>\n",
       "      <td>\"บิ๊กตู่\" เปิดใจไม่ลงปาร์ตี้ลิสต์เหตุงานเยอะ อ...</td>\n",
       "      <td>พล.อ.ประยุทธ์ ย้ำไม่จับมือทุกพรรค ไม่มีเงื่อนไ...</td>\n",
       "      <td>การเมือง</td>\n",
       "    </tr>\n",
       "    <tr>\n",
       "      <th>4</th>\n",
       "      <td>กกต.เตือน ส.ส. ได้เบอร์ \"อย่าแห่หาเสียง\" 7 เม....</td>\n",
       "      <td>กกต.พอใจรับสมัครส.ส.วันแรก รอตรวจคุณสมบัติอีก ...</td>\n",
       "      <td>การเมือง</td>\n",
       "    </tr>\n",
       "  </tbody>\n",
       "</table>\n",
       "</div>"
      ],
      "text/plain": [
       "                                               title  \\\n",
       "0  วันแรก รับสมัคร ส.ส.แบ่งเขต กทม.เป็นไปอย่างเรี...   \n",
       "1  \"โรม\" นำทีมว่าที่ผู้สมัคร ส.ส.นครศรีฯ ทั้ง 10 ...   \n",
       "2  \"พิธา\" นำทีมผู้สมัคร ส.ส. 33 เขต กทม.ขึ้นรถปรา...   \n",
       "3  \"บิ๊กตู่\" เปิดใจไม่ลงปาร์ตี้ลิสต์เหตุงานเยอะ อ...   \n",
       "4  กกต.เตือน ส.ส. ได้เบอร์ \"อย่าแห่หาเสียง\" 7 เม....   \n",
       "\n",
       "                                             context     label  \n",
       "0  วันแรก รับสมัครเลือกตั้ง ส.ส.แบ่งเขตวันแรกคึกค...  การเมือง  \n",
       "1  ก้าวไกล ดาวกระจายสมัคร ส.ส.ทั่วประเทศ บรรยากาศ...  การเมือง  \n",
       "2  ส.ส.ก้าวไกล ขึ้นรถปราศรัยหลังจับเบอร์ผู้สมัคร ...  การเมือง  \n",
       "3  พล.อ.ประยุทธ์ ย้ำไม่จับมือทุกพรรค ไม่มีเงื่อนไ...  การเมือง  \n",
       "4  กกต.พอใจรับสมัครส.ส.วันแรก รอตรวจคุณสมบัติอีก ...  การเมือง  "
      ]
     },
     "execution_count": 6,
     "metadata": {},
     "output_type": "execute_result"
    }
   ],
   "source": [
    "df_politics.head()"
   ]
  },
  {
   "cell_type": "code",
   "execution_count": 7,
   "metadata": {},
   "outputs": [
    {
     "data": {
      "text/plain": [
       "(227, 3)"
      ]
     },
     "execution_count": 7,
     "metadata": {},
     "output_type": "execute_result"
    }
   ],
   "source": [
    "df_politics.shape"
   ]
  },
  {
   "attachments": {},
   "cell_type": "markdown",
   "metadata": {},
   "source": [
    "Crime news"
   ]
  },
  {
   "cell_type": "code",
   "execution_count": 8,
   "metadata": {},
   "outputs": [],
   "source": [
    "df_url_crime = get_url_subpage(url_crime, 10)\n",
    "df_crime = create_news_df(df_url_crime)"
   ]
  },
  {
   "cell_type": "code",
   "execution_count": 9,
   "metadata": {},
   "outputs": [
    {
     "data": {
      "text/html": [
       "<div>\n",
       "<style scoped>\n",
       "    .dataframe tbody tr th:only-of-type {\n",
       "        vertical-align: middle;\n",
       "    }\n",
       "\n",
       "    .dataframe tbody tr th {\n",
       "        vertical-align: top;\n",
       "    }\n",
       "\n",
       "    .dataframe thead th {\n",
       "        text-align: right;\n",
       "    }\n",
       "</style>\n",
       "<table border=\"1\" class=\"dataframe\">\n",
       "  <thead>\n",
       "    <tr style=\"text-align: right;\">\n",
       "      <th></th>\n",
       "      <th>title</th>\n",
       "      <th>context</th>\n",
       "      <th>label</th>\n",
       "    </tr>\n",
       "  </thead>\n",
       "  <tbody>\n",
       "    <tr>\n",
       "      <th>0</th>\n",
       "      <td>ศาลสั่งปิดเว็บ \"9near\" อ้างมีข้อมูลคนไทย 55 ล้...</td>\n",
       "      <td>ศาลสั่งปิดเว็บไซต์ 9near.org หลังระบุมีข้อมูลค...</td>\n",
       "      <td>อาชญากรรม</td>\n",
       "    </tr>\n",
       "    <tr>\n",
       "      <th>1</th>\n",
       "      <td>ผบ.ตร.สั่งประสานตำรวจสากลขอหมายแดง จับแก๊งอุ้ม...</td>\n",
       "      <td>ผบ.ตร.สั่งการประสานตำรวจสากลขอหมายแดง ติดตามกล...</td>\n",
       "      <td>อาชญากรรม</td>\n",
       "    </tr>\n",
       "    <tr>\n",
       "      <th>2</th>\n",
       "      <td>\"รู้ตัว 9near\" ฝีมือแฮกเกอร์ไทยขู่ข้อมูลหลุด 5...</td>\n",
       "      <td>\"ชัยวุฒิ\" ระบุรู้ตัวผู้ใช้บัญชี “9near” ที่อ้า...</td>\n",
       "      <td>อาชญากรรม</td>\n",
       "    </tr>\n",
       "    <tr>\n",
       "      <th>3</th>\n",
       "      <td>พบศพชายในวิทยาลัยชื่อดังพิษณุโลก ร่างกายมีแผลถ...</td>\n",
       "      <td>พบศพชายไม่ทราบชื่อ ผมยาว เจาะหู จัดฟัน มีรอยสั...</td>\n",
       "      <td>อาชญากรรม</td>\n",
       "    </tr>\n",
       "    <tr>\n",
       "      <th>4</th>\n",
       "      <td>\"อนันต์ชัย\" ฟ้อง \"สันธนะ\" หมิ่นประมาท ยัน \"สวน...</td>\n",
       "      <td>\"ทนายอนันต์ชัย\" ขึ้นศาลฟ้อง \"สันธนะ\" หมิ่นประม...</td>\n",
       "      <td>อาชญากรรม</td>\n",
       "    </tr>\n",
       "  </tbody>\n",
       "</table>\n",
       "</div>"
      ],
      "text/plain": [
       "                                               title  \\\n",
       "0  ศาลสั่งปิดเว็บ \"9near\" อ้างมีข้อมูลคนไทย 55 ล้...   \n",
       "1  ผบ.ตร.สั่งประสานตำรวจสากลขอหมายแดง จับแก๊งอุ้ม...   \n",
       "2  \"รู้ตัว 9near\" ฝีมือแฮกเกอร์ไทยขู่ข้อมูลหลุด 5...   \n",
       "3  พบศพชายในวิทยาลัยชื่อดังพิษณุโลก ร่างกายมีแผลถ...   \n",
       "4  \"อนันต์ชัย\" ฟ้อง \"สันธนะ\" หมิ่นประมาท ยัน \"สวน...   \n",
       "\n",
       "                                             context      label  \n",
       "0  ศาลสั่งปิดเว็บไซต์ 9near.org หลังระบุมีข้อมูลค...  อาชญากรรม  \n",
       "1  ผบ.ตร.สั่งการประสานตำรวจสากลขอหมายแดง ติดตามกล...  อาชญากรรม  \n",
       "2  \"ชัยวุฒิ\" ระบุรู้ตัวผู้ใช้บัญชี “9near” ที่อ้า...  อาชญากรรม  \n",
       "3  พบศพชายไม่ทราบชื่อ ผมยาว เจาะหู จัดฟัน มีรอยสั...  อาชญากรรม  \n",
       "4  \"ทนายอนันต์ชัย\" ขึ้นศาลฟ้อง \"สันธนะ\" หมิ่นประม...  อาชญากรรม  "
      ]
     },
     "execution_count": 9,
     "metadata": {},
     "output_type": "execute_result"
    }
   ],
   "source": [
    "df_crime.head()"
   ]
  },
  {
   "cell_type": "code",
   "execution_count": 10,
   "metadata": {},
   "outputs": [
    {
     "data": {
      "text/plain": [
       "(236, 3)"
      ]
     },
     "execution_count": 10,
     "metadata": {},
     "output_type": "execute_result"
    }
   ],
   "source": [
    "df_crime.shape"
   ]
  },
  {
   "attachments": {},
   "cell_type": "markdown",
   "metadata": {},
   "source": [
    "Sport news"
   ]
  },
  {
   "cell_type": "code",
   "execution_count": 13,
   "metadata": {},
   "outputs": [],
   "source": [
    "df_url_sport = get_url_subpage(url_sport, 10)\n",
    "df_sport = create_news_df(df_url_sport)"
   ]
  },
  {
   "cell_type": "code",
   "execution_count": 14,
   "metadata": {},
   "outputs": [
    {
     "data": {
      "text/html": [
       "<div>\n",
       "<style scoped>\n",
       "    .dataframe tbody tr th:only-of-type {\n",
       "        vertical-align: middle;\n",
       "    }\n",
       "\n",
       "    .dataframe tbody tr th {\n",
       "        vertical-align: top;\n",
       "    }\n",
       "\n",
       "    .dataframe thead th {\n",
       "        text-align: right;\n",
       "    }\n",
       "</style>\n",
       "<table border=\"1\" class=\"dataframe\">\n",
       "  <thead>\n",
       "    <tr style=\"text-align: right;\">\n",
       "      <th></th>\n",
       "      <th>title</th>\n",
       "      <th>context</th>\n",
       "      <th>label</th>\n",
       "    </tr>\n",
       "  </thead>\n",
       "  <tbody>\n",
       "    <tr>\n",
       "      <th>0</th>\n",
       "      <td>\"ฮุน เซน\" สั่งไม่เก็บค่าลิขสิทธิ์ถ่ายทอดสด \"ซี...</td>\n",
       "      <td>สมเด็จ ฮุน เซน ประกาศจะให้ลิขสิทธิ์ถ่ายทอดสดกา...</td>\n",
       "      <td>กีฬา</td>\n",
       "    </tr>\n",
       "    <tr>\n",
       "      <th>1</th>\n",
       "      <td>อินโดนีเซีย เสียสิทธิจัดบอลโลกยู-20</td>\n",
       "      <td>อินโดนีเซีย เสียสิทธิ์การเป็นเจ้าภาพจัดฟุตบอลโ...</td>\n",
       "      <td>กีฬา</td>\n",
       "    </tr>\n",
       "    <tr>\n",
       "      <th>2</th>\n",
       "      <td>ทีมชาติไทย 0-2 ยูเออี ปิดฉากฟุตบอลอุ่นเครื่องฟ...</td>\n",
       "      <td>ทีมชาติไทย พ่ายเจ้าภาพยูเออี 0-2 ประตู ปิดฉากก...</td>\n",
       "      <td>กีฬา</td>\n",
       "    </tr>\n",
       "    <tr>\n",
       "      <th>3</th>\n",
       "      <td>สกอตแลนด์ เอาชนะ สเปน 2-0 บอลคัดเลือกยูโร 2024</td>\n",
       "      <td>\"แม็คโทมิเนย์\" ระเบิดฟอร์มร่างทอง เหมา 2 ประตู...</td>\n",
       "      <td>กีฬา</td>\n",
       "    </tr>\n",
       "    <tr>\n",
       "      <th>4</th>\n",
       "      <td>ฝุ่นพิษสูง \"เชียงรายยูไนเต็ด\" ส่งหนังสือเลื่อน...</td>\n",
       "      <td>\"สโมสร ลีโอ เชียงราย ยูไนเต็ด\" ทำหนังสือถึงไทย...</td>\n",
       "      <td>กีฬา</td>\n",
       "    </tr>\n",
       "    <tr>\n",
       "      <th>...</th>\n",
       "      <td>...</td>\n",
       "      <td>...</td>\n",
       "      <td>...</td>\n",
       "    </tr>\n",
       "    <tr>\n",
       "      <th>235</th>\n",
       "      <td>คู่พี่น้อง \"เอี่ยมสอาด\" คว้าแชมป์หญิงคู่ที่เยอ...</td>\n",
       "      <td>นักแบดมินตัน 2 พี่น้อง \"เอี่ยมสอาด\" โชว์ฟอร์มเ...</td>\n",
       "      <td>กีฬา</td>\n",
       "    </tr>\n",
       "    <tr>\n",
       "      <th>236</th>\n",
       "      <td>กาตาร์เดินหน้าจัด \"บอลโลก\" เมินคำประท้วงด้านสิ...</td>\n",
       "      <td>เหลือเวลาอีก 2 สัปดาห์กับการแข่งขัน \"บอลโลก 20...</td>\n",
       "      <td>กีฬา</td>\n",
       "    </tr>\n",
       "    <tr>\n",
       "      <th>237</th>\n",
       "      <td>\"เทนนิส-พาณิภัค\" พร้อมลุยศึกเทควันโดโลก</td>\n",
       "      <td>\"เทนนิส-พาณิภัค\" พร้อมลุยศึกเทควันโดชิงแชมป์โล...</td>\n",
       "      <td>กีฬา</td>\n",
       "    </tr>\n",
       "    <tr>\n",
       "      <th>238</th>\n",
       "      <td>ประกาศชื่อ 75 แข้งช้างศึก เตรียมทีมลุยศึกชิงแช...</td>\n",
       "      <td>มาโน ประกาศรายชื่อ 75 แข้งช้างศึก ก่อนจะตัดตัว...</td>\n",
       "      <td>กีฬา</td>\n",
       "    </tr>\n",
       "    <tr>\n",
       "      <th>239</th>\n",
       "      <td>โค้งสุดท้าย เจรจาหั่นราคาลิขสิทธิ์ฟุตบอลโลก</td>\n",
       "      <td>คนไทยจะได้ดูฟุตบอลโลก 2022 สดทางฟรีทีวีอย่างแน...</td>\n",
       "      <td>กีฬา</td>\n",
       "    </tr>\n",
       "  </tbody>\n",
       "</table>\n",
       "<p>240 rows × 3 columns</p>\n",
       "</div>"
      ],
      "text/plain": [
       "                                                 title  \\\n",
       "0    \"ฮุน เซน\" สั่งไม่เก็บค่าลิขสิทธิ์ถ่ายทอดสด \"ซี...   \n",
       "1                  อินโดนีเซีย เสียสิทธิจัดบอลโลกยู-20   \n",
       "2    ทีมชาติไทย 0-2 ยูเออี ปิดฉากฟุตบอลอุ่นเครื่องฟ...   \n",
       "3       สกอตแลนด์ เอาชนะ สเปน 2-0 บอลคัดเลือกยูโร 2024   \n",
       "4    ฝุ่นพิษสูง \"เชียงรายยูไนเต็ด\" ส่งหนังสือเลื่อน...   \n",
       "..                                                 ...   \n",
       "235  คู่พี่น้อง \"เอี่ยมสอาด\" คว้าแชมป์หญิงคู่ที่เยอ...   \n",
       "236  กาตาร์เดินหน้าจัด \"บอลโลก\" เมินคำประท้วงด้านสิ...   \n",
       "237            \"เทนนิส-พาณิภัค\" พร้อมลุยศึกเทควันโดโลก   \n",
       "238  ประกาศชื่อ 75 แข้งช้างศึก เตรียมทีมลุยศึกชิงแช...   \n",
       "239        โค้งสุดท้าย เจรจาหั่นราคาลิขสิทธิ์ฟุตบอลโลก   \n",
       "\n",
       "                                               context label  \n",
       "0    สมเด็จ ฮุน เซน ประกาศจะให้ลิขสิทธิ์ถ่ายทอดสดกา...  กีฬา  \n",
       "1    อินโดนีเซีย เสียสิทธิ์การเป็นเจ้าภาพจัดฟุตบอลโ...  กีฬา  \n",
       "2    ทีมชาติไทย พ่ายเจ้าภาพยูเออี 0-2 ประตู ปิดฉากก...  กีฬา  \n",
       "3    \"แม็คโทมิเนย์\" ระเบิดฟอร์มร่างทอง เหมา 2 ประตู...  กีฬา  \n",
       "4    \"สโมสร ลีโอ เชียงราย ยูไนเต็ด\" ทำหนังสือถึงไทย...  กีฬา  \n",
       "..                                                 ...   ...  \n",
       "235  นักแบดมินตัน 2 พี่น้อง \"เอี่ยมสอาด\" โชว์ฟอร์มเ...  กีฬา  \n",
       "236  เหลือเวลาอีก 2 สัปดาห์กับการแข่งขัน \"บอลโลก 20...  กีฬา  \n",
       "237  \"เทนนิส-พาณิภัค\" พร้อมลุยศึกเทควันโดชิงแชมป์โล...  กีฬา  \n",
       "238  มาโน ประกาศรายชื่อ 75 แข้งช้างศึก ก่อนจะตัดตัว...  กีฬา  \n",
       "239  คนไทยจะได้ดูฟุตบอลโลก 2022 สดทางฟรีทีวีอย่างแน...  กีฬา  \n",
       "\n",
       "[240 rows x 3 columns]"
      ]
     },
     "execution_count": 14,
     "metadata": {},
     "output_type": "execute_result"
    }
   ],
   "source": [
    "df_sport"
   ]
  },
  {
   "attachments": {},
   "cell_type": "markdown",
   "metadata": {},
   "source": [
    "Economy news"
   ]
  },
  {
   "cell_type": "code",
   "execution_count": 15,
   "metadata": {},
   "outputs": [],
   "source": [
    "df_url_economy = get_url_subpage(url_economy, 10)\n",
    "df_economy = create_news_df(df_url_economy)"
   ]
  },
  {
   "cell_type": "code",
   "execution_count": 16,
   "metadata": {},
   "outputs": [
    {
     "data": {
      "text/html": [
       "<div>\n",
       "<style scoped>\n",
       "    .dataframe tbody tr th:only-of-type {\n",
       "        vertical-align: middle;\n",
       "    }\n",
       "\n",
       "    .dataframe tbody tr th {\n",
       "        vertical-align: top;\n",
       "    }\n",
       "\n",
       "    .dataframe thead th {\n",
       "        text-align: right;\n",
       "    }\n",
       "</style>\n",
       "<table border=\"1\" class=\"dataframe\">\n",
       "  <thead>\n",
       "    <tr style=\"text-align: right;\">\n",
       "      <th></th>\n",
       "      <th>title</th>\n",
       "      <th>context</th>\n",
       "      <th>label</th>\n",
       "    </tr>\n",
       "  </thead>\n",
       "  <tbody>\n",
       "    <tr>\n",
       "      <th>0</th>\n",
       "      <td>คลังเผยยอดใช้ \"บัตรสวัสดิการฯ\" 1,990 ล้านบาท</td>\n",
       "      <td>กระทรวงการคลัง เผยยอดใช้จ่ายผ่านบัตรสวัสดิการแ...</td>\n",
       "      <td>เศรษฐกิจ</td>\n",
       "    </tr>\n",
       "    <tr>\n",
       "      <th>1</th>\n",
       "      <td>กบน.ลดราคาดีเซลลงอีกลิตรละ 50 สต. มีผล 7 เม.ย.นี้</td>\n",
       "      <td>กบน.อนุมัติลดราคาขายปลีกน้ำมันดีเซลลงอีก 0.50 ...</td>\n",
       "      <td>เศรษฐกิจ</td>\n",
       "    </tr>\n",
       "    <tr>\n",
       "      <th>2</th>\n",
       "      <td>\"กรุงไทย\" ยอมถอยเก็บค่าธรรมเนียมถอนเงินไม่ใช่บ...</td>\n",
       "      <td>\"กรุงไทย\" ยอมถอย ยกเว้นเก็บค่าธรรมเนียมครั้งละ...</td>\n",
       "      <td>เศรษฐกิจ</td>\n",
       "    </tr>\n",
       "    <tr>\n",
       "      <th>3</th>\n",
       "      <td>เช็กสิทธิ-เช็กเงิน 1 เม.ย.เริ่มใช้บัตรสวัสดิกา...</td>\n",
       "      <td>กระทรวงการคลัง ระบุผู้ผ่านเกณฑ์พิจารณาคุณสมบัต...</td>\n",
       "      <td>เศรษฐกิจ</td>\n",
       "    </tr>\n",
       "    <tr>\n",
       "      <th>4</th>\n",
       "      <td>อากาศร้อน กฟน.คาดใช้ไฟฟ้าพีคสุดของปี พ.ค.นี้</td>\n",
       "      <td>การไฟฟ้านครหลวง คาดการณ์ความต้องการใช้พลังไฟฟ้...</td>\n",
       "      <td>เศรษฐกิจ</td>\n",
       "    </tr>\n",
       "    <tr>\n",
       "      <th>...</th>\n",
       "      <td>...</td>\n",
       "      <td>...</td>\n",
       "      <td>...</td>\n",
       "    </tr>\n",
       "    <tr>\n",
       "      <th>235</th>\n",
       "      <td>ธุรกิจ ดาวรุ่ง-ดาวร่วง ปี 66 หลังสถานการณ์โควิ...</td>\n",
       "      <td>สถานการณ์โควิด-19 หลายธุรกิจเริ่มที่จะฟื้นตัว ...</td>\n",
       "      <td>เศรษฐกิจ</td>\n",
       "    </tr>\n",
       "    <tr>\n",
       "      <th>236</th>\n",
       "      <td>บขส.เผยผู้โดยสารจองตั๋วล่วงหน้าเดินทางปีใหม่กว...</td>\n",
       "      <td>บขส.คาดการณ์เทศกาลปีใหม่ 2566 มีประชาชนเดินทาง...</td>\n",
       "      <td>เศรษฐกิจ</td>\n",
       "    </tr>\n",
       "    <tr>\n",
       "      <th>237</th>\n",
       "      <td>วันนี้! โอนเงินช่วยชาวนาอีก 1,100 ล้านบาท</td>\n",
       "      <td>ธ.ก.ส. โอนเงินช่วยเหลือให้เกษตรกรผู้ปลูกข้าวสำ...</td>\n",
       "      <td>เศรษฐกิจ</td>\n",
       "    </tr>\n",
       "    <tr>\n",
       "      <th>238</th>\n",
       "      <td>ครม.ไฟเขียว “ช้อปดีมีคืน-ลดภาษีที่ดิน-ลดค่าธรร...</td>\n",
       "      <td>ครม.เห็นชอบของขวัญปีใหม่ 2566 จาก ก.คลัง ทั้งช...</td>\n",
       "      <td>เศรษฐกิจ</td>\n",
       "    </tr>\n",
       "    <tr>\n",
       "      <th>239</th>\n",
       "      <td>เอกชนเตรียมจัดเคานต์ดาวน์ 2023 กระตุ้นเศรษฐกิจ</td>\n",
       "      <td>ธุรกิจย่านราชประสงค์เตรียมจัดเคานต์ดาวน์ 2023 ...</td>\n",
       "      <td>เศรษฐกิจ</td>\n",
       "    </tr>\n",
       "  </tbody>\n",
       "</table>\n",
       "<p>240 rows × 3 columns</p>\n",
       "</div>"
      ],
      "text/plain": [
       "                                                 title  \\\n",
       "0         คลังเผยยอดใช้ \"บัตรสวัสดิการฯ\" 1,990 ล้านบาท   \n",
       "1    กบน.ลดราคาดีเซลลงอีกลิตรละ 50 สต. มีผล 7 เม.ย.นี้   \n",
       "2    \"กรุงไทย\" ยอมถอยเก็บค่าธรรมเนียมถอนเงินไม่ใช่บ...   \n",
       "3    เช็กสิทธิ-เช็กเงิน 1 เม.ย.เริ่มใช้บัตรสวัสดิกา...   \n",
       "4         อากาศร้อน กฟน.คาดใช้ไฟฟ้าพีคสุดของปี พ.ค.นี้   \n",
       "..                                                 ...   \n",
       "235  ธุรกิจ ดาวรุ่ง-ดาวร่วง ปี 66 หลังสถานการณ์โควิ...   \n",
       "236  บขส.เผยผู้โดยสารจองตั๋วล่วงหน้าเดินทางปีใหม่กว...   \n",
       "237          วันนี้! โอนเงินช่วยชาวนาอีก 1,100 ล้านบาท   \n",
       "238  ครม.ไฟเขียว “ช้อปดีมีคืน-ลดภาษีที่ดิน-ลดค่าธรร...   \n",
       "239     เอกชนเตรียมจัดเคานต์ดาวน์ 2023 กระตุ้นเศรษฐกิจ   \n",
       "\n",
       "                                               context     label  \n",
       "0    กระทรวงการคลัง เผยยอดใช้จ่ายผ่านบัตรสวัสดิการแ...  เศรษฐกิจ  \n",
       "1    กบน.อนุมัติลดราคาขายปลีกน้ำมันดีเซลลงอีก 0.50 ...  เศรษฐกิจ  \n",
       "2    \"กรุงไทย\" ยอมถอย ยกเว้นเก็บค่าธรรมเนียมครั้งละ...  เศรษฐกิจ  \n",
       "3    กระทรวงการคลัง ระบุผู้ผ่านเกณฑ์พิจารณาคุณสมบัต...  เศรษฐกิจ  \n",
       "4    การไฟฟ้านครหลวง คาดการณ์ความต้องการใช้พลังไฟฟ้...  เศรษฐกิจ  \n",
       "..                                                 ...       ...  \n",
       "235  สถานการณ์โควิด-19 หลายธุรกิจเริ่มที่จะฟื้นตัว ...  เศรษฐกิจ  \n",
       "236  บขส.คาดการณ์เทศกาลปีใหม่ 2566 มีประชาชนเดินทาง...  เศรษฐกิจ  \n",
       "237  ธ.ก.ส. โอนเงินช่วยเหลือให้เกษตรกรผู้ปลูกข้าวสำ...  เศรษฐกิจ  \n",
       "238  ครม.เห็นชอบของขวัญปีใหม่ 2566 จาก ก.คลัง ทั้งช...  เศรษฐกิจ  \n",
       "239  ธุรกิจย่านราชประสงค์เตรียมจัดเคานต์ดาวน์ 2023 ...  เศรษฐกิจ  \n",
       "\n",
       "[240 rows x 3 columns]"
      ]
     },
     "execution_count": 16,
     "metadata": {},
     "output_type": "execute_result"
    }
   ],
   "source": [
    "df_economy"
   ]
  },
  {
   "cell_type": "code",
   "execution_count": 17,
   "metadata": {},
   "outputs": [
    {
     "data": {
      "text/plain": [
       "240"
      ]
     },
     "execution_count": 17,
     "metadata": {},
     "output_type": "execute_result"
    }
   ],
   "source": [
    "len(df_economy[\"title\"].unique())"
   ]
  },
  {
   "attachments": {},
   "cell_type": "markdown",
   "metadata": {},
   "source": [
    "Tech news"
   ]
  },
  {
   "cell_type": "code",
   "execution_count": 18,
   "metadata": {},
   "outputs": [],
   "source": [
    "df_url_tech = get_url_subpage(url_tech, 10)\n",
    "df_tech = create_news_df(df_url_tech)"
   ]
  },
  {
   "cell_type": "code",
   "execution_count": 19,
   "metadata": {},
   "outputs": [
    {
     "data": {
      "text/html": [
       "<div>\n",
       "<style scoped>\n",
       "    .dataframe tbody tr th:only-of-type {\n",
       "        vertical-align: middle;\n",
       "    }\n",
       "\n",
       "    .dataframe tbody tr th {\n",
       "        vertical-align: top;\n",
       "    }\n",
       "\n",
       "    .dataframe thead th {\n",
       "        text-align: right;\n",
       "    }\n",
       "</style>\n",
       "<table border=\"1\" class=\"dataframe\">\n",
       "  <thead>\n",
       "    <tr style=\"text-align: right;\">\n",
       "      <th></th>\n",
       "      <th>title</th>\n",
       "      <th>context</th>\n",
       "      <th>label</th>\n",
       "    </tr>\n",
       "  </thead>\n",
       "  <tbody>\n",
       "    <tr>\n",
       "      <th>0</th>\n",
       "      <td>\"เรือดำน้ำขนโคเคน\" หนทางลักลอบส่งยาเสพติดที่กำ...</td>\n",
       "      <td>เปิดเรื่องราวด้านมืดของเทคโนโลยี ผ่านเรือดำน้ำ...</td>\n",
       "      <td>วิทยาศาสตร์เทคโนโลยี</td>\n",
       "    </tr>\n",
       "    <tr>\n",
       "      <th>1</th>\n",
       "      <td>นักวิทย์ฯ พัฒนาวัคซีนสำหรับผึ้ง ลดการติดเชื้อแ...</td>\n",
       "      <td>นักวิทยาศาสตร์สหรัฐอเมริกาพัฒนาวัคซีนสำหรับผึ้...</td>\n",
       "      <td>วิทยาศาสตร์เทคโนโลยี</td>\n",
       "    </tr>\n",
       "    <tr>\n",
       "      <th>2</th>\n",
       "      <td>รถสำรวจดาวอังคารเผยภาพ \"ทิวเมฆ\" หายาก ช่วยบอกใ...</td>\n",
       "      <td>เพอร์เซเวียแรนซ์ (Perseverance) รถสำรวจดาวอังค...</td>\n",
       "      <td>วิทยาศาสตร์เทคโนโลยี</td>\n",
       "    </tr>\n",
       "    <tr>\n",
       "      <th>3</th>\n",
       "      <td>แผงโซลาร์เซลล์แบบถอดได้ ติดตั้งในช่องว่างบนราง...</td>\n",
       "      <td>สตาร์ตอัปสวิตเซอร์แลนด์คิดค้นการผลิตพลังงานแสง...</td>\n",
       "      <td>วิทยาศาสตร์เทคโนโลยี</td>\n",
       "    </tr>\n",
       "    <tr>\n",
       "      <th>4</th>\n",
       "      <td>อุปกรณ์บำบัดโรคเครียด PTSD จากอิสราเอล ช่วยระง...</td>\n",
       "      <td>อุปกรณ์ปรับคลื่นสมองแบบใหม่เพื่อช่วยบำบัดโรคเค...</td>\n",
       "      <td>วิทยาศาสตร์เทคโนโลยี</td>\n",
       "    </tr>\n",
       "    <tr>\n",
       "      <th>...</th>\n",
       "      <td>...</td>\n",
       "      <td>...</td>\n",
       "      <td>...</td>\n",
       "    </tr>\n",
       "    <tr>\n",
       "      <th>235</th>\n",
       "      <td>โซเชียลล่ารายชื่อ เรียกร้อง Instagram หยุดพยาย...</td>\n",
       "      <td>โซเชียลผุดแคมเปญ \"MAKE INSTAGRAM INSTAGRAM AGA...</td>\n",
       "      <td>วิทยาศาสตร์เทคโนโลยี</td>\n",
       "    </tr>\n",
       "    <tr>\n",
       "      <th>236</th>\n",
       "      <td>กังหันลมไร้ใบพัด เทคโนโลยีผลิตพลังงานสะอาดแห่ง...</td>\n",
       "      <td>สตาร์ตอัปสเปนผลิตกังหันลมไร้ใบพัด รูปทรงเรียวย...</td>\n",
       "      <td>วิทยาศาสตร์เทคโนโลยี</td>\n",
       "    </tr>\n",
       "    <tr>\n",
       "      <th>237</th>\n",
       "      <td>อังกฤษเตรียมใช้ “โดรนส่งยาคีโมรักษามะเร็ง” เป็...</td>\n",
       "      <td>อังกฤษเตรียมใช้โดรนช่วยขนส่งยาคีโมรักษามะเร็ง ...</td>\n",
       "      <td>วิทยาศาสตร์เทคโนโลยี</td>\n",
       "    </tr>\n",
       "    <tr>\n",
       "      <th>238</th>\n",
       "      <td>นักวิจัยพัฒนาเจลน้ำแข็ง ใช้ซ้ำได้ ไม่สิ้นเปลือ...</td>\n",
       "      <td>นักวิจัยจาก ม.แคลิฟอร์เนีย ได้พัฒนาเจลน้ำแข็งท...</td>\n",
       "      <td>วิทยาศาสตร์เทคโนโลยี</td>\n",
       "    </tr>\n",
       "    <tr>\n",
       "      <th>239</th>\n",
       "      <td>รู้จัก \"ณิชา ลีโทชวลิต\" นักวิจัยไทยร่วมค้นพบ \"...</td>\n",
       "      <td>สถาบันวิจัยดาราศาสตร์แห่งชาติ (สดร.) เปิดตัว ด...</td>\n",
       "      <td>วิทยาศาสตร์เทคโนโลยี</td>\n",
       "    </tr>\n",
       "  </tbody>\n",
       "</table>\n",
       "<p>240 rows × 3 columns</p>\n",
       "</div>"
      ],
      "text/plain": [
       "                                                 title  \\\n",
       "0    \"เรือดำน้ำขนโคเคน\" หนทางลักลอบส่งยาเสพติดที่กำ...   \n",
       "1    นักวิทย์ฯ พัฒนาวัคซีนสำหรับผึ้ง ลดการติดเชื้อแ...   \n",
       "2    รถสำรวจดาวอังคารเผยภาพ \"ทิวเมฆ\" หายาก ช่วยบอกใ...   \n",
       "3    แผงโซลาร์เซลล์แบบถอดได้ ติดตั้งในช่องว่างบนราง...   \n",
       "4    อุปกรณ์บำบัดโรคเครียด PTSD จากอิสราเอล ช่วยระง...   \n",
       "..                                                 ...   \n",
       "235  โซเชียลล่ารายชื่อ เรียกร้อง Instagram หยุดพยาย...   \n",
       "236  กังหันลมไร้ใบพัด เทคโนโลยีผลิตพลังงานสะอาดแห่ง...   \n",
       "237  อังกฤษเตรียมใช้ “โดรนส่งยาคีโมรักษามะเร็ง” เป็...   \n",
       "238  นักวิจัยพัฒนาเจลน้ำแข็ง ใช้ซ้ำได้ ไม่สิ้นเปลือ...   \n",
       "239  รู้จัก \"ณิชา ลีโทชวลิต\" นักวิจัยไทยร่วมค้นพบ \"...   \n",
       "\n",
       "                                               context                 label  \n",
       "0    เปิดเรื่องราวด้านมืดของเทคโนโลยี ผ่านเรือดำน้ำ...  วิทยาศาสตร์เทคโนโลยี  \n",
       "1    นักวิทยาศาสตร์สหรัฐอเมริกาพัฒนาวัคซีนสำหรับผึ้...  วิทยาศาสตร์เทคโนโลยี  \n",
       "2    เพอร์เซเวียแรนซ์ (Perseverance) รถสำรวจดาวอังค...  วิทยาศาสตร์เทคโนโลยี  \n",
       "3    สตาร์ตอัปสวิตเซอร์แลนด์คิดค้นการผลิตพลังงานแสง...  วิทยาศาสตร์เทคโนโลยี  \n",
       "4    อุปกรณ์ปรับคลื่นสมองแบบใหม่เพื่อช่วยบำบัดโรคเค...  วิทยาศาสตร์เทคโนโลยี  \n",
       "..                                                 ...                   ...  \n",
       "235  โซเชียลผุดแคมเปญ \"MAKE INSTAGRAM INSTAGRAM AGA...  วิทยาศาสตร์เทคโนโลยี  \n",
       "236  สตาร์ตอัปสเปนผลิตกังหันลมไร้ใบพัด รูปทรงเรียวย...  วิทยาศาสตร์เทคโนโลยี  \n",
       "237  อังกฤษเตรียมใช้โดรนช่วยขนส่งยาคีโมรักษามะเร็ง ...  วิทยาศาสตร์เทคโนโลยี  \n",
       "238  นักวิจัยจาก ม.แคลิฟอร์เนีย ได้พัฒนาเจลน้ำแข็งท...  วิทยาศาสตร์เทคโนโลยี  \n",
       "239  สถาบันวิจัยดาราศาสตร์แห่งชาติ (สดร.) เปิดตัว ด...  วิทยาศาสตร์เทคโนโลยี  \n",
       "\n",
       "[240 rows x 3 columns]"
      ]
     },
     "execution_count": 19,
     "metadata": {},
     "output_type": "execute_result"
    }
   ],
   "source": [
    "df_tech"
   ]
  },
  {
   "attachments": {},
   "cell_type": "markdown",
   "metadata": {},
   "source": [
    "Combine All dataframe"
   ]
  },
  {
   "cell_type": "code",
   "execution_count": 20,
   "metadata": {},
   "outputs": [],
   "source": [
    "df_news = pd.concat([df_politics, df_crime, df_economy, df_sport, df_tech])"
   ]
  },
  {
   "cell_type": "code",
   "execution_count": 21,
   "metadata": {},
   "outputs": [
    {
     "data": {
      "text/plain": [
       "(1183, 3)"
      ]
     },
     "execution_count": 21,
     "metadata": {},
     "output_type": "execute_result"
    }
   ],
   "source": [
    "df_news.shape"
   ]
  },
  {
   "cell_type": "code",
   "execution_count": 24,
   "metadata": {},
   "outputs": [
    {
     "data": {
      "text/plain": [
       "กีฬา                    240\n",
       "วิทยาศาสตร์เทคโนโลยี    240\n",
       "เศรษฐกิจ                240\n",
       "อาชญากรรม               236\n",
       "การเมือง                227\n",
       "Name: label, dtype: int64"
      ]
     },
     "execution_count": 24,
     "metadata": {},
     "output_type": "execute_result"
    }
   ],
   "source": [
    "df_news[\"label\"].value_counts()"
   ]
  },
  {
   "cell_type": "code",
   "execution_count": 25,
   "metadata": {},
   "outputs": [],
   "source": [
    "df_news.to_csv(\"thai_news.csv\",encoding=\"utf-8-sig\")"
   ]
  },
  {
   "cell_type": "code",
   "execution_count": null,
   "metadata": {},
   "outputs": [],
   "source": []
  }
 ],
 "metadata": {
  "kernelspec": {
   "display_name": "base",
   "language": "python",
   "name": "python3"
  },
  "language_info": {
   "codemirror_mode": {
    "name": "ipython",
    "version": 3
   },
   "file_extension": ".py",
   "mimetype": "text/x-python",
   "name": "python",
   "nbconvert_exporter": "python",
   "pygments_lexer": "ipython3",
   "version": "3.8.8"
  },
  "orig_nbformat": 4,
  "vscode": {
   "interpreter": {
    "hash": "3991375c03134f47da44567c1f992211e9f4326d3b9b169758b2e572fe780881"
   }
  }
 },
 "nbformat": 4,
 "nbformat_minor": 2
}
